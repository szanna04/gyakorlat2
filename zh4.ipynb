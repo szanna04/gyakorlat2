{
    "metadata": {
        "kernelspec": {
            "name": "SQL",
            "display_name": "SQL",
            "language": "sql"
        },
        "language_info": {
            "name": "sql",
            "version": ""
        }
    },
    "nbformat_minor": 2,
    "nbformat": 4,
    "cells": [
        {
            "cell_type": "markdown",
            "source": [
                "1\\. Jelenítsük meg minden egyes szoba esetén, hogy hányszor foglalták le!\n",
                "\n",
                "- Csak a szoba azonosítója és a foglalások darabszáma jelenjen meg\n",
                "- Azok a szobák is jelenjenek meg, ahol nem történt foglalás"
            ],
            "metadata": {
                "azdata_cell_guid": "106eaff5-e834-4a04-9d42-2b7212e14a8b"
            },
            "attachments": {}
        },
        {
            "cell_type": "code",
            "source": [
                "SELECT sz.szoba_id,\r\n",
                "        count(*)\r\n",
                "from Szoba sz left join foglalas f on sz.szoba_id = f.szoba_fk\r\n",
                "group by sz.szoba_id"
            ],
            "metadata": {
                "azdata_cell_guid": "c665d075-cee5-43b6-8486-b769cd3266f1",
                "language": "sql"
            },
            "outputs": [
                {
                    "output_type": "display_data",
                    "data": {
                        "text/html": "(294 rows affected)"
                    },
                    "metadata": {}
                },
                {
                    "output_type": "display_data",
                    "data": {
                        "text/html": "Total execution time: 00:00:00.048"
                    },
                    "metadata": {}
                },
                {
                    "output_type": "execute_result",
                    "metadata": {},
                    "execution_count": 10,
                    "data": {
                        "application/vnd.dataresource+json": {
                            "schema": {
                                "fields": [
                                    {
                                        "name": "szoba_id"
                                    },
                                    {
                                        "name": "(No column name)"
                                    }
                                ]
                            },
                            "data": [
                                {
                                    "szoba_id": "1",
                                    "(No column name)": "8"
                                },
                                {
                                    "szoba_id": "2",
                                    "(No column name)": "4"
                                },
                                {
                                    "szoba_id": "3",
                                    "(No column name)": "8"
                                },
                                {
                                    "szoba_id": "4",
                                    "(No column name)": "6"
                                },
                                {
                                    "szoba_id": "5",
                                    "(No column name)": "4"
                                },
                                {
                                    "szoba_id": "6",
                                    "(No column name)": "6"
                                },
                                {
                                    "szoba_id": "7",
                                    "(No column name)": "6"
                                },
                                {
                                    "szoba_id": "8",
                                    "(No column name)": "5"
                                },
                                {
                                    "szoba_id": "9",
                                    "(No column name)": "6"
                                },
                                {
                                    "szoba_id": "10",
                                    "(No column name)": "4"
                                },
                                {
                                    "szoba_id": "11",
                                    "(No column name)": "4"
                                },
                                {
                                    "szoba_id": "12",
                                    "(No column name)": "9"
                                },
                                {
                                    "szoba_id": "13",
                                    "(No column name)": "4"
                                },
                                {
                                    "szoba_id": "14",
                                    "(No column name)": "3"
                                },
                                {
                                    "szoba_id": "15",
                                    "(No column name)": "6"
                                },
                                {
                                    "szoba_id": "16",
                                    "(No column name)": "5"
                                },
                                {
                                    "szoba_id": "17",
                                    "(No column name)": "6"
                                },
                                {
                                    "szoba_id": "18",
                                    "(No column name)": "6"
                                },
                                {
                                    "szoba_id": "19",
                                    "(No column name)": "6"
                                },
                                {
                                    "szoba_id": "20",
                                    "(No column name)": "5"
                                },
                                {
                                    "szoba_id": "21",
                                    "(No column name)": "4"
                                },
                                {
                                    "szoba_id": "22",
                                    "(No column name)": "6"
                                },
                                {
                                    "szoba_id": "23",
                                    "(No column name)": "3"
                                },
                                {
                                    "szoba_id": "24",
                                    "(No column name)": "3"
                                },
                                {
                                    "szoba_id": "25",
                                    "(No column name)": "2"
                                },
                                {
                                    "szoba_id": "26",
                                    "(No column name)": "2"
                                },
                                {
                                    "szoba_id": "27",
                                    "(No column name)": "7"
                                },
                                {
                                    "szoba_id": "28",
                                    "(No column name)": "6"
                                },
                                {
                                    "szoba_id": "29",
                                    "(No column name)": "6"
                                },
                                {
                                    "szoba_id": "30",
                                    "(No column name)": "3"
                                },
                                {
                                    "szoba_id": "31",
                                    "(No column name)": "3"
                                },
                                {
                                    "szoba_id": "32",
                                    "(No column name)": "1"
                                },
                                {
                                    "szoba_id": "33",
                                    "(No column name)": "6"
                                },
                                {
                                    "szoba_id": "34",
                                    "(No column name)": "4"
                                },
                                {
                                    "szoba_id": "35",
                                    "(No column name)": "9"
                                },
                                {
                                    "szoba_id": "36",
                                    "(No column name)": "6"
                                },
                                {
                                    "szoba_id": "37",
                                    "(No column name)": "3"
                                },
                                {
                                    "szoba_id": "38",
                                    "(No column name)": "8"
                                },
                                {
                                    "szoba_id": "39",
                                    "(No column name)": "7"
                                },
                                {
                                    "szoba_id": "40",
                                    "(No column name)": "4"
                                },
                                {
                                    "szoba_id": "41",
                                    "(No column name)": "2"
                                },
                                {
                                    "szoba_id": "42",
                                    "(No column name)": "6"
                                },
                                {
                                    "szoba_id": "43",
                                    "(No column name)": "8"
                                },
                                {
                                    "szoba_id": "44",
                                    "(No column name)": "6"
                                },
                                {
                                    "szoba_id": "45",
                                    "(No column name)": "5"
                                },
                                {
                                    "szoba_id": "46",
                                    "(No column name)": "4"
                                },
                                {
                                    "szoba_id": "47",
                                    "(No column name)": "2"
                                },
                                {
                                    "szoba_id": "48",
                                    "(No column name)": "9"
                                },
                                {
                                    "szoba_id": "49",
                                    "(No column name)": "7"
                                },
                                {
                                    "szoba_id": "50",
                                    "(No column name)": "4"
                                },
                                {
                                    "szoba_id": "51",
                                    "(No column name)": "5"
                                },
                                {
                                    "szoba_id": "52",
                                    "(No column name)": "5"
                                },
                                {
                                    "szoba_id": "53",
                                    "(No column name)": "2"
                                },
                                {
                                    "szoba_id": "54",
                                    "(No column name)": "6"
                                },
                                {
                                    "szoba_id": "55",
                                    "(No column name)": "8"
                                },
                                {
                                    "szoba_id": "56",
                                    "(No column name)": "2"
                                },
                                {
                                    "szoba_id": "57",
                                    "(No column name)": "4"
                                },
                                {
                                    "szoba_id": "58",
                                    "(No column name)": "13"
                                },
                                {
                                    "szoba_id": "59",
                                    "(No column name)": "7"
                                },
                                {
                                    "szoba_id": "60",
                                    "(No column name)": "1"
                                },
                                {
                                    "szoba_id": "61",
                                    "(No column name)": "5"
                                },
                                {
                                    "szoba_id": "62",
                                    "(No column name)": "5"
                                },
                                {
                                    "szoba_id": "63",
                                    "(No column name)": "4"
                                },
                                {
                                    "szoba_id": "64",
                                    "(No column name)": "6"
                                },
                                {
                                    "szoba_id": "65",
                                    "(No column name)": "1"
                                },
                                {
                                    "szoba_id": "66",
                                    "(No column name)": "4"
                                },
                                {
                                    "szoba_id": "67",
                                    "(No column name)": "6"
                                },
                                {
                                    "szoba_id": "68",
                                    "(No column name)": "3"
                                },
                                {
                                    "szoba_id": "69",
                                    "(No column name)": "4"
                                },
                                {
                                    "szoba_id": "70",
                                    "(No column name)": "11"
                                },
                                {
                                    "szoba_id": "71",
                                    "(No column name)": "3"
                                },
                                {
                                    "szoba_id": "72",
                                    "(No column name)": "4"
                                },
                                {
                                    "szoba_id": "73",
                                    "(No column name)": "4"
                                },
                                {
                                    "szoba_id": "74",
                                    "(No column name)": "9"
                                },
                                {
                                    "szoba_id": "75",
                                    "(No column name)": "3"
                                },
                                {
                                    "szoba_id": "76",
                                    "(No column name)": "3"
                                },
                                {
                                    "szoba_id": "77",
                                    "(No column name)": "6"
                                },
                                {
                                    "szoba_id": "78",
                                    "(No column name)": "6"
                                },
                                {
                                    "szoba_id": "79",
                                    "(No column name)": "5"
                                },
                                {
                                    "szoba_id": "80",
                                    "(No column name)": "7"
                                },
                                {
                                    "szoba_id": "81",
                                    "(No column name)": "5"
                                },
                                {
                                    "szoba_id": "82",
                                    "(No column name)": "6"
                                },
                                {
                                    "szoba_id": "83",
                                    "(No column name)": "8"
                                },
                                {
                                    "szoba_id": "84",
                                    "(No column name)": "4"
                                },
                                {
                                    "szoba_id": "85",
                                    "(No column name)": "4"
                                },
                                {
                                    "szoba_id": "86",
                                    "(No column name)": "5"
                                },
                                {
                                    "szoba_id": "87",
                                    "(No column name)": "5"
                                },
                                {
                                    "szoba_id": "88",
                                    "(No column name)": "8"
                                },
                                {
                                    "szoba_id": "89",
                                    "(No column name)": "8"
                                },
                                {
                                    "szoba_id": "90",
                                    "(No column name)": "4"
                                },
                                {
                                    "szoba_id": "91",
                                    "(No column name)": "4"
                                },
                                {
                                    "szoba_id": "92",
                                    "(No column name)": "6"
                                },
                                {
                                    "szoba_id": "93",
                                    "(No column name)": "5"
                                },
                                {
                                    "szoba_id": "94",
                                    "(No column name)": "10"
                                },
                                {
                                    "szoba_id": "95",
                                    "(No column name)": "4"
                                },
                                {
                                    "szoba_id": "96",
                                    "(No column name)": "7"
                                },
                                {
                                    "szoba_id": "97",
                                    "(No column name)": "7"
                                },
                                {
                                    "szoba_id": "98",
                                    "(No column name)": "4"
                                },
                                {
                                    "szoba_id": "99",
                                    "(No column name)": "5"
                                },
                                {
                                    "szoba_id": "100",
                                    "(No column name)": "4"
                                },
                                {
                                    "szoba_id": "101",
                                    "(No column name)": "3"
                                },
                                {
                                    "szoba_id": "102",
                                    "(No column name)": "2"
                                },
                                {
                                    "szoba_id": "103",
                                    "(No column name)": "4"
                                },
                                {
                                    "szoba_id": "104",
                                    "(No column name)": "4"
                                },
                                {
                                    "szoba_id": "105",
                                    "(No column name)": "2"
                                },
                                {
                                    "szoba_id": "106",
                                    "(No column name)": "6"
                                },
                                {
                                    "szoba_id": "107",
                                    "(No column name)": "5"
                                },
                                {
                                    "szoba_id": "108",
                                    "(No column name)": "2"
                                },
                                {
                                    "szoba_id": "109",
                                    "(No column name)": "7"
                                },
                                {
                                    "szoba_id": "110",
                                    "(No column name)": "8"
                                },
                                {
                                    "szoba_id": "111",
                                    "(No column name)": "5"
                                },
                                {
                                    "szoba_id": "112",
                                    "(No column name)": "5"
                                },
                                {
                                    "szoba_id": "113",
                                    "(No column name)": "5"
                                },
                                {
                                    "szoba_id": "114",
                                    "(No column name)": "4"
                                },
                                {
                                    "szoba_id": "115",
                                    "(No column name)": "7"
                                },
                                {
                                    "szoba_id": "116",
                                    "(No column name)": "2"
                                },
                                {
                                    "szoba_id": "117",
                                    "(No column name)": "8"
                                },
                                {
                                    "szoba_id": "118",
                                    "(No column name)": "7"
                                },
                                {
                                    "szoba_id": "119",
                                    "(No column name)": "5"
                                },
                                {
                                    "szoba_id": "120",
                                    "(No column name)": "6"
                                },
                                {
                                    "szoba_id": "121",
                                    "(No column name)": "8"
                                },
                                {
                                    "szoba_id": "122",
                                    "(No column name)": "9"
                                },
                                {
                                    "szoba_id": "123",
                                    "(No column name)": "5"
                                },
                                {
                                    "szoba_id": "124",
                                    "(No column name)": "6"
                                },
                                {
                                    "szoba_id": "125",
                                    "(No column name)": "1"
                                },
                                {
                                    "szoba_id": "126",
                                    "(No column name)": "6"
                                },
                                {
                                    "szoba_id": "127",
                                    "(No column name)": "7"
                                },
                                {
                                    "szoba_id": "128",
                                    "(No column name)": "5"
                                },
                                {
                                    "szoba_id": "129",
                                    "(No column name)": "4"
                                },
                                {
                                    "szoba_id": "130",
                                    "(No column name)": "6"
                                },
                                {
                                    "szoba_id": "131",
                                    "(No column name)": "5"
                                },
                                {
                                    "szoba_id": "132",
                                    "(No column name)": "6"
                                },
                                {
                                    "szoba_id": "133",
                                    "(No column name)": "6"
                                },
                                {
                                    "szoba_id": "134",
                                    "(No column name)": "6"
                                },
                                {
                                    "szoba_id": "135",
                                    "(No column name)": "3"
                                },
                                {
                                    "szoba_id": "136",
                                    "(No column name)": "3"
                                },
                                {
                                    "szoba_id": "137",
                                    "(No column name)": "6"
                                },
                                {
                                    "szoba_id": "138",
                                    "(No column name)": "7"
                                },
                                {
                                    "szoba_id": "139",
                                    "(No column name)": "7"
                                },
                                {
                                    "szoba_id": "140",
                                    "(No column name)": "8"
                                },
                                {
                                    "szoba_id": "141",
                                    "(No column name)": "6"
                                },
                                {
                                    "szoba_id": "142",
                                    "(No column name)": "2"
                                },
                                {
                                    "szoba_id": "143",
                                    "(No column name)": "7"
                                },
                                {
                                    "szoba_id": "144",
                                    "(No column name)": "5"
                                },
                                {
                                    "szoba_id": "145",
                                    "(No column name)": "6"
                                },
                                {
                                    "szoba_id": "146",
                                    "(No column name)": "6"
                                },
                                {
                                    "szoba_id": "147",
                                    "(No column name)": "1"
                                },
                                {
                                    "szoba_id": "148",
                                    "(No column name)": "6"
                                },
                                {
                                    "szoba_id": "149",
                                    "(No column name)": "7"
                                },
                                {
                                    "szoba_id": "150",
                                    "(No column name)": "6"
                                },
                                {
                                    "szoba_id": "151",
                                    "(No column name)": "3"
                                },
                                {
                                    "szoba_id": "152",
                                    "(No column name)": "4"
                                },
                                {
                                    "szoba_id": "153",
                                    "(No column name)": "5"
                                },
                                {
                                    "szoba_id": "154",
                                    "(No column name)": "5"
                                },
                                {
                                    "szoba_id": "155",
                                    "(No column name)": "5"
                                },
                                {
                                    "szoba_id": "156",
                                    "(No column name)": "7"
                                },
                                {
                                    "szoba_id": "157",
                                    "(No column name)": "5"
                                },
                                {
                                    "szoba_id": "158",
                                    "(No column name)": "3"
                                },
                                {
                                    "szoba_id": "159",
                                    "(No column name)": "1"
                                },
                                {
                                    "szoba_id": "160",
                                    "(No column name)": "5"
                                },
                                {
                                    "szoba_id": "161",
                                    "(No column name)": "6"
                                },
                                {
                                    "szoba_id": "162",
                                    "(No column name)": "3"
                                },
                                {
                                    "szoba_id": "163",
                                    "(No column name)": "7"
                                },
                                {
                                    "szoba_id": "164",
                                    "(No column name)": "5"
                                },
                                {
                                    "szoba_id": "165",
                                    "(No column name)": "7"
                                },
                                {
                                    "szoba_id": "166",
                                    "(No column name)": "3"
                                },
                                {
                                    "szoba_id": "167",
                                    "(No column name)": "2"
                                },
                                {
                                    "szoba_id": "168",
                                    "(No column name)": "5"
                                },
                                {
                                    "szoba_id": "169",
                                    "(No column name)": "6"
                                },
                                {
                                    "szoba_id": "170",
                                    "(No column name)": "5"
                                },
                                {
                                    "szoba_id": "171",
                                    "(No column name)": "5"
                                },
                                {
                                    "szoba_id": "172",
                                    "(No column name)": "9"
                                },
                                {
                                    "szoba_id": "173",
                                    "(No column name)": "4"
                                },
                                {
                                    "szoba_id": "174",
                                    "(No column name)": "4"
                                },
                                {
                                    "szoba_id": "175",
                                    "(No column name)": "5"
                                },
                                {
                                    "szoba_id": "176",
                                    "(No column name)": "6"
                                },
                                {
                                    "szoba_id": "177",
                                    "(No column name)": "4"
                                },
                                {
                                    "szoba_id": "178",
                                    "(No column name)": "4"
                                },
                                {
                                    "szoba_id": "179",
                                    "(No column name)": "3"
                                },
                                {
                                    "szoba_id": "180",
                                    "(No column name)": "3"
                                },
                                {
                                    "szoba_id": "181",
                                    "(No column name)": "6"
                                },
                                {
                                    "szoba_id": "182",
                                    "(No column name)": "12"
                                },
                                {
                                    "szoba_id": "183",
                                    "(No column name)": "4"
                                },
                                {
                                    "szoba_id": "184",
                                    "(No column name)": "4"
                                },
                                {
                                    "szoba_id": "185",
                                    "(No column name)": "12"
                                },
                                {
                                    "szoba_id": "186",
                                    "(No column name)": "4"
                                },
                                {
                                    "szoba_id": "187",
                                    "(No column name)": "7"
                                },
                                {
                                    "szoba_id": "188",
                                    "(No column name)": "6"
                                },
                                {
                                    "szoba_id": "189",
                                    "(No column name)": "5"
                                },
                                {
                                    "szoba_id": "190",
                                    "(No column name)": "5"
                                },
                                {
                                    "szoba_id": "191",
                                    "(No column name)": "5"
                                },
                                {
                                    "szoba_id": "192",
                                    "(No column name)": "2"
                                },
                                {
                                    "szoba_id": "193",
                                    "(No column name)": "7"
                                },
                                {
                                    "szoba_id": "194",
                                    "(No column name)": "1"
                                },
                                {
                                    "szoba_id": "195",
                                    "(No column name)": "6"
                                },
                                {
                                    "szoba_id": "196",
                                    "(No column name)": "4"
                                },
                                {
                                    "szoba_id": "197",
                                    "(No column name)": "6"
                                },
                                {
                                    "szoba_id": "198",
                                    "(No column name)": "8"
                                },
                                {
                                    "szoba_id": "199",
                                    "(No column name)": "1"
                                },
                                {
                                    "szoba_id": "200",
                                    "(No column name)": "1"
                                },
                                {
                                    "szoba_id": "201",
                                    "(No column name)": "1"
                                },
                                {
                                    "szoba_id": "202",
                                    "(No column name)": "1"
                                },
                                {
                                    "szoba_id": "203",
                                    "(No column name)": "1"
                                },
                                {
                                    "szoba_id": "204",
                                    "(No column name)": "1"
                                },
                                {
                                    "szoba_id": "205",
                                    "(No column name)": "1"
                                },
                                {
                                    "szoba_id": "206",
                                    "(No column name)": "1"
                                },
                                {
                                    "szoba_id": "207",
                                    "(No column name)": "1"
                                },
                                {
                                    "szoba_id": "208",
                                    "(No column name)": "1"
                                },
                                {
                                    "szoba_id": "209",
                                    "(No column name)": "1"
                                },
                                {
                                    "szoba_id": "210",
                                    "(No column name)": "1"
                                },
                                {
                                    "szoba_id": "211",
                                    "(No column name)": "1"
                                },
                                {
                                    "szoba_id": "212",
                                    "(No column name)": "1"
                                },
                                {
                                    "szoba_id": "213",
                                    "(No column name)": "1"
                                },
                                {
                                    "szoba_id": "214",
                                    "(No column name)": "1"
                                },
                                {
                                    "szoba_id": "215",
                                    "(No column name)": "1"
                                },
                                {
                                    "szoba_id": "216",
                                    "(No column name)": "1"
                                },
                                {
                                    "szoba_id": "217",
                                    "(No column name)": "1"
                                },
                                {
                                    "szoba_id": "218",
                                    "(No column name)": "1"
                                },
                                {
                                    "szoba_id": "219",
                                    "(No column name)": "1"
                                },
                                {
                                    "szoba_id": "220",
                                    "(No column name)": "1"
                                },
                                {
                                    "szoba_id": "221",
                                    "(No column name)": "1"
                                },
                                {
                                    "szoba_id": "222",
                                    "(No column name)": "1"
                                },
                                {
                                    "szoba_id": "223",
                                    "(No column name)": "1"
                                },
                                {
                                    "szoba_id": "224",
                                    "(No column name)": "1"
                                },
                                {
                                    "szoba_id": "225",
                                    "(No column name)": "1"
                                },
                                {
                                    "szoba_id": "226",
                                    "(No column name)": "1"
                                },
                                {
                                    "szoba_id": "227",
                                    "(No column name)": "1"
                                },
                                {
                                    "szoba_id": "228",
                                    "(No column name)": "1"
                                },
                                {
                                    "szoba_id": "229",
                                    "(No column name)": "1"
                                },
                                {
                                    "szoba_id": "230",
                                    "(No column name)": "1"
                                },
                                {
                                    "szoba_id": "231",
                                    "(No column name)": "1"
                                },
                                {
                                    "szoba_id": "232",
                                    "(No column name)": "1"
                                },
                                {
                                    "szoba_id": "233",
                                    "(No column name)": "1"
                                },
                                {
                                    "szoba_id": "234",
                                    "(No column name)": "1"
                                },
                                {
                                    "szoba_id": "235",
                                    "(No column name)": "1"
                                },
                                {
                                    "szoba_id": "236",
                                    "(No column name)": "1"
                                },
                                {
                                    "szoba_id": "237",
                                    "(No column name)": "1"
                                },
                                {
                                    "szoba_id": "238",
                                    "(No column name)": "1"
                                },
                                {
                                    "szoba_id": "239",
                                    "(No column name)": "1"
                                },
                                {
                                    "szoba_id": "240",
                                    "(No column name)": "1"
                                },
                                {
                                    "szoba_id": "241",
                                    "(No column name)": "1"
                                },
                                {
                                    "szoba_id": "242",
                                    "(No column name)": "1"
                                },
                                {
                                    "szoba_id": "243",
                                    "(No column name)": "1"
                                },
                                {
                                    "szoba_id": "244",
                                    "(No column name)": "1"
                                },
                                {
                                    "szoba_id": "245",
                                    "(No column name)": "1"
                                },
                                {
                                    "szoba_id": "246",
                                    "(No column name)": "1"
                                },
                                {
                                    "szoba_id": "247",
                                    "(No column name)": "1"
                                },
                                {
                                    "szoba_id": "248",
                                    "(No column name)": "1"
                                },
                                {
                                    "szoba_id": "249",
                                    "(No column name)": "1"
                                },
                                {
                                    "szoba_id": "250",
                                    "(No column name)": "1"
                                },
                                {
                                    "szoba_id": "251",
                                    "(No column name)": "1"
                                },
                                {
                                    "szoba_id": "252",
                                    "(No column name)": "1"
                                },
                                {
                                    "szoba_id": "253",
                                    "(No column name)": "1"
                                },
                                {
                                    "szoba_id": "254",
                                    "(No column name)": "1"
                                },
                                {
                                    "szoba_id": "255",
                                    "(No column name)": "1"
                                },
                                {
                                    "szoba_id": "256",
                                    "(No column name)": "1"
                                },
                                {
                                    "szoba_id": "257",
                                    "(No column name)": "1"
                                },
                                {
                                    "szoba_id": "258",
                                    "(No column name)": "1"
                                },
                                {
                                    "szoba_id": "259",
                                    "(No column name)": "1"
                                },
                                {
                                    "szoba_id": "260",
                                    "(No column name)": "1"
                                },
                                {
                                    "szoba_id": "261",
                                    "(No column name)": "1"
                                },
                                {
                                    "szoba_id": "262",
                                    "(No column name)": "1"
                                },
                                {
                                    "szoba_id": "263",
                                    "(No column name)": "1"
                                },
                                {
                                    "szoba_id": "264",
                                    "(No column name)": "1"
                                },
                                {
                                    "szoba_id": "265",
                                    "(No column name)": "1"
                                },
                                {
                                    "szoba_id": "266",
                                    "(No column name)": "1"
                                },
                                {
                                    "szoba_id": "267",
                                    "(No column name)": "1"
                                },
                                {
                                    "szoba_id": "268",
                                    "(No column name)": "1"
                                },
                                {
                                    "szoba_id": "269",
                                    "(No column name)": "1"
                                },
                                {
                                    "szoba_id": "270",
                                    "(No column name)": "1"
                                },
                                {
                                    "szoba_id": "271",
                                    "(No column name)": "1"
                                },
                                {
                                    "szoba_id": "272",
                                    "(No column name)": "1"
                                },
                                {
                                    "szoba_id": "273",
                                    "(No column name)": "1"
                                },
                                {
                                    "szoba_id": "274",
                                    "(No column name)": "1"
                                },
                                {
                                    "szoba_id": "275",
                                    "(No column name)": "1"
                                },
                                {
                                    "szoba_id": "276",
                                    "(No column name)": "1"
                                },
                                {
                                    "szoba_id": "277",
                                    "(No column name)": "1"
                                },
                                {
                                    "szoba_id": "278",
                                    "(No column name)": "1"
                                },
                                {
                                    "szoba_id": "279",
                                    "(No column name)": "1"
                                },
                                {
                                    "szoba_id": "280",
                                    "(No column name)": "1"
                                },
                                {
                                    "szoba_id": "281",
                                    "(No column name)": "1"
                                },
                                {
                                    "szoba_id": "282",
                                    "(No column name)": "1"
                                },
                                {
                                    "szoba_id": "283",
                                    "(No column name)": "1"
                                },
                                {
                                    "szoba_id": "284",
                                    "(No column name)": "1"
                                },
                                {
                                    "szoba_id": "285",
                                    "(No column name)": "1"
                                },
                                {
                                    "szoba_id": "286",
                                    "(No column name)": "1"
                                },
                                {
                                    "szoba_id": "287",
                                    "(No column name)": "1"
                                },
                                {
                                    "szoba_id": "288",
                                    "(No column name)": "1"
                                },
                                {
                                    "szoba_id": "289",
                                    "(No column name)": "1"
                                },
                                {
                                    "szoba_id": "290",
                                    "(No column name)": "1"
                                },
                                {
                                    "szoba_id": "291",
                                    "(No column name)": "1"
                                },
                                {
                                    "szoba_id": "292",
                                    "(No column name)": "1"
                                },
                                {
                                    "szoba_id": "293",
                                    "(No column name)": "1"
                                },
                                {
                                    "szoba_id": "294",
                                    "(No column name)": "1"
                                }
                            ]
                        },
                        "text/html": [
                            "<table>",
                            "<tr><th>szoba_id</th><th>(No column name)</th></tr>",
                            "<tr><td>1</td><td>8</td></tr>",
                            "<tr><td>2</td><td>4</td></tr>",
                            "<tr><td>3</td><td>8</td></tr>",
                            "<tr><td>4</td><td>6</td></tr>",
                            "<tr><td>5</td><td>4</td></tr>",
                            "<tr><td>6</td><td>6</td></tr>",
                            "<tr><td>7</td><td>6</td></tr>",
                            "<tr><td>8</td><td>5</td></tr>",
                            "<tr><td>9</td><td>6</td></tr>",
                            "<tr><td>10</td><td>4</td></tr>",
                            "<tr><td>11</td><td>4</td></tr>",
                            "<tr><td>12</td><td>9</td></tr>",
                            "<tr><td>13</td><td>4</td></tr>",
                            "<tr><td>14</td><td>3</td></tr>",
                            "<tr><td>15</td><td>6</td></tr>",
                            "<tr><td>16</td><td>5</td></tr>",
                            "<tr><td>17</td><td>6</td></tr>",
                            "<tr><td>18</td><td>6</td></tr>",
                            "<tr><td>19</td><td>6</td></tr>",
                            "<tr><td>20</td><td>5</td></tr>",
                            "<tr><td>21</td><td>4</td></tr>",
                            "<tr><td>22</td><td>6</td></tr>",
                            "<tr><td>23</td><td>3</td></tr>",
                            "<tr><td>24</td><td>3</td></tr>",
                            "<tr><td>25</td><td>2</td></tr>",
                            "<tr><td>26</td><td>2</td></tr>",
                            "<tr><td>27</td><td>7</td></tr>",
                            "<tr><td>28</td><td>6</td></tr>",
                            "<tr><td>29</td><td>6</td></tr>",
                            "<tr><td>30</td><td>3</td></tr>",
                            "<tr><td>31</td><td>3</td></tr>",
                            "<tr><td>32</td><td>1</td></tr>",
                            "<tr><td>33</td><td>6</td></tr>",
                            "<tr><td>34</td><td>4</td></tr>",
                            "<tr><td>35</td><td>9</td></tr>",
                            "<tr><td>36</td><td>6</td></tr>",
                            "<tr><td>37</td><td>3</td></tr>",
                            "<tr><td>38</td><td>8</td></tr>",
                            "<tr><td>39</td><td>7</td></tr>",
                            "<tr><td>40</td><td>4</td></tr>",
                            "<tr><td>41</td><td>2</td></tr>",
                            "<tr><td>42</td><td>6</td></tr>",
                            "<tr><td>43</td><td>8</td></tr>",
                            "<tr><td>44</td><td>6</td></tr>",
                            "<tr><td>45</td><td>5</td></tr>",
                            "<tr><td>46</td><td>4</td></tr>",
                            "<tr><td>47</td><td>2</td></tr>",
                            "<tr><td>48</td><td>9</td></tr>",
                            "<tr><td>49</td><td>7</td></tr>",
                            "<tr><td>50</td><td>4</td></tr>",
                            "<tr><td>51</td><td>5</td></tr>",
                            "<tr><td>52</td><td>5</td></tr>",
                            "<tr><td>53</td><td>2</td></tr>",
                            "<tr><td>54</td><td>6</td></tr>",
                            "<tr><td>55</td><td>8</td></tr>",
                            "<tr><td>56</td><td>2</td></tr>",
                            "<tr><td>57</td><td>4</td></tr>",
                            "<tr><td>58</td><td>13</td></tr>",
                            "<tr><td>59</td><td>7</td></tr>",
                            "<tr><td>60</td><td>1</td></tr>",
                            "<tr><td>61</td><td>5</td></tr>",
                            "<tr><td>62</td><td>5</td></tr>",
                            "<tr><td>63</td><td>4</td></tr>",
                            "<tr><td>64</td><td>6</td></tr>",
                            "<tr><td>65</td><td>1</td></tr>",
                            "<tr><td>66</td><td>4</td></tr>",
                            "<tr><td>67</td><td>6</td></tr>",
                            "<tr><td>68</td><td>3</td></tr>",
                            "<tr><td>69</td><td>4</td></tr>",
                            "<tr><td>70</td><td>11</td></tr>",
                            "<tr><td>71</td><td>3</td></tr>",
                            "<tr><td>72</td><td>4</td></tr>",
                            "<tr><td>73</td><td>4</td></tr>",
                            "<tr><td>74</td><td>9</td></tr>",
                            "<tr><td>75</td><td>3</td></tr>",
                            "<tr><td>76</td><td>3</td></tr>",
                            "<tr><td>77</td><td>6</td></tr>",
                            "<tr><td>78</td><td>6</td></tr>",
                            "<tr><td>79</td><td>5</td></tr>",
                            "<tr><td>80</td><td>7</td></tr>",
                            "<tr><td>81</td><td>5</td></tr>",
                            "<tr><td>82</td><td>6</td></tr>",
                            "<tr><td>83</td><td>8</td></tr>",
                            "<tr><td>84</td><td>4</td></tr>",
                            "<tr><td>85</td><td>4</td></tr>",
                            "<tr><td>86</td><td>5</td></tr>",
                            "<tr><td>87</td><td>5</td></tr>",
                            "<tr><td>88</td><td>8</td></tr>",
                            "<tr><td>89</td><td>8</td></tr>",
                            "<tr><td>90</td><td>4</td></tr>",
                            "<tr><td>91</td><td>4</td></tr>",
                            "<tr><td>92</td><td>6</td></tr>",
                            "<tr><td>93</td><td>5</td></tr>",
                            "<tr><td>94</td><td>10</td></tr>",
                            "<tr><td>95</td><td>4</td></tr>",
                            "<tr><td>96</td><td>7</td></tr>",
                            "<tr><td>97</td><td>7</td></tr>",
                            "<tr><td>98</td><td>4</td></tr>",
                            "<tr><td>99</td><td>5</td></tr>",
                            "<tr><td>100</td><td>4</td></tr>",
                            "<tr><td>101</td><td>3</td></tr>",
                            "<tr><td>102</td><td>2</td></tr>",
                            "<tr><td>103</td><td>4</td></tr>",
                            "<tr><td>104</td><td>4</td></tr>",
                            "<tr><td>105</td><td>2</td></tr>",
                            "<tr><td>106</td><td>6</td></tr>",
                            "<tr><td>107</td><td>5</td></tr>",
                            "<tr><td>108</td><td>2</td></tr>",
                            "<tr><td>109</td><td>7</td></tr>",
                            "<tr><td>110</td><td>8</td></tr>",
                            "<tr><td>111</td><td>5</td></tr>",
                            "<tr><td>112</td><td>5</td></tr>",
                            "<tr><td>113</td><td>5</td></tr>",
                            "<tr><td>114</td><td>4</td></tr>",
                            "<tr><td>115</td><td>7</td></tr>",
                            "<tr><td>116</td><td>2</td></tr>",
                            "<tr><td>117</td><td>8</td></tr>",
                            "<tr><td>118</td><td>7</td></tr>",
                            "<tr><td>119</td><td>5</td></tr>",
                            "<tr><td>120</td><td>6</td></tr>",
                            "<tr><td>121</td><td>8</td></tr>",
                            "<tr><td>122</td><td>9</td></tr>",
                            "<tr><td>123</td><td>5</td></tr>",
                            "<tr><td>124</td><td>6</td></tr>",
                            "<tr><td>125</td><td>1</td></tr>",
                            "<tr><td>126</td><td>6</td></tr>",
                            "<tr><td>127</td><td>7</td></tr>",
                            "<tr><td>128</td><td>5</td></tr>",
                            "<tr><td>129</td><td>4</td></tr>",
                            "<tr><td>130</td><td>6</td></tr>",
                            "<tr><td>131</td><td>5</td></tr>",
                            "<tr><td>132</td><td>6</td></tr>",
                            "<tr><td>133</td><td>6</td></tr>",
                            "<tr><td>134</td><td>6</td></tr>",
                            "<tr><td>135</td><td>3</td></tr>",
                            "<tr><td>136</td><td>3</td></tr>",
                            "<tr><td>137</td><td>6</td></tr>",
                            "<tr><td>138</td><td>7</td></tr>",
                            "<tr><td>139</td><td>7</td></tr>",
                            "<tr><td>140</td><td>8</td></tr>",
                            "<tr><td>141</td><td>6</td></tr>",
                            "<tr><td>142</td><td>2</td></tr>",
                            "<tr><td>143</td><td>7</td></tr>",
                            "<tr><td>144</td><td>5</td></tr>",
                            "<tr><td>145</td><td>6</td></tr>",
                            "<tr><td>146</td><td>6</td></tr>",
                            "<tr><td>147</td><td>1</td></tr>",
                            "<tr><td>148</td><td>6</td></tr>",
                            "<tr><td>149</td><td>7</td></tr>",
                            "<tr><td>150</td><td>6</td></tr>",
                            "<tr><td>151</td><td>3</td></tr>",
                            "<tr><td>152</td><td>4</td></tr>",
                            "<tr><td>153</td><td>5</td></tr>",
                            "<tr><td>154</td><td>5</td></tr>",
                            "<tr><td>155</td><td>5</td></tr>",
                            "<tr><td>156</td><td>7</td></tr>",
                            "<tr><td>157</td><td>5</td></tr>",
                            "<tr><td>158</td><td>3</td></tr>",
                            "<tr><td>159</td><td>1</td></tr>",
                            "<tr><td>160</td><td>5</td></tr>",
                            "<tr><td>161</td><td>6</td></tr>",
                            "<tr><td>162</td><td>3</td></tr>",
                            "<tr><td>163</td><td>7</td></tr>",
                            "<tr><td>164</td><td>5</td></tr>",
                            "<tr><td>165</td><td>7</td></tr>",
                            "<tr><td>166</td><td>3</td></tr>",
                            "<tr><td>167</td><td>2</td></tr>",
                            "<tr><td>168</td><td>5</td></tr>",
                            "<tr><td>169</td><td>6</td></tr>",
                            "<tr><td>170</td><td>5</td></tr>",
                            "<tr><td>171</td><td>5</td></tr>",
                            "<tr><td>172</td><td>9</td></tr>",
                            "<tr><td>173</td><td>4</td></tr>",
                            "<tr><td>174</td><td>4</td></tr>",
                            "<tr><td>175</td><td>5</td></tr>",
                            "<tr><td>176</td><td>6</td></tr>",
                            "<tr><td>177</td><td>4</td></tr>",
                            "<tr><td>178</td><td>4</td></tr>",
                            "<tr><td>179</td><td>3</td></tr>",
                            "<tr><td>180</td><td>3</td></tr>",
                            "<tr><td>181</td><td>6</td></tr>",
                            "<tr><td>182</td><td>12</td></tr>",
                            "<tr><td>183</td><td>4</td></tr>",
                            "<tr><td>184</td><td>4</td></tr>",
                            "<tr><td>185</td><td>12</td></tr>",
                            "<tr><td>186</td><td>4</td></tr>",
                            "<tr><td>187</td><td>7</td></tr>",
                            "<tr><td>188</td><td>6</td></tr>",
                            "<tr><td>189</td><td>5</td></tr>",
                            "<tr><td>190</td><td>5</td></tr>",
                            "<tr><td>191</td><td>5</td></tr>",
                            "<tr><td>192</td><td>2</td></tr>",
                            "<tr><td>193</td><td>7</td></tr>",
                            "<tr><td>194</td><td>1</td></tr>",
                            "<tr><td>195</td><td>6</td></tr>",
                            "<tr><td>196</td><td>4</td></tr>",
                            "<tr><td>197</td><td>6</td></tr>",
                            "<tr><td>198</td><td>8</td></tr>",
                            "<tr><td>199</td><td>1</td></tr>",
                            "<tr><td>200</td><td>1</td></tr>",
                            "<tr><td>201</td><td>1</td></tr>",
                            "<tr><td>202</td><td>1</td></tr>",
                            "<tr><td>203</td><td>1</td></tr>",
                            "<tr><td>204</td><td>1</td></tr>",
                            "<tr><td>205</td><td>1</td></tr>",
                            "<tr><td>206</td><td>1</td></tr>",
                            "<tr><td>207</td><td>1</td></tr>",
                            "<tr><td>208</td><td>1</td></tr>",
                            "<tr><td>209</td><td>1</td></tr>",
                            "<tr><td>210</td><td>1</td></tr>",
                            "<tr><td>211</td><td>1</td></tr>",
                            "<tr><td>212</td><td>1</td></tr>",
                            "<tr><td>213</td><td>1</td></tr>",
                            "<tr><td>214</td><td>1</td></tr>",
                            "<tr><td>215</td><td>1</td></tr>",
                            "<tr><td>216</td><td>1</td></tr>",
                            "<tr><td>217</td><td>1</td></tr>",
                            "<tr><td>218</td><td>1</td></tr>",
                            "<tr><td>219</td><td>1</td></tr>",
                            "<tr><td>220</td><td>1</td></tr>",
                            "<tr><td>221</td><td>1</td></tr>",
                            "<tr><td>222</td><td>1</td></tr>",
                            "<tr><td>223</td><td>1</td></tr>",
                            "<tr><td>224</td><td>1</td></tr>",
                            "<tr><td>225</td><td>1</td></tr>",
                            "<tr><td>226</td><td>1</td></tr>",
                            "<tr><td>227</td><td>1</td></tr>",
                            "<tr><td>228</td><td>1</td></tr>",
                            "<tr><td>229</td><td>1</td></tr>",
                            "<tr><td>230</td><td>1</td></tr>",
                            "<tr><td>231</td><td>1</td></tr>",
                            "<tr><td>232</td><td>1</td></tr>",
                            "<tr><td>233</td><td>1</td></tr>",
                            "<tr><td>234</td><td>1</td></tr>",
                            "<tr><td>235</td><td>1</td></tr>",
                            "<tr><td>236</td><td>1</td></tr>",
                            "<tr><td>237</td><td>1</td></tr>",
                            "<tr><td>238</td><td>1</td></tr>",
                            "<tr><td>239</td><td>1</td></tr>",
                            "<tr><td>240</td><td>1</td></tr>",
                            "<tr><td>241</td><td>1</td></tr>",
                            "<tr><td>242</td><td>1</td></tr>",
                            "<tr><td>243</td><td>1</td></tr>",
                            "<tr><td>244</td><td>1</td></tr>",
                            "<tr><td>245</td><td>1</td></tr>",
                            "<tr><td>246</td><td>1</td></tr>",
                            "<tr><td>247</td><td>1</td></tr>",
                            "<tr><td>248</td><td>1</td></tr>",
                            "<tr><td>249</td><td>1</td></tr>",
                            "<tr><td>250</td><td>1</td></tr>",
                            "<tr><td>251</td><td>1</td></tr>",
                            "<tr><td>252</td><td>1</td></tr>",
                            "<tr><td>253</td><td>1</td></tr>",
                            "<tr><td>254</td><td>1</td></tr>",
                            "<tr><td>255</td><td>1</td></tr>",
                            "<tr><td>256</td><td>1</td></tr>",
                            "<tr><td>257</td><td>1</td></tr>",
                            "<tr><td>258</td><td>1</td></tr>",
                            "<tr><td>259</td><td>1</td></tr>",
                            "<tr><td>260</td><td>1</td></tr>",
                            "<tr><td>261</td><td>1</td></tr>",
                            "<tr><td>262</td><td>1</td></tr>",
                            "<tr><td>263</td><td>1</td></tr>",
                            "<tr><td>264</td><td>1</td></tr>",
                            "<tr><td>265</td><td>1</td></tr>",
                            "<tr><td>266</td><td>1</td></tr>",
                            "<tr><td>267</td><td>1</td></tr>",
                            "<tr><td>268</td><td>1</td></tr>",
                            "<tr><td>269</td><td>1</td></tr>",
                            "<tr><td>270</td><td>1</td></tr>",
                            "<tr><td>271</td><td>1</td></tr>",
                            "<tr><td>272</td><td>1</td></tr>",
                            "<tr><td>273</td><td>1</td></tr>",
                            "<tr><td>274</td><td>1</td></tr>",
                            "<tr><td>275</td><td>1</td></tr>",
                            "<tr><td>276</td><td>1</td></tr>",
                            "<tr><td>277</td><td>1</td></tr>",
                            "<tr><td>278</td><td>1</td></tr>",
                            "<tr><td>279</td><td>1</td></tr>",
                            "<tr><td>280</td><td>1</td></tr>",
                            "<tr><td>281</td><td>1</td></tr>",
                            "<tr><td>282</td><td>1</td></tr>",
                            "<tr><td>283</td><td>1</td></tr>",
                            "<tr><td>284</td><td>1</td></tr>",
                            "<tr><td>285</td><td>1</td></tr>",
                            "<tr><td>286</td><td>1</td></tr>",
                            "<tr><td>287</td><td>1</td></tr>",
                            "<tr><td>288</td><td>1</td></tr>",
                            "<tr><td>289</td><td>1</td></tr>",
                            "<tr><td>290</td><td>1</td></tr>",
                            "<tr><td>291</td><td>1</td></tr>",
                            "<tr><td>292</td><td>1</td></tr>",
                            "<tr><td>293</td><td>1</td></tr>",
                            "<tr><td>294</td><td>1</td></tr>",
                            "</table>"
                        ]
                    }
                }
            ],
            "execution_count": 10
        },
        {
            "cell_type": "markdown",
            "source": [
                "2. <span style=\"background-color: rgb(255, 255, 255); color: rgb(0, 0, 0); font-family: &quot;Open Sans&quot;, sans-serif; font-size: 14.44px;\">Listázzuk azon vendégek adatait, akik a legtöbb férőhelyes szobát (vagy szobákat) már lefoglalták!</span>\n",
                "\n",
                "- Csak klímás szoba jöhet számításba"
            ],
            "metadata": {
                "azdata_cell_guid": "bdc2764d-7a7a-45bd-b71b-90db2e9508e8"
            },
            "attachments": {}
        },
        {
            "cell_type": "code",
            "source": [
                "SELECT *\r\n",
                "from Vendeg v2\r\n",
                "where exists\r\n",
                "(\r\n",
                "    select *\r\n",
                "    FROM foglalas f join szoba sz on sz.SZOBA_ID = f.SZOBA_FK\r\n",
                "                    join vendeg v on v.usernev = f.UGYFEL_FK\r\n",
                "    WHERE v2.usernev = v.usernev and sz.KLIMAS = \"i\"\r\n",
                ")"
            ],
            "metadata": {
                "azdata_cell_guid": "daaa31f0-e116-428e-93ff-a0eb68d8d36d",
                "language": "sql"
            },
            "outputs": [
                {
                    "output_type": "error",
                    "evalue": "Msg 207, Level 16, State 1, Line 8\r\nInvalid column name 'i'.",
                    "ename": "",
                    "traceback": []
                },
                {
                    "output_type": "display_data",
                    "data": {
                        "text/html": "Total execution time: 00:00:00.004"
                    },
                    "metadata": {}
                }
            ],
            "execution_count": 11
        },
        {
            "cell_type": "markdown",
            "source": [
                "3\\. <span style=\"color: rgb(33, 33, 33); font-family: Consolas, &quot;Courier New&quot;, monospace; font-size: 12px; white-space: pre;\">Készítsen lekérdezést, amely sorszámozza a vendégeket a foglalások száma alapján</span>\n",
                "\n",
                "A sorszám mellett jelenjen meg a vendég azonosítója, neve és a foglalások száma <span style=\"color: #0000ff;\">is</span>\n",
                "\n",
                "A legtöbbet foglaló vendég kapja az egyes sorszámot\n",
                "\n",
                "Holtverseny esetén a számozás annyit ugorjon, ahány egyforma érték van"
            ],
            "metadata": {
                "azdata_cell_guid": "0f8393a7-d187-425f-a894-c745e17bc10e"
            },
            "attachments": {}
        },
        {
            "cell_type": "code",
            "source": [
                "SELECT ROW_NUMBER() over(order by count(*) desc),\r\n",
                "        v.USERNEV, v.nev, count(*)\r\n",
                "from foglalas f join vendeg v on v.usernev = f.UGYFEL_FK\r\n",
                "group by v.usernev, v.nev"
            ],
            "metadata": {
                "azdata_cell_guid": "97e65981-f7e0-4ddd-87a5-df2300279e1b",
                "language": "sql"
            },
            "outputs": [
{
    "output_type": "display_data",
    "data": {
        "text/html": "(195 rows affected)"
    },
    "metadata": {}
}, {
    "output_type": "display_data",
    "data": {
        "text/html": "Total execution time: 00:00:00.061"
    },
    "metadata": {}
}, {
    "output_type": "execute_result",
    "metadata": {},
    "execution_count": 18,
    "data": {
        "application/vnd.dataresource+json": {
            "schema": {
                "fields": [
                    {
                        "name": "(No column name)"
                    },
                    {
                        "name": "USERNEV"
                    },
                    {
                        "name": "nev"
                    },
                    {
                        "name": "(No column name)"
                    }
                ]
            },
            "data": [
                {
                    "(No column name)": "13",
                    "USERNEV": "andras41",
                    "nev": "Komjáti András"
                },
                {
                    "(No column name)": "13",
                    "USERNEV": "ARONK",
                    "nev": "Kelemen Áron"
                },
                {
                    "(No column name)": "12",
                    "USERNEV": "krisztian4",
                    "nev": "Czérna Krisztián"
                },
                {
                    "(No column name)": "12",
                    "USERNEV": "peter4",
                    "nev": "Bíró Péter"
                },
                {
                    "(No column name)": "12",
                    "USERNEV": "sara",
                    "nev": "Farkas Sára"
                },
                {
                    "(No column name)": "12",
                    "USERNEV": "zoltan4",
                    "nev": "Barna Zoltán"
                },
                {
                    "(No column name)": "10",
                    "USERNEV": "kata",
                    "nev": "Gondos Katalin"
                },
                {
                    "(No column name)": "10",
                    "USERNEV": "akos",
                    "nev": "Bíró Ákos"
                },
                {
                    "(No column name)": "10",
                    "USERNEV": "balazs2",
                    "nev": "Szűcs Balázs"
                },
                {
                    "(No column name)": "10",
                    "USERNEV": "balint1",
                    "nev": "Molnár Bálint"
                },
                {
                    "(No column name)": "10",
                    "USERNEV": "eszter2",
                    "nev": "Balogh Eszter"
                },
                {
                    "(No column name)": "9",
                    "USERNEV": "dani",
                    "nev": "Vörös Dániel"
                },
                {
                    "(No column name)": "9",
                    "USERNEV": "daniel",
                    "nev": "Rácz Dániel"
                },
                {
                    "(No column name)": "9",
                    "USERNEV": "david",
                    "nev": "Ambrus Dávid"
                },
                {
                    "(No column name)": "9",
                    "USERNEV": "BEATRIXK",
                    "nev": "Kerényi Beatrix"
                },
                {
                    "(No column name)": "9",
                    "USERNEV": "bence",
                    "nev": "Győrffy Bence"
                },
                {
                    "(No column name)": "9",
                    "USERNEV": "ANIKOS",
                    "nev": "Simon Anikó"
                },
                {
                    "(No column name)": "9",
                    "USERNEV": "katalin",
                    "nev": "Horváth Katalin"
                },
                {
                    "(No column name)": "9",
                    "USERNEV": "katka",
                    "nev": "Kovács Katalin"
                },
                {
                    "(No column name)": "9",
                    "USERNEV": "norbert4",
                    "nev": "Mile Norbert"
                },
                {
                    "(No column name)": "9",
                    "USERNEV": "szilvia1",
                    "nev": "Tari Szilvia"
                },
                {
                    "(No column name)": "9",
                    "USERNEV": "TAMASF",
                    "nev": "Fényes Tamás"
                },
                {
                    "(No column name)": "8",
                    "USERNEV": "tunde",
                    "nev": "Turcsik Tünde"
                },
                {
                    "(No column name)": "8",
                    "USERNEV": "ROBERTI",
                    "nev": "Iván Róbert"
                },
                {
                    "(No column name)": "8",
                    "USERNEV": "MATYASS",
                    "nev": "Szilágyi Mátyás"
                },
                {
                    "(No column name)": "8",
                    "USERNEV": "krisztina",
                    "nev": "Szedlár Krisztina"
                },
                {
                    "(No column name)": "8",
                    "USERNEV": "maria1",
                    "nev": "Baráth Mária"
                },
                {
                    "(No column name)": "8",
                    "USERNEV": "fruzsina4",
                    "nev": "Frank Fruzsina"
                },
                {
                    "(No column name)": "8",
                    "USERNEV": "GYORGYO",
                    "nev": "Oroszi György"
                },
                {
                    "(No column name)": "8",
                    "USERNEV": "anett3",
                    "nev": "Pivarcsi Anett"
                },
                {
                    "(No column name)": "8",
                    "USERNEV": "andras3",
                    "nev": "Vígh András"
                },
                {
                    "(No column name)": "8",
                    "USERNEV": "bernadett2",
                    "nev": "Kovács Bernadett"
                },
                {
                    "(No column name)": "8",
                    "USERNEV": "csongor3",
                    "nev": "Nagymihály Csongor"
                },
                {
                    "(No column name)": "7",
                    "USERNEV": "daniel1",
                    "nev": "Keszler Dániel"
                },
                {
                    "(No column name)": "7",
                    "USERNEV": "edit",
                    "nev": "Bittmann Edit"
                },
                {
                    "(No column name)": "7",
                    "USERNEV": "emese",
                    "nev": "Kuruc Emese"
                },
                {
                    "(No column name)": "7",
                    "USERNEV": "BERNADETTO",
                    "nev": "Orbán Bernadett"
                },
                {
                    "(No column name)": "7",
                    "USERNEV": "bernadett1",
                    "nev": "Simon Bernadett"
                },
                {
                    "(No column name)": "7",
                    "USERNEV": "alexandra",
                    "nev": "Bagóczki Alexandra"
                },
                {
                    "(No column name)": "7",
                    "USERNEV": "andras21",
                    "nev": "Molnár András"
                },
                {
                    "(No column name)": "7",
                    "USERNEV": "arpad2",
                    "nev": "Ötvös Árpád"
                },
                {
                    "(No column name)": "7",
                    "USERNEV": "ARPADH",
                    "nev": "Horváth Árpád"
                },
                {
                    "(No column name)": "7",
                    "USERNEV": "imre1",
                    "nev": "Papp Imre"
                },
                {
                    "(No column name)": "7",
                    "USERNEV": "GYONGYIK",
                    "nev": "Kornseé Gyöngyi"
                },
                {
                    "(No column name)": "7",
                    "USERNEV": "kati",
                    "nev": "Zatykó Katalin"
                },
                {
                    "(No column name)": "7",
                    "USERNEV": "JANOSG",
                    "nev": "Giliga János"
                },
                {
                    "(No column name)": "7",
                    "USERNEV": "JOZSEFG",
                    "nev": "Gyuris József"
                },
                {
                    "(No column name)": "7",
                    "USERNEV": "marton",
                    "nev": "Kalacsi Márton"
                },
                {
                    "(No column name)": "7",
                    "USERNEV": "nikoletta4",
                    "nev": "Kő Nikoletta"
                },
                {
                    "(No column name)": "7",
                    "USERNEV": "norbert2",
                    "nev": "Hegedűs Norbert"
                },
                {
                    "(No column name)": "7",
                    "USERNEV": "SZABOLCSM",
                    "nev": "Miklós Szabolcs"
                },
                {
                    "(No column name)": "7",
                    "USERNEV": "SZILARDS",
                    "nev": "Szalai Szilárd"
                },
                {
                    "(No column name)": "7",
                    "USERNEV": "vivien3",
                    "nev": "Boros Vivien"
                },
                {
                    "(No column name)": "6",
                    "USERNEV": "ZSOLTJ",
                    "nev": "Józsa Zsolt"
                },
                {
                    "(No column name)": "6",
                    "USERNEV": "ZOLTANP",
                    "nev": "Pintér Zoltán"
                },
                {
                    "(No column name)": "6",
                    "USERNEV": "ZSUZSAV",
                    "nev": "Vajda Zsuzsa"
                },
                {
                    "(No column name)": "6",
                    "USERNEV": "veronika4",
                    "nev": "Tankó Veronika"
                },
                {
                    "(No column name)": "6",
                    "USERNEV": "tihamer",
                    "nev": "Kazy Tihamér"
                },
                {
                    "(No column name)": "6",
                    "USERNEV": "RENATAK",
                    "nev": "Kardos Renáta"
                },
                {
                    "(No column name)": "6",
                    "USERNEV": "polla",
                    "nev": "Palágyi Polla"
                },
                {
                    "(No column name)": "6",
                    "USERNEV": "peter3",
                    "nev": "Szalai Péter"
                },
                {
                    "(No column name)": "6",
                    "USERNEV": "MONIKAM",
                    "nev": "Mohos Mónika"
                },
                {
                    "(No column name)": "6",
                    "USERNEV": "kriszti",
                    "nev": "Horváth Krisztina"
                },
                {
                    "(No column name)": "6",
                    "USERNEV": "LASZLON",
                    "nev": "Nagy László"
                },
                {
                    "(No column name)": "6",
                    "USERNEV": "krisztina1",
                    "nev": "Bori Krisztina"
                },
                {
                    "(No column name)": "6",
                    "USERNEV": "KRISZTIANM",
                    "nev": "Mogyródi Krisztián"
                },
                {
                    "(No column name)": "6",
                    "USERNEV": "lala",
                    "nev": "Nagymihály Lajos"
                },
                {
                    "(No column name)": "6",
                    "USERNEV": "katalin4",
                    "nev": "Kertész Katalin"
                },
                {
                    "(No column name)": "6",
                    "USERNEV": "gabor1",
                    "nev": "Köves Gábor"
                },
                {
                    "(No column name)": "6",
                    "USERNEV": "gabriella1",
                    "nev": "Nagy Gabriella"
                },
                {
                    "(No column name)": "6",
                    "USERNEV": "ARPADM",
                    "nev": "Móricz Árpád"
                },
                {
                    "(No column name)": "6",
                    "USERNEV": "ANNAMARIAR",
                    "nev": "Regős Annamária"
                },
                {
                    "(No column name)": "6",
                    "USERNEV": "aron2",
                    "nev": "Jakab Áron"
                },
                {
                    "(No column name)": "6",
                    "USERNEV": "attila1",
                    "nev": "Gulyás Attila"
                },
                {
                    "(No column name)": "6",
                    "USERNEV": "andrea",
                    "nev": "Kiss Andrea"
                },
                {
                    "(No column name)": "6",
                    "USERNEV": "AGNESH",
                    "nev": "Horváth Ágnes"
                },
                {
                    "(No column name)": "6",
                    "USERNEV": "adam4",
                    "nev": "Bieniek Ádám"
                },
                {
                    "(No column name)": "6",
                    "USERNEV": "beata4",
                    "nev": "Bagi Beáta"
                },
                {
                    "(No column name)": "6",
                    "USERNEV": "BENCEB",
                    "nev": "Bajusz Bence"
                },
                {
                    "(No column name)": "6",
                    "USERNEV": "bertalan",
                    "nev": "Csiger Bertalan"
                },
                {
                    "(No column name)": "6",
                    "USERNEV": "BEATRIXS",
                    "nev": "Szekendi Beatrix"
                },
                {
                    "(No column name)": "6",
                    "USERNEV": "BELAF",
                    "nev": "Farkas Béla"
                },
                {
                    "(No column name)": "6",
                    "USERNEV": "balazs3",
                    "nev": "Bakódy Balázs"
                },
                {
                    "(No column name)": "6",
                    "USERNEV": "balazs1",
                    "nev": "Bozsik Balázs"
                },
                {
                    "(No column name)": "6",
                    "USERNEV": "david1",
                    "nev": "Sobják Dávid"
                },
                {
                    "(No column name)": "6",
                    "USERNEV": "denes",
                    "nev": "Tömböly Dénes"
                },
                {
                    "(No column name)": "5",
                    "USERNEV": "dora3",
                    "nev": "Sarodi Dóra"
                },
                {
                    "(No column name)": "5",
                    "USERNEV": "EVAV",
                    "nev": "Viktor Éva"
                },
                {
                    "(No column name)": "5",
                    "USERNEV": "brigitta",
                    "nev": "Székely Brigitta"
                },
                {
                    "(No column name)": "5",
                    "USERNEV": "brigitta3",
                    "nev": "Pataki Brigitta"
                },
                {
                    "(No column name)": "5",
                    "USERNEV": "agnes",
                    "nev": "Lengyel Ágnes"
                },
                {
                    "(No column name)": "5",
                    "USERNEV": "ANDRASE",
                    "nev": "Erdei András"
                },
                {
                    "(No column name)": "5",
                    "USERNEV": "andi",
                    "nev": "Maródi Andrea"
                },
                {
                    "(No column name)": "5",
                    "USERNEV": "andras2",
                    "nev": "Tóth András"
                },
                {
                    "(No column name)": "5",
                    "USERNEV": "gusztav",
                    "nev": "Bárci Gusztáv"
                },
                {
                    "(No column name)": "5",
                    "USERNEV": "julia",
                    "nev": "Tóth Júlia"
                },
                {
                    "(No column name)": "5",
                    "USERNEV": "janos3",
                    "nev": "Harangozó János"
                },
                {
                    "(No column name)": "5",
                    "USERNEV": "jozsef2",
                    "nev": "Vajda József"
                },
                {
                    "(No column name)": "5",
                    "USERNEV": "KRISZTINAG",
                    "nev": "Gyárfás Krisztina"
                },
                {
                    "(No column name)": "5",
                    "USERNEV": "laszlo2",
                    "nev": "Móra László"
                },
                {
                    "(No column name)": "5",
                    "USERNEV": "mark",
                    "nev": "Kispál Márk"
                },
                {
                    "(No column name)": "5",
                    "USERNEV": "MIHALYJ",
                    "nev": "Juhász Mihály"
                },
                {
                    "(No column name)": "5",
                    "USERNEV": "pal",
                    "nev": "Barabás Pál"
                },
                {
                    "(No column name)": "5",
                    "USERNEV": "norbert",
                    "nev": "Szűcs Norbert"
                },
                {
                    "(No column name)": "5",
                    "USERNEV": "PETERB",
                    "nev": "Berendi Péter"
                },
                {
                    "(No column name)": "5",
                    "USERNEV": "RENATAS",
                    "nev": "Szirmai Renáta"
                },
                {
                    "(No column name)": "5",
                    "USERNEV": "SEBASTIANF",
                    "nev": "Foltényi Sebastián"
                },
                {
                    "(No column name)": "5",
                    "USERNEV": "reka4",
                    "nev": "Szikszai Réka"
                },
                {
                    "(No column name)": "5",
                    "USERNEV": "timea2",
                    "nev": "Dusha Tímea"
                },
                {
                    "(No column name)": "5",
                    "USERNEV": "valentin",
                    "nev": "Feró Valentin"
                },
                {
                    "(No column name)": "5",
                    "USERNEV": "sandor3",
                    "nev": "Farkas Sándor"
                },
                {
                    "(No column name)": "4",
                    "USERNEV": "sandor4",
                    "nev": "Nagy Sándor"
                },
                {
                    "(No column name)": "4",
                    "USERNEV": "VIKTORIAU",
                    "nev": "Urbán Viktoria"
                },
                {
                    "(No column name)": "4",
                    "USERNEV": "tamas",
                    "nev": "Antal Tamás"
                },
                {
                    "(No column name)": "4",
                    "USERNEV": "sandor",
                    "nev": "Karasz Sándor"
                },
                {
                    "(No column name)": "4",
                    "USERNEV": "roland",
                    "nev": "Tóth Roland"
                },
                {
                    "(No column name)": "4",
                    "USERNEV": "roland1",
                    "nev": "Ferencz Roland"
                },
                {
                    "(No column name)": "4",
                    "USERNEV": "sebestyen",
                    "nev": "Rab Sebestyén"
                },
                {
                    "(No column name)": "4",
                    "USERNEV": "robert2",
                    "nev": "Patay Róbert"
                },
                {
                    "(No column name)": "4",
                    "USERNEV": "rajmond4",
                    "nev": "Rácz Rajmond"
                },
                {
                    "(No column name)": "4",
                    "USERNEV": "zsolt1",
                    "nev": "Pulai Zsolt"
                },
                {
                    "(No column name)": "4",
                    "USERNEV": "zsuzsa3",
                    "nev": "Varsányi Zsuzsa"
                },
                {
                    "(No column name)": "4",
                    "USERNEV": "zsuzsanna",
                    "nev": "Barta Zsuzsanna"
                },
                {
                    "(No column name)": "4",
                    "USERNEV": "nikolett3",
                    "nev": "Horváth Nikolett"
                },
                {
                    "(No column name)": "4",
                    "USERNEV": "peter1",
                    "nev": "Kozma Péter"
                },
                {
                    "(No column name)": "4",
                    "USERNEV": "peter2",
                    "nev": "Bozsó Péter"
                },
                {
                    "(No column name)": "4",
                    "USERNEV": "NIKOLETTAT",
                    "nev": "Tatár Nikoletta"
                },
                {
                    "(No column name)": "4",
                    "USERNEV": "MARKH",
                    "nev": "Horváth Márk"
                },
                {
                    "(No column name)": "4",
                    "USERNEV": "LASZLOA",
                    "nev": "Antal László"
                },
                {
                    "(No column name)": "4",
                    "USERNEV": "JANOSP",
                    "nev": "Pálinkás János"
                },
                {
                    "(No column name)": "4",
                    "USERNEV": "julianna4",
                    "nev": "Szabó Julianna"
                },
                {
                    "(No column name)": "4",
                    "USERNEV": "eva2",
                    "nev": "Perlinger Éva"
                },
                {
                    "(No column name)": "4",
                    "USERNEV": "georgij",
                    "nev": "Nyíri Georgij"
                },
                {
                    "(No column name)": "4",
                    "USERNEV": "gabor4",
                    "nev": "Telek Gábor"
                },
                {
                    "(No column name)": "4",
                    "USERNEV": "istvan1",
                    "nev": "Vizi István"
                },
                {
                    "(No column name)": "4",
                    "USERNEV": "ilona3",
                    "nev": "Bosnyák Ilona"
                },
                {
                    "(No column name)": "4",
                    "USERNEV": "aniko4",
                    "nev": "Böröcz Anikó"
                },
                {
                    "(No column name)": "4",
                    "USERNEV": "anita",
                    "nev": "Hamvay-Kovács Anita"
                },
                {
                    "(No column name)": "4",
                    "USERNEV": "andrea4",
                    "nev": "Neizer Andrea"
                },
                {
                    "(No column name)": "4",
                    "USERNEV": "ATTILAO",
                    "nev": "Opra Attila"
                },
                {
                    "(No column name)": "4",
                    "USERNEV": "ferenc1",
                    "nev": "Orosz Ferenc"
                },
                {
                    "(No column name)": "4",
                    "USERNEV": "ESZTERE",
                    "nev": "Érsek Eszter"
                },
                {
                    "(No column name)": "4",
                    "USERNEV": "eszter",
                    "nev": "Molnár Eszter"
                },
                {
                    "(No column name)": "4",
                    "USERNEV": "debora",
                    "nev": "Barna Debóra"
                },
                {
                    "(No column name)": "3",
                    "USERNEV": "eszter4",
                    "nev": "Fülöp Eszter"
                },
                {
                    "(No column name)": "3",
                    "USERNEV": "balint",
                    "nev": "Horváth Bálint"
                },
                {
                    "(No column name)": "3",
                    "USERNEV": "ANDREAT",
                    "nev": "Tornyos Andrea"
                },
                {
                    "(No column name)": "3",
                    "USERNEV": "aniko",
                    "nev": "Tóth Anikó"
                },
                {
                    "(No column name)": "3",
                    "USERNEV": "attila4",
                    "nev": "Baróti Attila"
                },
                {
                    "(No column name)": "3",
                    "USERNEV": "attila",
                    "nev": "Csóti Attila"
                },
                {
                    "(No column name)": "3",
                    "USERNEV": "andras4",
                    "nev": "Back András"
                },
                {
                    "(No column name)": "3",
                    "USERNEV": "agnes3",
                    "nev": "Hartyánszky Ágnes"
                },
                {
                    "(No column name)": "3",
                    "USERNEV": "adam1",
                    "nev": "Kiss Ádám"
                },
                {
                    "(No column name)": "3",
                    "USERNEV": "AGNESK",
                    "nev": "Kovács Ágnes"
                },
                {
                    "(No column name)": "3",
                    "USERNEV": "aladar",
                    "nev": "Dunai Aladár"
                },
                {
                    "(No column name)": "3",
                    "USERNEV": "henrik3",
                    "nev": "Nádudvari Henrik"
                },
                {
                    "(No column name)": "3",
                    "USERNEV": "IBOLYAA",
                    "nev": "Andor Ibolya"
                },
                {
                    "(No column name)": "3",
                    "USERNEV": "istvan",
                    "nev": "Soós István"
                },
                {
                    "(No column name)": "3",
                    "USERNEV": "klaudia2",
                    "nev": "Bakó Klaudia"
                },
                {
                    "(No column name)": "3",
                    "USERNEV": "kornel4",
                    "nev": "Lukács Kornél"
                },
                {
                    "(No column name)": "3",
                    "USERNEV": "jozsef",
                    "nev": "Gergely József"
                },
                {
                    "(No column name)": "3",
                    "USERNEV": "JUDITH",
                    "nev": "Hídasi Judit"
                },
                {
                    "(No column name)": "3",
                    "USERNEV": "MATEK",
                    "nev": "Koza Máté"
                },
                {
                    "(No column name)": "3",
                    "USERNEV": "lajos",
                    "nev": "Kiss Lajos"
                },
                {
                    "(No column name)": "3",
                    "USERNEV": "NANDORF",
                    "nev": "Fő Nándor"
                },
                {
                    "(No column name)": "3",
                    "USERNEV": "miklos2",
                    "nev": "Gondos Miklós"
                },
                {
                    "(No column name)": "3",
                    "USERNEV": "MIKLOSB",
                    "nev": "Balla Miklós"
                },
                {
                    "(No column name)": "3",
                    "USERNEV": "norbert5",
                    "nev": "Béres Norbert"
                },
                {
                    "(No column name)": "3",
                    "USERNEV": "ZOLTANT",
                    "nev": "Tóth Zoltán"
                },
                {
                    "(No column name)": "3",
                    "USERNEV": "zsuzsa",
                    "nev": "Pusztai Zsuzsanna"
                },
                {
                    "(No column name)": "3",
                    "USERNEV": "roza2",
                    "nev": "Bucskó Róza"
                },
                {
                    "(No column name)": "2",
                    "USERNEV": "ROBERTP",
                    "nev": "Pásztor Róbert"
                },
                {
                    "(No column name)": "2",
                    "USERNEV": "VIKTORK",
                    "nev": "Keresztúri Viktor"
                },
                {
                    "(No column name)": "2",
                    "USERNEV": "tibor",
                    "nev": "Gombos Tibor"
                },
                {
                    "(No column name)": "2",
                    "USERNEV": "tamara2",
                    "nev": "Miklós Tamara"
                },
                {
                    "(No column name)": "2",
                    "USERNEV": "zoltan",
                    "nev": "Fodor Zoltán"
                },
                {
                    "(No column name)": "2",
                    "USERNEV": "zsofi1",
                    "nev": "Molnár Zsófi"
                },
                {
                    "(No column name)": "2",
                    "USERNEV": "matyas2",
                    "nev": "Botka Mátyás"
                },
                {
                    "(No column name)": "2",
                    "USERNEV": "julia4",
                    "nev": "Nagy Júlia"
                },
                {
                    "(No column name)": "2",
                    "USERNEV": "kristof4",
                    "nev": "Poprádi Kristóf"
                },
                {
                    "(No column name)": "2",
                    "USERNEV": "ISTVANV",
                    "nev": "Varga István"
                },
                {
                    "(No column name)": "2",
                    "USERNEV": "imre",
                    "nev": "Búza Imre"
                },
                {
                    "(No column name)": "2",
                    "USERNEV": "adam3",
                    "nev": "Barkóci Ádám"
                },
                {
                    "(No column name)": "2",
                    "USERNEV": "annamaria1",
                    "nev": "Szűcs Annamária"
                },
                {
                    "(No column name)": "2",
                    "USERNEV": "balint2",
                    "nev": "Vukasinovity Bálint"
                },
                {
                    "(No column name)": "2",
                    "USERNEV": "balu",
                    "nev": "Endresz Bálint"
                },
                {
                    "(No column name)": "2",
                    "USERNEV": "eva",
                    "nev": "Enyedi Éva"
                },
                {
                    "(No column name)": "1",
                    "USERNEV": "david4",
                    "nev": "Berta Dávid"
                },
                {
                    "(No column name)": "1",
                    "USERNEV": "ANDRASN",
                    "nev": "Nagy András"
                },
                {
                    "(No column name)": "1",
                    "USERNEV": "andrea3",
                    "nev": "Szomor Andrea"
                },
                {
                    "(No column name)": "1",
                    "USERNEV": "gabriella10",
                    "nev": "Vida Gabriella"
                },
                {
                    "(No column name)": "1",
                    "USERNEV": "laszlo1",
                    "nev": "Farkas László"
                },
                {
                    "(No column name)": "1",
                    "USERNEV": "tibor2",
                    "nev": "Dániel Tibor"
                },
                {
                    "(No column name)": "1",
                    "USERNEV": "timea",
                    "nev": "Papós Tímea"
                },
                {
                    "(No column name)": "1",
                    "USERNEV": "szabolcs",
                    "nev": "Bodor Szabolcs"
                }
            ]
        },
        "text/html": [
            "<table>",
            "<tr><th>(No column name)</th><th>USERNEV</th><th>nev</th><th>(No column name)</th></tr>",
            "<tr><td>1</td><td>andras41</td><td>Komjáti András</td><td>13</td></tr>",
            "<tr><td>2</td><td>ARONK</td><td>Kelemen Áron</td><td>13</td></tr>",
            "<tr><td>3</td><td>krisztian4</td><td>Czérna Krisztián</td><td>12</td></tr>",
            "<tr><td>4</td><td>peter4</td><td>Bíró Péter</td><td>12</td></tr>",
            "<tr><td>5</td><td>sara</td><td>Farkas Sára</td><td>12</td></tr>",
            "<tr><td>6</td><td>zoltan4</td><td>Barna Zoltán</td><td>12</td></tr>",
            "<tr><td>7</td><td>kata</td><td>Gondos Katalin</td><td>10</td></tr>",
            "<tr><td>8</td><td>akos</td><td>Bíró Ákos</td><td>10</td></tr>",
            "<tr><td>9</td><td>balazs2</td><td>Szűcs Balázs</td><td>10</td></tr>",
            "<tr><td>10</td><td>balint1</td><td>Molnár Bálint</td><td>10</td></tr>",
            "<tr><td>11</td><td>eszter2</td><td>Balogh Eszter</td><td>10</td></tr>",
            "<tr><td>12</td><td>dani</td><td>Vörös Dániel</td><td>9</td></tr>",
            "<tr><td>13</td><td>daniel</td><td>Rácz Dániel</td><td>9</td></tr>",
            "<tr><td>14</td><td>david</td><td>Ambrus Dávid</td><td>9</td></tr>",
            "<tr><td>15</td><td>BEATRIXK</td><td>Kerényi Beatrix</td><td>9</td></tr>",
            "<tr><td>16</td><td>bence</td><td>Győrffy Bence</td><td>9</td></tr>",
            "<tr><td>17</td><td>ANIKOS</td><td>Simon Anikó</td><td>9</td></tr>",
            "<tr><td>18</td><td>katalin</td><td>Horváth Katalin</td><td>9</td></tr>",
            "<tr><td>19</td><td>katka</td><td>Kovács Katalin</td><td>9</td></tr>",
            "<tr><td>20</td><td>norbert4</td><td>Mile Norbert</td><td>9</td></tr>",
            "<tr><td>21</td><td>szilvia1</td><td>Tari Szilvia</td><td>9</td></tr>",
            "<tr><td>22</td><td>TAMASF</td><td>Fényes Tamás</td><td>9</td></tr>",
            "<tr><td>23</td><td>tunde</td><td>Turcsik Tünde</td><td>8</td></tr>",
            "<tr><td>24</td><td>ROBERTI</td><td>Iván Róbert</td><td>8</td></tr>",
            "<tr><td>25</td><td>MATYASS</td><td>Szilágyi Mátyás</td><td>8</td></tr>",
            "<tr><td>26</td><td>krisztina</td><td>Szedlár Krisztina</td><td>8</td></tr>",
            "<tr><td>27</td><td>maria1</td><td>Baráth Mária</td><td>8</td></tr>",
            "<tr><td>28</td><td>fruzsina4</td><td>Frank Fruzsina</td><td>8</td></tr>",
            "<tr><td>29</td><td>GYORGYO</td><td>Oroszi György</td><td>8</td></tr>",
            "<tr><td>30</td><td>anett3</td><td>Pivarcsi Anett</td><td>8</td></tr>",
            "<tr><td>31</td><td>andras3</td><td>Vígh András</td><td>8</td></tr>",
            "<tr><td>32</td><td>bernadett2</td><td>Kovács Bernadett</td><td>8</td></tr>",
            "<tr><td>33</td><td>csongor3</td><td>Nagymihály Csongor</td><td>8</td></tr>",
            "<tr><td>34</td><td>daniel1</td><td>Keszler Dániel</td><td>7</td></tr>",
            "<tr><td>35</td><td>edit</td><td>Bittmann Edit</td><td>7</td></tr>",
            "<tr><td>36</td><td>emese</td><td>Kuruc Emese</td><td>7</td></tr>",
            "<tr><td>37</td><td>BERNADETTO</td><td>Orbán Bernadett</td><td>7</td></tr>",
            "<tr><td>38</td><td>bernadett1</td><td>Simon Bernadett</td><td>7</td></tr>",
            "<tr><td>39</td><td>alexandra</td><td>Bagóczki Alexandra</td><td>7</td></tr>",
            "<tr><td>40</td><td>andras21</td><td>Molnár András</td><td>7</td></tr>",
            "<tr><td>41</td><td>arpad2</td><td>Ötvös Árpád</td><td>7</td></tr>",
            "<tr><td>42</td><td>ARPADH</td><td>Horváth Árpád</td><td>7</td></tr>",
            "<tr><td>43</td><td>imre1</td><td>Papp Imre</td><td>7</td></tr>",
            "<tr><td>44</td><td>GYONGYIK</td><td>Kornseé Gyöngyi</td><td>7</td></tr>",
            "<tr><td>45</td><td>kati</td><td>Zatykó Katalin</td><td>7</td></tr>",
            "<tr><td>46</td><td>JANOSG</td><td>Giliga János</td><td>7</td></tr>",
            "<tr><td>47</td><td>JOZSEFG</td><td>Gyuris József</td><td>7</td></tr>",
            "<tr><td>48</td><td>marton</td><td>Kalacsi Márton</td><td>7</td></tr>",
            "<tr><td>49</td><td>nikoletta4</td><td>Kő Nikoletta</td><td>7</td></tr>",
            "<tr><td>50</td><td>norbert2</td><td>Hegedűs Norbert</td><td>7</td></tr>",
            "<tr><td>51</td><td>SZABOLCSM</td><td>Miklós Szabolcs</td><td>7</td></tr>",
            "<tr><td>52</td><td>SZILARDS</td><td>Szalai Szilárd</td><td>7</td></tr>",
            "<tr><td>53</td><td>vivien3</td><td>Boros Vivien</td><td>7</td></tr>",
            "<tr><td>54</td><td>ZSOLTJ</td><td>Józsa Zsolt</td><td>6</td></tr>",
            "<tr><td>55</td><td>ZOLTANP</td><td>Pintér Zoltán</td><td>6</td></tr>",
            "<tr><td>56</td><td>ZSUZSAV</td><td>Vajda Zsuzsa</td><td>6</td></tr>",
            "<tr><td>57</td><td>veronika4</td><td>Tankó Veronika</td><td>6</td></tr>",
            "<tr><td>58</td><td>tihamer</td><td>Kazy Tihamér</td><td>6</td></tr>",
            "<tr><td>59</td><td>RENATAK</td><td>Kardos Renáta</td><td>6</td></tr>",
            "<tr><td>60</td><td>polla</td><td>Palágyi Polla</td><td>6</td></tr>",
            "<tr><td>61</td><td>peter3</td><td>Szalai Péter</td><td>6</td></tr>",
            "<tr><td>62</td><td>MONIKAM</td><td>Mohos Mónika</td><td>6</td></tr>",
            "<tr><td>63</td><td>kriszti</td><td>Horváth Krisztina</td><td>6</td></tr>",
            "<tr><td>64</td><td>LASZLON</td><td>Nagy László</td><td>6</td></tr>",
            "<tr><td>65</td><td>krisztina1</td><td>Bori Krisztina</td><td>6</td></tr>",
            "<tr><td>66</td><td>KRISZTIANM</td><td>Mogyródi Krisztián</td><td>6</td></tr>",
            "<tr><td>67</td><td>lala</td><td>Nagymihály Lajos</td><td>6</td></tr>",
            "<tr><td>68</td><td>katalin4</td><td>Kertész Katalin</td><td>6</td></tr>",
            "<tr><td>69</td><td>gabor1</td><td>Köves Gábor</td><td>6</td></tr>",
            "<tr><td>70</td><td>gabriella1</td><td>Nagy Gabriella</td><td>6</td></tr>",
            "<tr><td>71</td><td>ARPADM</td><td>Móricz Árpád</td><td>6</td></tr>",
            "<tr><td>72</td><td>ANNAMARIAR</td><td>Regős Annamária</td><td>6</td></tr>",
            "<tr><td>73</td><td>aron2</td><td>Jakab Áron</td><td>6</td></tr>",
            "<tr><td>74</td><td>attila1</td><td>Gulyás Attila</td><td>6</td></tr>",
            "<tr><td>75</td><td>andrea</td><td>Kiss Andrea</td><td>6</td></tr>",
            "<tr><td>76</td><td>AGNESH</td><td>Horváth Ágnes</td><td>6</td></tr>",
            "<tr><td>77</td><td>adam4</td><td>Bieniek Ádám</td><td>6</td></tr>",
            "<tr><td>78</td><td>beata4</td><td>Bagi Beáta</td><td>6</td></tr>",
            "<tr><td>79</td><td>BENCEB</td><td>Bajusz Bence</td><td>6</td></tr>",
            "<tr><td>80</td><td>bertalan</td><td>Csiger Bertalan</td><td>6</td></tr>",
            "<tr><td>81</td><td>BEATRIXS</td><td>Szekendi Beatrix</td><td>6</td></tr>",
            "<tr><td>82</td><td>BELAF</td><td>Farkas Béla</td><td>6</td></tr>",
            "<tr><td>83</td><td>balazs3</td><td>Bakódy Balázs</td><td>6</td></tr>",
            "<tr><td>84</td><td>balazs1</td><td>Bozsik Balázs</td><td>6</td></tr>",
            "<tr><td>85</td><td>david1</td><td>Sobják Dávid</td><td>6</td></tr>",
            "<tr><td>86</td><td>denes</td><td>Tömböly Dénes</td><td>6</td></tr>",
            "<tr><td>87</td><td>dora3</td><td>Sarodi Dóra</td><td>5</td></tr>",
            "<tr><td>88</td><td>EVAV</td><td>Viktor Éva</td><td>5</td></tr>",
            "<tr><td>89</td><td>brigitta</td><td>Székely Brigitta</td><td>5</td></tr>",
            "<tr><td>90</td><td>brigitta3</td><td>Pataki Brigitta</td><td>5</td></tr>",
            "<tr><td>91</td><td>agnes</td><td>Lengyel Ágnes</td><td>5</td></tr>",
            "<tr><td>92</td><td>ANDRASE</td><td>Erdei András</td><td>5</td></tr>",
            "<tr><td>93</td><td>andi</td><td>Maródi Andrea</td><td>5</td></tr>",
            "<tr><td>94</td><td>andras2</td><td>Tóth András</td><td>5</td></tr>",
            "<tr><td>95</td><td>gusztav</td><td>Bárci Gusztáv</td><td>5</td></tr>",
            "<tr><td>96</td><td>julia</td><td>Tóth Júlia</td><td>5</td></tr>",
            "<tr><td>97</td><td>janos3</td><td>Harangozó János</td><td>5</td></tr>",
            "<tr><td>98</td><td>jozsef2</td><td>Vajda József</td><td>5</td></tr>",
            "<tr><td>99</td><td>KRISZTINAG</td><td>Gyárfás Krisztina</td><td>5</td></tr>",
            "<tr><td>100</td><td>laszlo2</td><td>Móra László</td><td>5</td></tr>",
            "<tr><td>101</td><td>mark</td><td>Kispál Márk</td><td>5</td></tr>",
            "<tr><td>102</td><td>MIHALYJ</td><td>Juhász Mihály</td><td>5</td></tr>",
            "<tr><td>103</td><td>pal</td><td>Barabás Pál</td><td>5</td></tr>",
            "<tr><td>104</td><td>norbert</td><td>Szűcs Norbert</td><td>5</td></tr>",
            "<tr><td>105</td><td>PETERB</td><td>Berendi Péter</td><td>5</td></tr>",
            "<tr><td>106</td><td>RENATAS</td><td>Szirmai Renáta</td><td>5</td></tr>",
            "<tr><td>107</td><td>SEBASTIANF</td><td>Foltényi Sebastián</td><td>5</td></tr>",
            "<tr><td>108</td><td>reka4</td><td>Szikszai Réka</td><td>5</td></tr>",
            "<tr><td>109</td><td>timea2</td><td>Dusha Tímea</td><td>5</td></tr>",
            "<tr><td>110</td><td>valentin</td><td>Feró Valentin</td><td>5</td></tr>",
            "<tr><td>111</td><td>sandor3</td><td>Farkas Sándor</td><td>5</td></tr>",
            "<tr><td>112</td><td>sandor4</td><td>Nagy Sándor</td><td>4</td></tr>",
            "<tr><td>113</td><td>VIKTORIAU</td><td>Urbán Viktoria</td><td>4</td></tr>",
            "<tr><td>114</td><td>tamas</td><td>Antal Tamás</td><td>4</td></tr>",
            "<tr><td>115</td><td>sandor</td><td>Karasz Sándor</td><td>4</td></tr>",
            "<tr><td>116</td><td>roland</td><td>Tóth Roland</td><td>4</td></tr>",
            "<tr><td>117</td><td>roland1</td><td>Ferencz Roland</td><td>4</td></tr>",
            "<tr><td>118</td><td>sebestyen</td><td>Rab Sebestyén</td><td>4</td></tr>",
            "<tr><td>119</td><td>robert2</td><td>Patay Róbert</td><td>4</td></tr>",
            "<tr><td>120</td><td>rajmond4</td><td>Rácz Rajmond</td><td>4</td></tr>",
            "<tr><td>121</td><td>zsolt1</td><td>Pulai Zsolt</td><td>4</td></tr>",
            "<tr><td>122</td><td>zsuzsa3</td><td>Varsányi Zsuzsa</td><td>4</td></tr>",
            "<tr><td>123</td><td>zsuzsanna</td><td>Barta Zsuzsanna</td><td>4</td></tr>",
            "<tr><td>124</td><td>nikolett3</td><td>Horváth Nikolett</td><td>4</td></tr>",
            "<tr><td>125</td><td>peter1</td><td>Kozma Péter</td><td>4</td></tr>",
            "<tr><td>126</td><td>peter2</td><td>Bozsó Péter</td><td>4</td></tr>",
            "<tr><td>127</td><td>NIKOLETTAT</td><td>Tatár Nikoletta</td><td>4</td></tr>",
            "<tr><td>128</td><td>MARKH</td><td>Horváth Márk</td><td>4</td></tr>",
            "<tr><td>129</td><td>LASZLOA</td><td>Antal László</td><td>4</td></tr>",
            "<tr><td>130</td><td>JANOSP</td><td>Pálinkás János</td><td>4</td></tr>",
            "<tr><td>131</td><td>julianna4</td><td>Szabó Julianna</td><td>4</td></tr>",
            "<tr><td>132</td><td>eva2</td><td>Perlinger Éva</td><td>4</td></tr>",
            "<tr><td>133</td><td>georgij</td><td>Nyíri Georgij</td><td>4</td></tr>",
            "<tr><td>134</td><td>gabor4</td><td>Telek Gábor</td><td>4</td></tr>",
            "<tr><td>135</td><td>istvan1</td><td>Vizi István</td><td>4</td></tr>",
            "<tr><td>136</td><td>ilona3</td><td>Bosnyák Ilona</td><td>4</td></tr>",
            "<tr><td>137</td><td>aniko4</td><td>Böröcz Anikó</td><td>4</td></tr>",
            "<tr><td>138</td><td>anita</td><td>Hamvay-Kovács Anita</td><td>4</td></tr>",
            "<tr><td>139</td><td>andrea4</td><td>Neizer Andrea</td><td>4</td></tr>",
            "<tr><td>140</td><td>ATTILAO</td><td>Opra Attila</td><td>4</td></tr>",
            "<tr><td>141</td><td>ferenc1</td><td>Orosz Ferenc</td><td>4</td></tr>",
            "<tr><td>142</td><td>ESZTERE</td><td>Érsek Eszter</td><td>4</td></tr>",
            "<tr><td>143</td><td>eszter</td><td>Molnár Eszter</td><td>4</td></tr>",
            "<tr><td>144</td><td>debora</td><td>Barna Debóra</td><td>4</td></tr>",
            "<tr><td>145</td><td>eszter4</td><td>Fülöp Eszter</td><td>3</td></tr>",
            "<tr><td>146</td><td>balint</td><td>Horváth Bálint</td><td>3</td></tr>",
            "<tr><td>147</td><td>ANDREAT</td><td>Tornyos Andrea</td><td>3</td></tr>",
            "<tr><td>148</td><td>aniko</td><td>Tóth Anikó</td><td>3</td></tr>",
            "<tr><td>149</td><td>attila4</td><td>Baróti Attila</td><td>3</td></tr>",
            "<tr><td>150</td><td>attila</td><td>Csóti Attila</td><td>3</td></tr>",
            "<tr><td>151</td><td>andras4</td><td>Back András</td><td>3</td></tr>",
            "<tr><td>152</td><td>agnes3</td><td>Hartyánszky Ágnes</td><td>3</td></tr>",
            "<tr><td>153</td><td>adam1</td><td>Kiss Ádám</td><td>3</td></tr>",
            "<tr><td>154</td><td>AGNESK</td><td>Kovács Ágnes</td><td>3</td></tr>",
            "<tr><td>155</td><td>aladar</td><td>Dunai Aladár</td><td>3</td></tr>",
            "<tr><td>156</td><td>henrik3</td><td>Nádudvari Henrik</td><td>3</td></tr>",
            "<tr><td>157</td><td>IBOLYAA</td><td>Andor Ibolya</td><td>3</td></tr>",
            "<tr><td>158</td><td>istvan</td><td>Soós István</td><td>3</td></tr>",
            "<tr><td>159</td><td>klaudia2</td><td>Bakó Klaudia</td><td>3</td></tr>",
            "<tr><td>160</td><td>kornel4</td><td>Lukács Kornél</td><td>3</td></tr>",
            "<tr><td>161</td><td>jozsef</td><td>Gergely József</td><td>3</td></tr>",
            "<tr><td>162</td><td>JUDITH</td><td>Hídasi Judit</td><td>3</td></tr>",
            "<tr><td>163</td><td>MATEK</td><td>Koza Máté</td><td>3</td></tr>",
            "<tr><td>164</td><td>lajos</td><td>Kiss Lajos</td><td>3</td></tr>",
            "<tr><td>165</td><td>NANDORF</td><td>Fő Nándor</td><td>3</td></tr>",
            "<tr><td>166</td><td>miklos2</td><td>Gondos Miklós</td><td>3</td></tr>",
            "<tr><td>167</td><td>MIKLOSB</td><td>Balla Miklós</td><td>3</td></tr>",
            "<tr><td>168</td><td>norbert5</td><td>Béres Norbert</td><td>3</td></tr>",
            "<tr><td>169</td><td>ZOLTANT</td><td>Tóth Zoltán</td><td>3</td></tr>",
            "<tr><td>170</td><td>zsuzsa</td><td>Pusztai Zsuzsanna</td><td>3</td></tr>",
            "<tr><td>171</td><td>roza2</td><td>Bucskó Róza</td><td>3</td></tr>",
            "<tr><td>172</td><td>ROBERTP</td><td>Pásztor Róbert</td><td>2</td></tr>",
            "<tr><td>173</td><td>VIKTORK</td><td>Keresztúri Viktor</td><td>2</td></tr>",
            "<tr><td>174</td><td>tibor</td><td>Gombos Tibor</td><td>2</td></tr>",
            "<tr><td>175</td><td>tamara2</td><td>Miklós Tamara</td><td>2</td></tr>",
            "<tr><td>176</td><td>zoltan</td><td>Fodor Zoltán</td><td>2</td></tr>",
            "<tr><td>177</td><td>zsofi1</td><td>Molnár Zsófi</td><td>2</td></tr>",
            "<tr><td>178</td><td>matyas2</td><td>Botka Mátyás</td><td>2</td></tr>",
            "<tr><td>179</td><td>julia4</td><td>Nagy Júlia</td><td>2</td></tr>",
            "<tr><td>180</td><td>kristof4</td><td>Poprádi Kristóf</td><td>2</td></tr>",
            "<tr><td>181</td><td>ISTVANV</td><td>Varga István</td><td>2</td></tr>",
            "<tr><td>182</td><td>imre</td><td>Búza Imre</td><td>2</td></tr>",
            "<tr><td>183</td><td>adam3</td><td>Barkóci Ádám</td><td>2</td></tr>",
            "<tr><td>184</td><td>annamaria1</td><td>Szűcs Annamária</td><td>2</td></tr>",
            "<tr><td>185</td><td>balint2</td><td>Vukasinovity Bálint</td><td>2</td></tr>",
            "<tr><td>186</td><td>balu</td><td>Endresz Bálint</td><td>2</td></tr>",
            "<tr><td>187</td><td>eva</td><td>Enyedi Éva</td><td>2</td></tr>",
            "<tr><td>188</td><td>david4</td><td>Berta Dávid</td><td>1</td></tr>",
            "<tr><td>189</td><td>ANDRASN</td><td>Nagy András</td><td>1</td></tr>",
            "<tr><td>190</td><td>andrea3</td><td>Szomor Andrea</td><td>1</td></tr>",
            "<tr><td>191</td><td>gabriella10</td><td>Vida Gabriella</td><td>1</td></tr>",
            "<tr><td>192</td><td>laszlo1</td><td>Farkas László</td><td>1</td></tr>",
            "<tr><td>193</td><td>tibor2</td><td>Dániel Tibor</td><td>1</td></tr>",
            "<tr><td>194</td><td>timea</td><td>Papós Tímea</td><td>1</td></tr>",
            "<tr><td>195</td><td>szabolcs</td><td>Bodor Szabolcs</td><td>1</td></tr>",
            "</table>"
        ]
    }
}
],
            "execution_count": 18
        },
        {
            "cell_type": "markdown",
            "source": [
                "4. <span style=\"background-color: rgb(255, 255, 255); color: rgb(0, 0, 0); font-family: &quot;Open Sans&quot;, sans-serif; font-size: 14.44px;\">Készítsen lekérdezést, amely megjeleníti, hogy szálláshelyenként, azon belül a pótágyak száma szerint hány főre foglaltak összesen (felnőtt + gyermek)!</span>\n",
                "\n",
                "- Jelenjenek meg a részösszegek és a végösszeg is!"
            ],
            "metadata": {
                "azdata_cell_guid": "614ce685-0223-49d5-a02e-b3e8902c1de8"
            },
            "attachments": {}
        },
        {
            "cell_type": "code",
            "source": [
                "SELECT *\r\n",
                "from Szoba sz join szallashely szh on szh.SZALLAS_ID = sz.SZALLAS_FK\r\n",
                "                join foglalas f on f.szoba_fk = sz.SZOBA_ID\r\n",
                "group by rollup(szh.SZALLAS_NEV, sz.POTAGY)"
            ],
            "metadata": {
                "azdata_cell_guid": "8f4fa1b1-ba4d-4d65-915d-a6d997117b75",
                "language": "sql"
            },
            "outputs": [
                {
                    "output_type": "error",
                    "evalue": "Msg 8120, Level 16, State 1, Line 1\r\nColumn 'Szoba.SZOBA_ID' is invalid in the select list because it is not contained in either an aggregate function or the GROUP BY clause.",
                    "ename": "",
                    "traceback": []
                },
                {
                    "output_type": "display_data",
                    "data": {
                        "text/html": "Total execution time: 00:00:00.005"
                    },
                    "metadata": {}
                }
            ],
            "execution_count": 17
        },
        {
            "cell_type": "markdown",
            "source": [
                "5. <span style=\"background-color: rgb(255, 255, 255); color: rgb(0, 0, 0); font-family: &quot;Open Sans&quot;, sans-serif; font-size: 14.44px;\">Készítsünk ideiglenes táblát #MASKED_GUEST néven, ahol&nbsp;</span> \n",
                "\n",
                "- a tábla felépítése megegyezik a vendég tábláéval, DE\n",
                "- a vendégek nevének csak az első 2, és az utolsó 3 karaktere jelenjen meg, közötte X-ek legyenek!"
            ],
            "metadata": {
                "azdata_cell_guid": "638ccf32-86e4-462c-88cf-b8f109ce7e46"
            },
            "attachments": {}
        },
        {
            "cell_type": "code",
            "source": [
                "create table #MASKED_GUEST\r\n",
                "(\r\n",
                "    usernev varchar(20),\r\n",
                "    nev VARCHAR(50) masked with (function = 'partial(2, \"XXXX\", 3)'),\r\n",
                "    emial VARCHAR(60),\r\n",
                "    szaml_cm NVARCHAR(100),\r\n",
                "    szul_dat date\r\n",
                ")"
            ],
            "metadata": {
                "azdata_cell_guid": "f968834f-4514-4caf-a4e8-a4f603653eb4",
                "language": "sql"
            },
            "outputs": [
                {
                    "output_type": "display_data",
                    "data": {
                        "text/html": "Commands completed successfully."
                    },
                    "metadata": {}
                },
                {
                    "output_type": "display_data",
                    "data": {
                        "text/html": "Total execution time: 00:00:00.007"
                    },
                    "metadata": {}
                }
            ],
            "execution_count": 14
        },
        {
            "cell_type": "markdown",
            "source": [
                "6. <span style=\"background-color: rgb(255, 255, 255); color: rgb(0, 0, 0); font-family: &quot;Open Sans&quot;, sans-serif; font-size: 14.44px;\">Valósítsa meg REDIS-ben a következő táblákat:</span>\n",
                "\n",
                "- <span style=\"box-sizing: border-box; font-size: 0.9375rem;\">IRO(ID, nev, nemzetiseg)</span>\n",
                "- KONYV(ID, cim, mufaj, IRO\\_ID)\n",
                "\n",
                "Vigyen fel táblánként legalább 2-2 sornyi adatot!"
            ],
            "metadata": {
                "azdata_cell_guid": "c14f47de-a24c-43d6-9c37-618d1890e95c"
            },
            "attachments": {}
        },
        {
            "cell_type": "code",
            "source": [
                "> hset iro:1 nev \"Lewis Newton\" nemzetiseg angol\r\n",
                "(integer) 2\r\n",
                "\r\n",
                "> hset iro:2 nev \"Kiss Bela\" nemzetiseg magyar\r\n",
                "(integer) 2\r\n",
                "\r\n",
                "> hset konyv:1:2 cim \"Okor szepsegei\" mufaj tortenelmi\r\n",
                "(integer) 2\r\n",
                "\r\n",
                "> hset konyv:1:1 cim \"A lakoma\" mufaj thriller\r\n",
                "(integer) 2"
            ],
            "metadata": {
                "azdata_cell_guid": "41ac7a18-2544-4e63-aff6-3494f53212e2",
                "language": "sql"
            },
            "outputs": [],
            "execution_count": null
        },
        {
            "cell_type": "markdown",
            "source": [
                "7. <span style=\"background-color: rgb(255, 255, 255); color: rgb(0, 0, 0); font-family: &quot;Open Sans&quot;, sans-serif; font-size: 14.44px;\">Cassandra CQL Shellben hozza létre a következő táblát:</span>\n",
                "\n",
                "STUDENT(ID, Nev, Teljesitett\\_felevek, Eredmenyek, Nyelvtudas)\n",
                "\n",
                "- Az ID legyen az elsődleges kulcs\n",
                "- A Teljesitett félévek legyen LIST, tartalma egész számok, pl: 1, 2, 3\n",
                "- Az Eredmenyek legyen MAP, tartalma, hogy melyik félévben mennyi volt az átlag, pl: 1: 3,00, 2: 4.55, 3: 4,10\n",
                "- A Nyelvtudas legyen SET, tartalma a nyelvek megnevezése\n",
                "\n",
                "Vigyen fel legalább 2 rekordot!"
            ],
            "metadata": {
                "azdata_cell_guid": "73d5f9af-32d2-4282-acca-2e0cff36830d"
            },
            "attachments": {}
        },
        {
            "cell_type": "code",
            "source": [
                "create table student(\r\n",
                "          ... ID int primary key,\r\n",
                "          ... Nev text,\r\n",
                "          ... Teljesitett_felevek list<int>,\r\n",
                "          ... Eredmenyek map<int, float>,\r\n",
                "          ... Nyelvtudas set);\r\n",
                "\r\n",
                ""
            ],
            "metadata": {
                "azdata_cell_guid": "8845652b-d993-4c7a-88fa-cb7da8e64c3e",
                "language": "sql"
            },
            "outputs": [],
            "execution_count": null
        },
        {
            "cell_type": "markdown",
            "source": [
                "8. <span style=\"background-color: rgb(255, 255, 255); color: rgb(0, 0, 0); font-family: &quot;Open Sans&quot;, sans-serif; font-size: 14.44px;\">A Neo4j Sandbox-ban vagy a Desktopban jelenítsük meg azon személyeket, akik egy filmben szerepeltek Tom Hanks-sel.</span>\n",
                "\n",
                "- Egy szereplő neve csak egyszer jelenjen meg\n",
                "- Tom Hanks ne legyen benne a listában"
            ],
            "metadata": {
                "azdata_cell_guid": "f1bd2047-fe96-4a59-948e-eecf38656e27"
            },
            "attachments": {}
        },
        {
            "cell_type": "code",
            "source": [
                ""
            ],
            "metadata": {
                "azdata_cell_guid": "0e006d7f-55ed-47ff-ad7b-77e3423911c7",
                "language": "sql"
            },
            "outputs": [],
            "execution_count": null
        }
    ]
}