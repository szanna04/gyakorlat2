{
    "metadata": {
        "kernelspec": {
            "name": "SQL",
            "display_name": "SQL",
            "language": "sql"
        },
        "language_info": {
            "name": "sql",
            "version": ""
        }
    },
    "nbformat_minor": 2,
    "nbformat": 4,
    "cells": [
        {
            "cell_type": "markdown",
            "source": [
                "1\\. Jelenítsük meg minden egyes szoba esetén, hogy hányszor foglalták le!\n",
                "\n",
                "- Csak a szoba azonosítója és a foglalások darabszáma jelenjen meg\n",
                "- Azok a szobák is jelenjenek meg, ahol nem történt foglalás"
            ],
            "metadata": {
                "azdata_cell_guid": "106eaff5-e834-4a04-9d42-2b7212e14a8b"
            },
            "attachments": {}
        },
        {
            "cell_type": "code",
            "source": [
                "SELECT sz.szoba_id,\r\n",
                "        count(*)\r\n",
                "from Szoba sz left join foglalas f on sz.szoba_id = f.szoba_fk\r\n",
                "group by sz.szoba_id"
            ],
            "metadata": {
                "azdata_cell_guid": "c665d075-cee5-43b6-8486-b769cd3266f1",
                "language": "sql"
            },
            "outputs": [
{
    "output_type": "display_data",
    "data": {
        "text/html": "(294 rows affected)"
    },
    "metadata": {}
}, {
    "output_type": "display_data",
    "data": {
        "text/html": "Total execution time: 00:00:00.048"
    },
    "metadata": {}
}, {
    "output_type": "execute_result",
    "metadata": {},
    "execution_count": 10,
    "data": {
        "application/vnd.dataresource+json": {
            "schema": {
                "fields": [
                    {
                        "name": "szoba_id"
                    },
                    {
                        "name": "(No column name)"
                    }
                ]
            },
            "data": [
                {
                    "szoba_id": "1",
                    "(No column name)": "8"
                },
                {
                    "szoba_id": "2",
                    "(No column name)": "4"
                },
                {
                    "szoba_id": "3",
                    "(No column name)": "8"
                },
                {
                    "szoba_id": "4",
                    "(No column name)": "6"
                },
                {
                    "szoba_id": "5",
                    "(No column name)": "4"
                },
                {
                    "szoba_id": "6",
                    "(No column name)": "6"
                },
                {
                    "szoba_id": "7",
                    "(No column name)": "6"
                },
                {
                    "szoba_id": "8",
                    "(No column name)": "5"
                },
                {
                    "szoba_id": "9",
                    "(No column name)": "6"
                },
                {
                    "szoba_id": "10",
                    "(No column name)": "4"
                },
                {
                    "szoba_id": "11",
                    "(No column name)": "4"
                },
                {
                    "szoba_id": "12",
                    "(No column name)": "9"
                },
                {
                    "szoba_id": "13",
                    "(No column name)": "4"
                },
                {
                    "szoba_id": "14",
                    "(No column name)": "3"
                },
                {
                    "szoba_id": "15",
                    "(No column name)": "6"
                },
                {
                    "szoba_id": "16",
                    "(No column name)": "5"
                },
                {
                    "szoba_id": "17",
                    "(No column name)": "6"
                },
                {
                    "szoba_id": "18",
                    "(No column name)": "6"
                },
                {
                    "szoba_id": "19",
                    "(No column name)": "6"
                },
                {
                    "szoba_id": "20",
                    "(No column name)": "5"
                },
                {
                    "szoba_id": "21",
                    "(No column name)": "4"
                },
                {
                    "szoba_id": "22",
                    "(No column name)": "6"
                },
                {
                    "szoba_id": "23",
                    "(No column name)": "3"
                },
                {
                    "szoba_id": "24",
                    "(No column name)": "3"
                },
                {
                    "szoba_id": "25",
                    "(No column name)": "2"
                },
                {
                    "szoba_id": "26",
                    "(No column name)": "2"
                },
                {
                    "szoba_id": "27",
                    "(No column name)": "7"
                },
                {
                    "szoba_id": "28",
                    "(No column name)": "6"
                },
                {
                    "szoba_id": "29",
                    "(No column name)": "6"
                },
                {
                    "szoba_id": "30",
                    "(No column name)": "3"
                },
                {
                    "szoba_id": "31",
                    "(No column name)": "3"
                },
                {
                    "szoba_id": "32",
                    "(No column name)": "1"
                },
                {
                    "szoba_id": "33",
                    "(No column name)": "6"
                },
                {
                    "szoba_id": "34",
                    "(No column name)": "4"
                },
                {
                    "szoba_id": "35",
                    "(No column name)": "9"
                },
                {
                    "szoba_id": "36",
                    "(No column name)": "6"
                },
                {
                    "szoba_id": "37",
                    "(No column name)": "3"
                },
                {
                    "szoba_id": "38",
                    "(No column name)": "8"
                },
                {
                    "szoba_id": "39",
                    "(No column name)": "7"
                },
                {
                    "szoba_id": "40",
                    "(No column name)": "4"
                },
                {
                    "szoba_id": "41",
                    "(No column name)": "2"
                },
                {
                    "szoba_id": "42",
                    "(No column name)": "6"
                },
                {
                    "szoba_id": "43",
                    "(No column name)": "8"
                },
                {
                    "szoba_id": "44",
                    "(No column name)": "6"
                },
                {
                    "szoba_id": "45",
                    "(No column name)": "5"
                },
                {
                    "szoba_id": "46",
                    "(No column name)": "4"
                },
                {
                    "szoba_id": "47",
                    "(No column name)": "2"
                },
                {
                    "szoba_id": "48",
                    "(No column name)": "9"
                },
                {
                    "szoba_id": "49",
                    "(No column name)": "7"
                },
                {
                    "szoba_id": "50",
                    "(No column name)": "4"
                },
                {
                    "szoba_id": "51",
                    "(No column name)": "5"
                },
                {
                    "szoba_id": "52",
                    "(No column name)": "5"
                },
                {
                    "szoba_id": "53",
                    "(No column name)": "2"
                },
                {
                    "szoba_id": "54",
                    "(No column name)": "6"
                },
                {
                    "szoba_id": "55",
                    "(No column name)": "8"
                },
                {
                    "szoba_id": "56",
                    "(No column name)": "2"
                },
                {
                    "szoba_id": "57",
                    "(No column name)": "4"
                },
                {
                    "szoba_id": "58",
                    "(No column name)": "13"
                },
                {
                    "szoba_id": "59",
                    "(No column name)": "7"
                },
                {
                    "szoba_id": "60",
                    "(No column name)": "1"
                },
                {
                    "szoba_id": "61",
                    "(No column name)": "5"
                },
                {
                    "szoba_id": "62",
                    "(No column name)": "5"
                },
                {
                    "szoba_id": "63",
                    "(No column name)": "4"
                },
                {
                    "szoba_id": "64",
                    "(No column name)": "6"
                },
                {
                    "szoba_id": "65",
                    "(No column name)": "1"
                },
                {
                    "szoba_id": "66",
                    "(No column name)": "4"
                },
                {
                    "szoba_id": "67",
                    "(No column name)": "6"
                },
                {
                    "szoba_id": "68",
                    "(No column name)": "3"
                },
                {
                    "szoba_id": "69",
                    "(No column name)": "4"
                },
                {
                    "szoba_id": "70",
                    "(No column name)": "11"
                },
                {
                    "szoba_id": "71",
                    "(No column name)": "3"
                },
                {
                    "szoba_id": "72",
                    "(No column name)": "4"
                },
                {
                    "szoba_id": "73",
                    "(No column name)": "4"
                },
                {
                    "szoba_id": "74",
                    "(No column name)": "9"
                },
                {
                    "szoba_id": "75",
                    "(No column name)": "3"
                },
                {
                    "szoba_id": "76",
                    "(No column name)": "3"
                },
                {
                    "szoba_id": "77",
                    "(No column name)": "6"
                },
                {
                    "szoba_id": "78",
                    "(No column name)": "6"
                },
                {
                    "szoba_id": "79",
                    "(No column name)": "5"
                },
                {
                    "szoba_id": "80",
                    "(No column name)": "7"
                },
                {
                    "szoba_id": "81",
                    "(No column name)": "5"
                },
                {
                    "szoba_id": "82",
                    "(No column name)": "6"
                },
                {
                    "szoba_id": "83",
                    "(No column name)": "8"
                },
                {
                    "szoba_id": "84",
                    "(No column name)": "4"
                },
                {
                    "szoba_id": "85",
                    "(No column name)": "4"
                },
                {
                    "szoba_id": "86",
                    "(No column name)": "5"
                },
                {
                    "szoba_id": "87",
                    "(No column name)": "5"
                },
                {
                    "szoba_id": "88",
                    "(No column name)": "8"
                },
                {
                    "szoba_id": "89",
                    "(No column name)": "8"
                },
                {
                    "szoba_id": "90",
                    "(No column name)": "4"
                },
                {
                    "szoba_id": "91",
                    "(No column name)": "4"
                },
                {
                    "szoba_id": "92",
                    "(No column name)": "6"
                },
                {
                    "szoba_id": "93",
                    "(No column name)": "5"
                },
                {
                    "szoba_id": "94",
                    "(No column name)": "10"
                },
                {
                    "szoba_id": "95",
                    "(No column name)": "4"
                },
                {
                    "szoba_id": "96",
                    "(No column name)": "7"
                },
                {
                    "szoba_id": "97",
                    "(No column name)": "7"
                },
                {
                    "szoba_id": "98",
                    "(No column name)": "4"
                },
                {
                    "szoba_id": "99",
                    "(No column name)": "5"
                },
                {
                    "szoba_id": "100",
                    "(No column name)": "4"
                },
                {
                    "szoba_id": "101",
                    "(No column name)": "3"
                },
                {
                    "szoba_id": "102",
                    "(No column name)": "2"
                },
                {
                    "szoba_id": "103",
                    "(No column name)": "4"
                },
                {
                    "szoba_id": "104",
                    "(No column name)": "4"
                },
                {
                    "szoba_id": "105",
                    "(No column name)": "2"
                },
                {
                    "szoba_id": "106",
                    "(No column name)": "6"
                },
                {
                    "szoba_id": "107",
                    "(No column name)": "5"
                },
                {
                    "szoba_id": "108",
                    "(No column name)": "2"
                },
                {
                    "szoba_id": "109",
                    "(No column name)": "7"
                },
                {
                    "szoba_id": "110",
                    "(No column name)": "8"
                },
                {
                    "szoba_id": "111",
                    "(No column name)": "5"
                },
                {
                    "szoba_id": "112",
                    "(No column name)": "5"
                },
                {
                    "szoba_id": "113",
                    "(No column name)": "5"
                },
                {
                    "szoba_id": "114",
                    "(No column name)": "4"
                },
                {
                    "szoba_id": "115",
                    "(No column name)": "7"
                },
                {
                    "szoba_id": "116",
                    "(No column name)": "2"
                },
                {
                    "szoba_id": "117",
                    "(No column name)": "8"
                },
                {
                    "szoba_id": "118",
                    "(No column name)": "7"
                },
                {
                    "szoba_id": "119",
                    "(No column name)": "5"
                },
                {
                    "szoba_id": "120",
                    "(No column name)": "6"
                },
                {
                    "szoba_id": "121",
                    "(No column name)": "8"
                },
                {
                    "szoba_id": "122",
                    "(No column name)": "9"
                },
                {
                    "szoba_id": "123",
                    "(No column name)": "5"
                },
                {
                    "szoba_id": "124",
                    "(No column name)": "6"
                },
                {
                    "szoba_id": "125",
                    "(No column name)": "1"
                },
                {
                    "szoba_id": "126",
                    "(No column name)": "6"
                },
                {
                    "szoba_id": "127",
                    "(No column name)": "7"
                },
                {
                    "szoba_id": "128",
                    "(No column name)": "5"
                },
                {
                    "szoba_id": "129",
                    "(No column name)": "4"
                },
                {
                    "szoba_id": "130",
                    "(No column name)": "6"
                },
                {
                    "szoba_id": "131",
                    "(No column name)": "5"
                },
                {
                    "szoba_id": "132",
                    "(No column name)": "6"
                },
                {
                    "szoba_id": "133",
                    "(No column name)": "6"
                },
                {
                    "szoba_id": "134",
                    "(No column name)": "6"
                },
                {
                    "szoba_id": "135",
                    "(No column name)": "3"
                },
                {
                    "szoba_id": "136",
                    "(No column name)": "3"
                },
                {
                    "szoba_id": "137",
                    "(No column name)": "6"
                },
                {
                    "szoba_id": "138",
                    "(No column name)": "7"
                },
                {
                    "szoba_id": "139",
                    "(No column name)": "7"
                },
                {
                    "szoba_id": "140",
                    "(No column name)": "8"
                },
                {
                    "szoba_id": "141",
                    "(No column name)": "6"
                },
                {
                    "szoba_id": "142",
                    "(No column name)": "2"
                },
                {
                    "szoba_id": "143",
                    "(No column name)": "7"
                },
                {
                    "szoba_id": "144",
                    "(No column name)": "5"
                },
                {
                    "szoba_id": "145",
                    "(No column name)": "6"
                },
                {
                    "szoba_id": "146",
                    "(No column name)": "6"
                },
                {
                    "szoba_id": "147",
                    "(No column name)": "1"
                },
                {
                    "szoba_id": "148",
                    "(No column name)": "6"
                },
                {
                    "szoba_id": "149",
                    "(No column name)": "7"
                },
                {
                    "szoba_id": "150",
                    "(No column name)": "6"
                },
                {
                    "szoba_id": "151",
                    "(No column name)": "3"
                },
                {
                    "szoba_id": "152",
                    "(No column name)": "4"
                },
                {
                    "szoba_id": "153",
                    "(No column name)": "5"
                },
                {
                    "szoba_id": "154",
                    "(No column name)": "5"
                },
                {
                    "szoba_id": "155",
                    "(No column name)": "5"
                },
                {
                    "szoba_id": "156",
                    "(No column name)": "7"
                },
                {
                    "szoba_id": "157",
                    "(No column name)": "5"
                },
                {
                    "szoba_id": "158",
                    "(No column name)": "3"
                },
                {
                    "szoba_id": "159",
                    "(No column name)": "1"
                },
                {
                    "szoba_id": "160",
                    "(No column name)": "5"
                },
                {
                    "szoba_id": "161",
                    "(No column name)": "6"
                },
                {
                    "szoba_id": "162",
                    "(No column name)": "3"
                },
                {
                    "szoba_id": "163",
                    "(No column name)": "7"
                },
                {
                    "szoba_id": "164",
                    "(No column name)": "5"
                },
                {
                    "szoba_id": "165",
                    "(No column name)": "7"
                },
                {
                    "szoba_id": "166",
                    "(No column name)": "3"
                },
                {
                    "szoba_id": "167",
                    "(No column name)": "2"
                },
                {
                    "szoba_id": "168",
                    "(No column name)": "5"
                },
                {
                    "szoba_id": "169",
                    "(No column name)": "6"
                },
                {
                    "szoba_id": "170",
                    "(No column name)": "5"
                },
                {
                    "szoba_id": "171",
                    "(No column name)": "5"
                },
                {
                    "szoba_id": "172",
                    "(No column name)": "9"
                },
                {
                    "szoba_id": "173",
                    "(No column name)": "4"
                },
                {
                    "szoba_id": "174",
                    "(No column name)": "4"
                },
                {
                    "szoba_id": "175",
                    "(No column name)": "5"
                },
                {
                    "szoba_id": "176",
                    "(No column name)": "6"
                },
                {
                    "szoba_id": "177",
                    "(No column name)": "4"
                },
                {
                    "szoba_id": "178",
                    "(No column name)": "4"
                },
                {
                    "szoba_id": "179",
                    "(No column name)": "3"
                },
                {
                    "szoba_id": "180",
                    "(No column name)": "3"
                },
                {
                    "szoba_id": "181",
                    "(No column name)": "6"
                },
                {
                    "szoba_id": "182",
                    "(No column name)": "12"
                },
                {
                    "szoba_id": "183",
                    "(No column name)": "4"
                },
                {
                    "szoba_id": "184",
                    "(No column name)": "4"
                },
                {
                    "szoba_id": "185",
                    "(No column name)": "12"
                },
                {
                    "szoba_id": "186",
                    "(No column name)": "4"
                },
                {
                    "szoba_id": "187",
                    "(No column name)": "7"
                },
                {
                    "szoba_id": "188",
                    "(No column name)": "6"
                },
                {
                    "szoba_id": "189",
                    "(No column name)": "5"
                },
                {
                    "szoba_id": "190",
                    "(No column name)": "5"
                },
                {
                    "szoba_id": "191",
                    "(No column name)": "5"
                },
                {
                    "szoba_id": "192",
                    "(No column name)": "2"
                },
                {
                    "szoba_id": "193",
                    "(No column name)": "7"
                },
                {
                    "szoba_id": "194",
                    "(No column name)": "1"
                },
                {
                    "szoba_id": "195",
                    "(No column name)": "6"
                },
                {
                    "szoba_id": "196",
                    "(No column name)": "4"
                },
                {
                    "szoba_id": "197",
                    "(No column name)": "6"
                },
                {
                    "szoba_id": "198",
                    "(No column name)": "8"
                },
                {
                    "szoba_id": "199",
                    "(No column name)": "1"
                },
                {
                    "szoba_id": "200",
                    "(No column name)": "1"
                },
                {
                    "szoba_id": "201",
                    "(No column name)": "1"
                },
                {
                    "szoba_id": "202",
                    "(No column name)": "1"
                },
                {
                    "szoba_id": "203",
                    "(No column name)": "1"
                },
                {
                    "szoba_id": "204",
                    "(No column name)": "1"
                },
                {
                    "szoba_id": "205",
                    "(No column name)": "1"
                },
                {
                    "szoba_id": "206",
                    "(No column name)": "1"
                },
                {
                    "szoba_id": "207",
                    "(No column name)": "1"
                },
                {
                    "szoba_id": "208",
                    "(No column name)": "1"
                },
                {
                    "szoba_id": "209",
                    "(No column name)": "1"
                },
                {
                    "szoba_id": "210",
                    "(No column name)": "1"
                },
                {
                    "szoba_id": "211",
                    "(No column name)": "1"
                },
                {
                    "szoba_id": "212",
                    "(No column name)": "1"
                },
                {
                    "szoba_id": "213",
                    "(No column name)": "1"
                },
                {
                    "szoba_id": "214",
                    "(No column name)": "1"
                },
                {
                    "szoba_id": "215",
                    "(No column name)": "1"
                },
                {
                    "szoba_id": "216",
                    "(No column name)": "1"
                },
                {
                    "szoba_id": "217",
                    "(No column name)": "1"
                },
                {
                    "szoba_id": "218",
                    "(No column name)": "1"
                },
                {
                    "szoba_id": "219",
                    "(No column name)": "1"
                },
                {
                    "szoba_id": "220",
                    "(No column name)": "1"
                },
                {
                    "szoba_id": "221",
                    "(No column name)": "1"
                },
                {
                    "szoba_id": "222",
                    "(No column name)": "1"
                },
                {
                    "szoba_id": "223",
                    "(No column name)": "1"
                },
                {
                    "szoba_id": "224",
                    "(No column name)": "1"
                },
                {
                    "szoba_id": "225",
                    "(No column name)": "1"
                },
                {
                    "szoba_id": "226",
                    "(No column name)": "1"
                },
                {
                    "szoba_id": "227",
                    "(No column name)": "1"
                },
                {
                    "szoba_id": "228",
                    "(No column name)": "1"
                },
                {
                    "szoba_id": "229",
                    "(No column name)": "1"
                },
                {
                    "szoba_id": "230",
                    "(No column name)": "1"
                },
                {
                    "szoba_id": "231",
                    "(No column name)": "1"
                },
                {
                    "szoba_id": "232",
                    "(No column name)": "1"
                },
                {
                    "szoba_id": "233",
                    "(No column name)": "1"
                },
                {
                    "szoba_id": "234",
                    "(No column name)": "1"
                },
                {
                    "szoba_id": "235",
                    "(No column name)": "1"
                },
                {
                    "szoba_id": "236",
                    "(No column name)": "1"
                },
                {
                    "szoba_id": "237",
                    "(No column name)": "1"
                },
                {
                    "szoba_id": "238",
                    "(No column name)": "1"
                },
                {
                    "szoba_id": "239",
                    "(No column name)": "1"
                },
                {
                    "szoba_id": "240",
                    "(No column name)": "1"
                },
                {
                    "szoba_id": "241",
                    "(No column name)": "1"
                },
                {
                    "szoba_id": "242",
                    "(No column name)": "1"
                },
                {
                    "szoba_id": "243",
                    "(No column name)": "1"
                },
                {
                    "szoba_id": "244",
                    "(No column name)": "1"
                },
                {
                    "szoba_id": "245",
                    "(No column name)": "1"
                },
                {
                    "szoba_id": "246",
                    "(No column name)": "1"
                },
                {
                    "szoba_id": "247",
                    "(No column name)": "1"
                },
                {
                    "szoba_id": "248",
                    "(No column name)": "1"
                },
                {
                    "szoba_id": "249",
                    "(No column name)": "1"
                },
                {
                    "szoba_id": "250",
                    "(No column name)": "1"
                },
                {
                    "szoba_id": "251",
                    "(No column name)": "1"
                },
                {
                    "szoba_id": "252",
                    "(No column name)": "1"
                },
                {
                    "szoba_id": "253",
                    "(No column name)": "1"
                },
                {
                    "szoba_id": "254",
                    "(No column name)": "1"
                },
                {
                    "szoba_id": "255",
                    "(No column name)": "1"
                },
                {
                    "szoba_id": "256",
                    "(No column name)": "1"
                },
                {
                    "szoba_id": "257",
                    "(No column name)": "1"
                },
                {
                    "szoba_id": "258",
                    "(No column name)": "1"
                },
                {
                    "szoba_id": "259",
                    "(No column name)": "1"
                },
                {
                    "szoba_id": "260",
                    "(No column name)": "1"
                },
                {
                    "szoba_id": "261",
                    "(No column name)": "1"
                },
                {
                    "szoba_id": "262",
                    "(No column name)": "1"
                },
                {
                    "szoba_id": "263",
                    "(No column name)": "1"
                },
                {
                    "szoba_id": "264",
                    "(No column name)": "1"
                },
                {
                    "szoba_id": "265",
                    "(No column name)": "1"
                },
                {
                    "szoba_id": "266",
                    "(No column name)": "1"
                },
                {
                    "szoba_id": "267",
                    "(No column name)": "1"
                },
                {
                    "szoba_id": "268",
                    "(No column name)": "1"
                },
                {
                    "szoba_id": "269",
                    "(No column name)": "1"
                },
                {
                    "szoba_id": "270",
                    "(No column name)": "1"
                },
                {
                    "szoba_id": "271",
                    "(No column name)": "1"
                },
                {
                    "szoba_id": "272",
                    "(No column name)": "1"
                },
                {
                    "szoba_id": "273",
                    "(No column name)": "1"
                },
                {
                    "szoba_id": "274",
                    "(No column name)": "1"
                },
                {
                    "szoba_id": "275",
                    "(No column name)": "1"
                },
                {
                    "szoba_id": "276",
                    "(No column name)": "1"
                },
                {
                    "szoba_id": "277",
                    "(No column name)": "1"
                },
                {
                    "szoba_id": "278",
                    "(No column name)": "1"
                },
                {
                    "szoba_id": "279",
                    "(No column name)": "1"
                },
                {
                    "szoba_id": "280",
                    "(No column name)": "1"
                },
                {
                    "szoba_id": "281",
                    "(No column name)": "1"
                },
                {
                    "szoba_id": "282",
                    "(No column name)": "1"
                },
                {
                    "szoba_id": "283",
                    "(No column name)": "1"
                },
                {
                    "szoba_id": "284",
                    "(No column name)": "1"
                },
                {
                    "szoba_id": "285",
                    "(No column name)": "1"
                },
                {
                    "szoba_id": "286",
                    "(No column name)": "1"
                },
                {
                    "szoba_id": "287",
                    "(No column name)": "1"
                },
                {
                    "szoba_id": "288",
                    "(No column name)": "1"
                },
                {
                    "szoba_id": "289",
                    "(No column name)": "1"
                },
                {
                    "szoba_id": "290",
                    "(No column name)": "1"
                },
                {
                    "szoba_id": "291",
                    "(No column name)": "1"
                },
                {
                    "szoba_id": "292",
                    "(No column name)": "1"
                },
                {
                    "szoba_id": "293",
                    "(No column name)": "1"
                },
                {
                    "szoba_id": "294",
                    "(No column name)": "1"
                }
            ]
        },
        "text/html": [
            "<table>",
            "<tr><th>szoba_id</th><th>(No column name)</th></tr>",
            "<tr><td>1</td><td>8</td></tr>",
            "<tr><td>2</td><td>4</td></tr>",
            "<tr><td>3</td><td>8</td></tr>",
            "<tr><td>4</td><td>6</td></tr>",
            "<tr><td>5</td><td>4</td></tr>",
            "<tr><td>6</td><td>6</td></tr>",
            "<tr><td>7</td><td>6</td></tr>",
            "<tr><td>8</td><td>5</td></tr>",
            "<tr><td>9</td><td>6</td></tr>",
            "<tr><td>10</td><td>4</td></tr>",
            "<tr><td>11</td><td>4</td></tr>",
            "<tr><td>12</td><td>9</td></tr>",
            "<tr><td>13</td><td>4</td></tr>",
            "<tr><td>14</td><td>3</td></tr>",
            "<tr><td>15</td><td>6</td></tr>",
            "<tr><td>16</td><td>5</td></tr>",
            "<tr><td>17</td><td>6</td></tr>",
            "<tr><td>18</td><td>6</td></tr>",
            "<tr><td>19</td><td>6</td></tr>",
            "<tr><td>20</td><td>5</td></tr>",
            "<tr><td>21</td><td>4</td></tr>",
            "<tr><td>22</td><td>6</td></tr>",
            "<tr><td>23</td><td>3</td></tr>",
            "<tr><td>24</td><td>3</td></tr>",
            "<tr><td>25</td><td>2</td></tr>",
            "<tr><td>26</td><td>2</td></tr>",
            "<tr><td>27</td><td>7</td></tr>",
            "<tr><td>28</td><td>6</td></tr>",
            "<tr><td>29</td><td>6</td></tr>",
            "<tr><td>30</td><td>3</td></tr>",
            "<tr><td>31</td><td>3</td></tr>",
            "<tr><td>32</td><td>1</td></tr>",
            "<tr><td>33</td><td>6</td></tr>",
            "<tr><td>34</td><td>4</td></tr>",
            "<tr><td>35</td><td>9</td></tr>",
            "<tr><td>36</td><td>6</td></tr>",
            "<tr><td>37</td><td>3</td></tr>",
            "<tr><td>38</td><td>8</td></tr>",
            "<tr><td>39</td><td>7</td></tr>",
            "<tr><td>40</td><td>4</td></tr>",
            "<tr><td>41</td><td>2</td></tr>",
            "<tr><td>42</td><td>6</td></tr>",
            "<tr><td>43</td><td>8</td></tr>",
            "<tr><td>44</td><td>6</td></tr>",
            "<tr><td>45</td><td>5</td></tr>",
            "<tr><td>46</td><td>4</td></tr>",
            "<tr><td>47</td><td>2</td></tr>",
            "<tr><td>48</td><td>9</td></tr>",
            "<tr><td>49</td><td>7</td></tr>",
            "<tr><td>50</td><td>4</td></tr>",
            "<tr><td>51</td><td>5</td></tr>",
            "<tr><td>52</td><td>5</td></tr>",
            "<tr><td>53</td><td>2</td></tr>",
            "<tr><td>54</td><td>6</td></tr>",
            "<tr><td>55</td><td>8</td></tr>",
            "<tr><td>56</td><td>2</td></tr>",
            "<tr><td>57</td><td>4</td></tr>",
            "<tr><td>58</td><td>13</td></tr>",
            "<tr><td>59</td><td>7</td></tr>",
            "<tr><td>60</td><td>1</td></tr>",
            "<tr><td>61</td><td>5</td></tr>",
            "<tr><td>62</td><td>5</td></tr>",
            "<tr><td>63</td><td>4</td></tr>",
            "<tr><td>64</td><td>6</td></tr>",
            "<tr><td>65</td><td>1</td></tr>",
            "<tr><td>66</td><td>4</td></tr>",
            "<tr><td>67</td><td>6</td></tr>",
            "<tr><td>68</td><td>3</td></tr>",
            "<tr><td>69</td><td>4</td></tr>",
            "<tr><td>70</td><td>11</td></tr>",
            "<tr><td>71</td><td>3</td></tr>",
            "<tr><td>72</td><td>4</td></tr>",
            "<tr><td>73</td><td>4</td></tr>",
            "<tr><td>74</td><td>9</td></tr>",
            "<tr><td>75</td><td>3</td></tr>",
            "<tr><td>76</td><td>3</td></tr>",
            "<tr><td>77</td><td>6</td></tr>",
            "<tr><td>78</td><td>6</td></tr>",
            "<tr><td>79</td><td>5</td></tr>",
            "<tr><td>80</td><td>7</td></tr>",
            "<tr><td>81</td><td>5</td></tr>",
            "<tr><td>82</td><td>6</td></tr>",
            "<tr><td>83</td><td>8</td></tr>",
            "<tr><td>84</td><td>4</td></tr>",
            "<tr><td>85</td><td>4</td></tr>",
            "<tr><td>86</td><td>5</td></tr>",
            "<tr><td>87</td><td>5</td></tr>",
            "<tr><td>88</td><td>8</td></tr>",
            "<tr><td>89</td><td>8</td></tr>",
            "<tr><td>90</td><td>4</td></tr>",
            "<tr><td>91</td><td>4</td></tr>",
            "<tr><td>92</td><td>6</td></tr>",
            "<tr><td>93</td><td>5</td></tr>",
            "<tr><td>94</td><td>10</td></tr>",
            "<tr><td>95</td><td>4</td></tr>",
            "<tr><td>96</td><td>7</td></tr>",
            "<tr><td>97</td><td>7</td></tr>",
            "<tr><td>98</td><td>4</td></tr>",
            "<tr><td>99</td><td>5</td></tr>",
            "<tr><td>100</td><td>4</td></tr>",
            "<tr><td>101</td><td>3</td></tr>",
            "<tr><td>102</td><td>2</td></tr>",
            "<tr><td>103</td><td>4</td></tr>",
            "<tr><td>104</td><td>4</td></tr>",
            "<tr><td>105</td><td>2</td></tr>",
            "<tr><td>106</td><td>6</td></tr>",
            "<tr><td>107</td><td>5</td></tr>",
            "<tr><td>108</td><td>2</td></tr>",
            "<tr><td>109</td><td>7</td></tr>",
            "<tr><td>110</td><td>8</td></tr>",
            "<tr><td>111</td><td>5</td></tr>",
            "<tr><td>112</td><td>5</td></tr>",
            "<tr><td>113</td><td>5</td></tr>",
            "<tr><td>114</td><td>4</td></tr>",
            "<tr><td>115</td><td>7</td></tr>",
            "<tr><td>116</td><td>2</td></tr>",
            "<tr><td>117</td><td>8</td></tr>",
            "<tr><td>118</td><td>7</td></tr>",
            "<tr><td>119</td><td>5</td></tr>",
            "<tr><td>120</td><td>6</td></tr>",
            "<tr><td>121</td><td>8</td></tr>",
            "<tr><td>122</td><td>9</td></tr>",
            "<tr><td>123</td><td>5</td></tr>",
            "<tr><td>124</td><td>6</td></tr>",
            "<tr><td>125</td><td>1</td></tr>",
            "<tr><td>126</td><td>6</td></tr>",
            "<tr><td>127</td><td>7</td></tr>",
            "<tr><td>128</td><td>5</td></tr>",
            "<tr><td>129</td><td>4</td></tr>",
            "<tr><td>130</td><td>6</td></tr>",
            "<tr><td>131</td><td>5</td></tr>",
            "<tr><td>132</td><td>6</td></tr>",
            "<tr><td>133</td><td>6</td></tr>",
            "<tr><td>134</td><td>6</td></tr>",
            "<tr><td>135</td><td>3</td></tr>",
            "<tr><td>136</td><td>3</td></tr>",
            "<tr><td>137</td><td>6</td></tr>",
            "<tr><td>138</td><td>7</td></tr>",
            "<tr><td>139</td><td>7</td></tr>",
            "<tr><td>140</td><td>8</td></tr>",
            "<tr><td>141</td><td>6</td></tr>",
            "<tr><td>142</td><td>2</td></tr>",
            "<tr><td>143</td><td>7</td></tr>",
            "<tr><td>144</td><td>5</td></tr>",
            "<tr><td>145</td><td>6</td></tr>",
            "<tr><td>146</td><td>6</td></tr>",
            "<tr><td>147</td><td>1</td></tr>",
            "<tr><td>148</td><td>6</td></tr>",
            "<tr><td>149</td><td>7</td></tr>",
            "<tr><td>150</td><td>6</td></tr>",
            "<tr><td>151</td><td>3</td></tr>",
            "<tr><td>152</td><td>4</td></tr>",
            "<tr><td>153</td><td>5</td></tr>",
            "<tr><td>154</td><td>5</td></tr>",
            "<tr><td>155</td><td>5</td></tr>",
            "<tr><td>156</td><td>7</td></tr>",
            "<tr><td>157</td><td>5</td></tr>",
            "<tr><td>158</td><td>3</td></tr>",
            "<tr><td>159</td><td>1</td></tr>",
            "<tr><td>160</td><td>5</td></tr>",
            "<tr><td>161</td><td>6</td></tr>",
            "<tr><td>162</td><td>3</td></tr>",
            "<tr><td>163</td><td>7</td></tr>",
            "<tr><td>164</td><td>5</td></tr>",
            "<tr><td>165</td><td>7</td></tr>",
            "<tr><td>166</td><td>3</td></tr>",
            "<tr><td>167</td><td>2</td></tr>",
            "<tr><td>168</td><td>5</td></tr>",
            "<tr><td>169</td><td>6</td></tr>",
            "<tr><td>170</td><td>5</td></tr>",
            "<tr><td>171</td><td>5</td></tr>",
            "<tr><td>172</td><td>9</td></tr>",
            "<tr><td>173</td><td>4</td></tr>",
            "<tr><td>174</td><td>4</td></tr>",
            "<tr><td>175</td><td>5</td></tr>",
            "<tr><td>176</td><td>6</td></tr>",
            "<tr><td>177</td><td>4</td></tr>",
            "<tr><td>178</td><td>4</td></tr>",
            "<tr><td>179</td><td>3</td></tr>",
            "<tr><td>180</td><td>3</td></tr>",
            "<tr><td>181</td><td>6</td></tr>",
            "<tr><td>182</td><td>12</td></tr>",
            "<tr><td>183</td><td>4</td></tr>",
            "<tr><td>184</td><td>4</td></tr>",
            "<tr><td>185</td><td>12</td></tr>",
            "<tr><td>186</td><td>4</td></tr>",
            "<tr><td>187</td><td>7</td></tr>",
            "<tr><td>188</td><td>6</td></tr>",
            "<tr><td>189</td><td>5</td></tr>",
            "<tr><td>190</td><td>5</td></tr>",
            "<tr><td>191</td><td>5</td></tr>",
            "<tr><td>192</td><td>2</td></tr>",
            "<tr><td>193</td><td>7</td></tr>",
            "<tr><td>194</td><td>1</td></tr>",
            "<tr><td>195</td><td>6</td></tr>",
            "<tr><td>196</td><td>4</td></tr>",
            "<tr><td>197</td><td>6</td></tr>",
            "<tr><td>198</td><td>8</td></tr>",
            "<tr><td>199</td><td>1</td></tr>",
            "<tr><td>200</td><td>1</td></tr>",
            "<tr><td>201</td><td>1</td></tr>",
            "<tr><td>202</td><td>1</td></tr>",
            "<tr><td>203</td><td>1</td></tr>",
            "<tr><td>204</td><td>1</td></tr>",
            "<tr><td>205</td><td>1</td></tr>",
            "<tr><td>206</td><td>1</td></tr>",
            "<tr><td>207</td><td>1</td></tr>",
            "<tr><td>208</td><td>1</td></tr>",
            "<tr><td>209</td><td>1</td></tr>",
            "<tr><td>210</td><td>1</td></tr>",
            "<tr><td>211</td><td>1</td></tr>",
            "<tr><td>212</td><td>1</td></tr>",
            "<tr><td>213</td><td>1</td></tr>",
            "<tr><td>214</td><td>1</td></tr>",
            "<tr><td>215</td><td>1</td></tr>",
            "<tr><td>216</td><td>1</td></tr>",
            "<tr><td>217</td><td>1</td></tr>",
            "<tr><td>218</td><td>1</td></tr>",
            "<tr><td>219</td><td>1</td></tr>",
            "<tr><td>220</td><td>1</td></tr>",
            "<tr><td>221</td><td>1</td></tr>",
            "<tr><td>222</td><td>1</td></tr>",
            "<tr><td>223</td><td>1</td></tr>",
            "<tr><td>224</td><td>1</td></tr>",
            "<tr><td>225</td><td>1</td></tr>",
            "<tr><td>226</td><td>1</td></tr>",
            "<tr><td>227</td><td>1</td></tr>",
            "<tr><td>228</td><td>1</td></tr>",
            "<tr><td>229</td><td>1</td></tr>",
            "<tr><td>230</td><td>1</td></tr>",
            "<tr><td>231</td><td>1</td></tr>",
            "<tr><td>232</td><td>1</td></tr>",
            "<tr><td>233</td><td>1</td></tr>",
            "<tr><td>234</td><td>1</td></tr>",
            "<tr><td>235</td><td>1</td></tr>",
            "<tr><td>236</td><td>1</td></tr>",
            "<tr><td>237</td><td>1</td></tr>",
            "<tr><td>238</td><td>1</td></tr>",
            "<tr><td>239</td><td>1</td></tr>",
            "<tr><td>240</td><td>1</td></tr>",
            "<tr><td>241</td><td>1</td></tr>",
            "<tr><td>242</td><td>1</td></tr>",
            "<tr><td>243</td><td>1</td></tr>",
            "<tr><td>244</td><td>1</td></tr>",
            "<tr><td>245</td><td>1</td></tr>",
            "<tr><td>246</td><td>1</td></tr>",
            "<tr><td>247</td><td>1</td></tr>",
            "<tr><td>248</td><td>1</td></tr>",
            "<tr><td>249</td><td>1</td></tr>",
            "<tr><td>250</td><td>1</td></tr>",
            "<tr><td>251</td><td>1</td></tr>",
            "<tr><td>252</td><td>1</td></tr>",
            "<tr><td>253</td><td>1</td></tr>",
            "<tr><td>254</td><td>1</td></tr>",
            "<tr><td>255</td><td>1</td></tr>",
            "<tr><td>256</td><td>1</td></tr>",
            "<tr><td>257</td><td>1</td></tr>",
            "<tr><td>258</td><td>1</td></tr>",
            "<tr><td>259</td><td>1</td></tr>",
            "<tr><td>260</td><td>1</td></tr>",
            "<tr><td>261</td><td>1</td></tr>",
            "<tr><td>262</td><td>1</td></tr>",
            "<tr><td>263</td><td>1</td></tr>",
            "<tr><td>264</td><td>1</td></tr>",
            "<tr><td>265</td><td>1</td></tr>",
            "<tr><td>266</td><td>1</td></tr>",
            "<tr><td>267</td><td>1</td></tr>",
            "<tr><td>268</td><td>1</td></tr>",
            "<tr><td>269</td><td>1</td></tr>",
            "<tr><td>270</td><td>1</td></tr>",
            "<tr><td>271</td><td>1</td></tr>",
            "<tr><td>272</td><td>1</td></tr>",
            "<tr><td>273</td><td>1</td></tr>",
            "<tr><td>274</td><td>1</td></tr>",
            "<tr><td>275</td><td>1</td></tr>",
            "<tr><td>276</td><td>1</td></tr>",
            "<tr><td>277</td><td>1</td></tr>",
            "<tr><td>278</td><td>1</td></tr>",
            "<tr><td>279</td><td>1</td></tr>",
            "<tr><td>280</td><td>1</td></tr>",
            "<tr><td>281</td><td>1</td></tr>",
            "<tr><td>282</td><td>1</td></tr>",
            "<tr><td>283</td><td>1</td></tr>",
            "<tr><td>284</td><td>1</td></tr>",
            "<tr><td>285</td><td>1</td></tr>",
            "<tr><td>286</td><td>1</td></tr>",
            "<tr><td>287</td><td>1</td></tr>",
            "<tr><td>288</td><td>1</td></tr>",
            "<tr><td>289</td><td>1</td></tr>",
            "<tr><td>290</td><td>1</td></tr>",
            "<tr><td>291</td><td>1</td></tr>",
            "<tr><td>292</td><td>1</td></tr>",
            "<tr><td>293</td><td>1</td></tr>",
            "<tr><td>294</td><td>1</td></tr>",
            "</table>"
        ]
    }
}
],
            "execution_count": 10
        },
        {
            "cell_type": "markdown",
            "source": [
                ""
            ],
            "metadata": {
                "azdata_cell_guid": "bdc2764d-7a7a-45bd-b71b-90db2e9508e8"
            }
        },
        {
            "cell_type": "markdown",
            "source": [
                ""
            ],
            "metadata": {
                "azdata_cell_guid": "0f8393a7-d187-425f-a894-c745e17bc10e"
            }
        },
        {
            "cell_type": "markdown",
            "source": [
                ""
            ],
            "metadata": {
                "azdata_cell_guid": "614ce685-0223-49d5-a02e-b3e8902c1de8"
            }
        },
        {
            "cell_type": "markdown",
            "source": [
                ""
            ],
            "metadata": {
                "azdata_cell_guid": "638ccf32-86e4-462c-88cf-b8f109ce7e46"
            }
        },
        {
            "cell_type": "markdown",
            "source": [
                ""
            ],
            "metadata": {
                "azdata_cell_guid": "c14f47de-a24c-43d6-9c37-618d1890e95c"
            }
        },
        {
            "cell_type": "markdown",
            "source": [
                ""
            ],
            "metadata": {
                "azdata_cell_guid": "73d5f9af-32d2-4282-acca-2e0cff36830d"
            }
        },
        {
            "cell_type": "markdown",
            "source": [
                ""
            ],
            "metadata": {
                "azdata_cell_guid": "f1bd2047-fe96-4a59-948e-eecf38656e27"
            }
        },
        {
            "cell_type": "code",
            "source": [
                ""
            ],
            "metadata": {
                "azdata_cell_guid": "0e006d7f-55ed-47ff-ad7b-77e3423911c7",
                "language": "sql"
            },
            "outputs": [],
            "execution_count": null
        },
        {
            "cell_type": "code",
            "source": [
                ""
            ],
            "metadata": {
                "azdata_cell_guid": "ebaf2a56-23da-4cc7-8862-f1b574c48fbf",
                "language": "sql"
            },
            "outputs": [],
            "execution_count": null
        },
        {
            "cell_type": "code",
            "source": [
                ""
            ],
            "metadata": {
                "azdata_cell_guid": "4c23bc2d-dc68-4f38-ba2c-367e12065c82",
                "language": "sql"
            },
            "outputs": [],
            "execution_count": null
        },
        {
            "cell_type": "code",
            "source": [
                ""
            ],
            "metadata": {
                "azdata_cell_guid": "379de603-e76b-4dab-b72c-12abcd48c33c",
                "language": "sql"
            },
            "outputs": [],
            "execution_count": null
        },
        {
            "cell_type": "code",
            "source": [
                ""
            ],
            "metadata": {
                "azdata_cell_guid": "4371c4ba-f8fc-405a-89c5-773ec5f5fec5",
                "language": "sql"
            },
            "outputs": [],
            "execution_count": null
        },
        {
            "cell_type": "code",
            "source": [
                ""
            ],
            "metadata": {
                "azdata_cell_guid": "73b78fa5-d4b4-4c94-8bfb-bf0e3b35d77d",
                "language": "sql"
            },
            "outputs": [],
            "execution_count": null
        },
        {
            "cell_type": "code",
            "source": [
                ""
            ],
            "metadata": {
                "azdata_cell_guid": "f07e01ee-b980-4950-afdb-2fc371709f44",
                "language": "sql"
            },
            "outputs": [],
            "execution_count": null
        }
    ]
}