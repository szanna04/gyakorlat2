{
    "metadata": {
        "kernelspec": {
            "name": "SQL",
            "display_name": "SQL",
            "language": "sql"
        },
        "language_info": {
            "name": "sql",
            "version": ""
        }
    },
    "nbformat_minor": 2,
    "nbformat": 4,
    "cells": [
        {
            "cell_type": "markdown",
            "source": [
                "Készítsen lekérdezést, amely megjeleníti, hogy szobánként (SZOBA\\_FK) hány olyan foglalás történt, ahol a felnőttek száma nagyobb volt a gyermekek számánál!\n",
                "\n",
                "a. A lekérdezés jelenítse meg a végösszeget is megfelelően jelölve!"
            ],
            "metadata": {
                "azdata_cell_guid": "b38551aa-2663-4483-9aaf-fbae64adbacd"
            },
            "attachments": {}
        },
        {
            "cell_type": "code",
            "source": [
                "SELECT *\r\n",
                "from foglalas f join szoba sz on f.SZOBA_FK = sz.SZOBA_ID\r\n",
                "where f.FELNOTT_SZAM > f.GYERMEK_SZAM \r\n",
                "group by rollup(f.szoba_fk)"
            ],
            "metadata": {
                "azdata_cell_guid": "fcd0d5f8-6a6b-4086-a14b-c30bbfb35570",
                "language": "sql"
            },
            "outputs": [
{
    "output_type": "error",
    "evalue": "Msg 8120, Level 16, State 1, Line 1\r\nColumn 'foglalas.FOGLALAS_PK' is invalid in the select list because it is not contained in either an aggregate function or the GROUP BY clause.",
    "ename": "",
    "traceback": []
}, {
    "output_type": "display_data",
    "data": {
        "text/html": "Total execution time: 00:00:00.002"
    },
    "metadata": {}
}
],
            "execution_count": 2
        },
        {
            "cell_type": "markdown",
            "source": [
                "Rangsoroljuk az egyes szobákat a foglalások száma, azon belül férőhely szerint!\n",
                "\n",
                "- Holtverseny esetén a sorszámok sűrűn kövessék egymást\n",
                "- Az 1-es számot a legtöbbet foglalt, azon belül legkevesebb férőhelyű szoba kapja\n",
                "- Csak a szoba azonosítója, a férőhely és a helyezés jelenjen meg"
            ],
            "metadata": {
                "azdata_cell_guid": "3120c667-7952-46bd-a139-291356a71771"
            },
            "attachments": {}
        },
        {
            "cell_type": "code",
            "source": [
                "SELECT\n",
                "From "
            ],
            "metadata": {
                "azdata_cell_guid": "599170c7-8111-4eb8-94ce-f18cd7049542",
                "language": "sql"
            },
            "outputs": [],
            "execution_count": null
        },
        {
            "cell_type": "markdown",
            "source": [
                "<span style=\"color: rgb(0, 0, 0); font-family: &quot;Open Sans&quot;, sans-serif; font-size: 14.44px; background-color: rgb(255, 255, 255);\">Jelenítsük meg azon ügyfelek nevét, akik még sohasem foglaltak VAGY volt foglalásuk, de nem volt közöttük 2 napnál hosszabb!</span>"
            ],
            "metadata": {
                "azdata_cell_guid": "c2697d91-5872-4e9b-9fa9-21a5135af985"
            },
            "attachments": {}
        },
        {
            "cell_type": "code",
            "source": [
                "select v.nev\n",
                "from vendeg v join foglalas f on v.usernev = f.UGYFEL_FK\n",
                "where not In \n",
                "    (\n",
                "        select\n",
                "        from\n",
                "    )\n",
                "or \n",
                "    (\n",
                "        select\n",
                "        from\n",
                "    )\n",
                "\n",
                "\n",
                "
            "metadata": {
                "azdata_cell_guid": "30d481e1-8100-4ca1-9c51-8c37c0a6a581",
                "language": "sql"
            },
            "outputs": [],
            "execution_count": null
        }
    ]
}