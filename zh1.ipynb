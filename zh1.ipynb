{
    "metadata": {
        "kernelspec": {
            "name": "SQL",
            "display_name": "SQL",
            "language": "sql"
        },
        "language_info": {
            "name": "sql",
            "version": ""
        }
    },
    "nbformat_minor": 2,
    "nbformat": 4,
    "cells": [
        {
            "cell_type": "code",
            "source": [
                "SELECT *\r\n",
                "FROM Foglalas\r\n",
                "WHERE YEAR(mettol) = YEAR(meddig)\r\n",
                "\r\n",
                "INTERSECT\r\n",
                "\r\n",
                "SELECT *\r\n",
                "FROM Foglalas\r\n",
                "WHERE MONTH(mettol) <> MONTH(meddig)\r\n",
                "\r\n",
                ""
            ],
            "metadata": {
                "azdata_cell_guid": "a585852f-61d7-443d-b197-377354c7dc04",
                "language": "sql"
            },
            "outputs": [
                {
                    "output_type": "display_data",
                    "data": {
                        "text/html": "(131 rows affected)"
                    },
                    "metadata": {}
                },
                {
                    "output_type": "display_data",
                    "data": {
                        "text/html": "Total execution time: 00:00:00.038"
                    },
                    "metadata": {}
                },
                {
                    "output_type": "execute_result",
                    "metadata": {},
                    "execution_count": 24,
                    "data": {
                        "application/vnd.dataresource+json": {
                            "schema": {
                                "fields": [
                                    {
                                        "name": "FOGLALAS_PK"
                                    },
                                    {
                                        "name": "UGYFEL_FK"
                                    },
                                    {
                                        "name": "SZOBA_FK"
                                    },
                                    {
                                        "name": "METTOL"
                                    },
                                    {
                                        "name": "MEDDIG"
                                    },
                                    {
                                        "name": "FELNOTT_SZAM"
                                    },
                                    {
                                        "name": "GYERMEK_SZAM"
                                    }
                                ]
                            },
                            "data": [
                                {
                                    "FOGLALAS_PK": "600",
                                    "UGYFEL_FK": "ANDRASE",
                                    "SZOBA_FK": "190",
                                    "METTOL": "2016-04-24",
                                    "MEDDIG": "2016-05-01",
                                    "FELNOTT_SZAM": "1",
                                    "GYERMEK_SZAM": "0"
                                },
                                {
                                    "FOGLALAS_PK": "601",
                                    "UGYFEL_FK": "kata",
                                    "SZOBA_FK": "39",
                                    "METTOL": "2016-04-25",
                                    "MEDDIG": "2016-05-01",
                                    "FELNOTT_SZAM": "1",
                                    "GYERMEK_SZAM": "0"
                                },
                                {
                                    "FOGLALAS_PK": "602",
                                    "UGYFEL_FK": "sebestyen",
                                    "SZOBA_FK": "17",
                                    "METTOL": "2016-04-26",
                                    "MEDDIG": "2016-05-02",
                                    "FELNOTT_SZAM": "3",
                                    "GYERMEK_SZAM": "1"
                                },
                                {
                                    "FOGLALAS_PK": "605",
                                    "UGYFEL_FK": "marton",
                                    "SZOBA_FK": "111",
                                    "METTOL": "2016-04-27",
                                    "MEDDIG": "2016-05-04",
                                    "FELNOTT_SZAM": "2",
                                    "GYERMEK_SZAM": "1"
                                },
                                {
                                    "FOGLALAS_PK": "607",
                                    "UGYFEL_FK": "anett3",
                                    "SZOBA_FK": "96",
                                    "METTOL": "2016-04-28",
                                    "MEDDIG": "2016-05-02",
                                    "FELNOTT_SZAM": "2",
                                    "GYERMEK_SZAM": "1"
                                },
                                {
                                    "FOGLALAS_PK": "609",
                                    "UGYFEL_FK": "MONIKAM",
                                    "SZOBA_FK": "9",
                                    "METTOL": "2016-04-29",
                                    "MEDDIG": "2016-05-01",
                                    "FELNOTT_SZAM": "2",
                                    "GYERMEK_SZAM": "0"
                                },
                                {
                                    "FOGLALAS_PK": "610",
                                    "UGYFEL_FK": "VIKTORIAU",
                                    "SZOBA_FK": "106",
                                    "METTOL": "2016-04-30",
                                    "MEDDIG": "2016-05-03",
                                    "FELNOTT_SZAM": "1",
                                    "GYERMEK_SZAM": "0"
                                },
                                {
                                    "FOGLALAS_PK": "714",
                                    "UGYFEL_FK": "bence",
                                    "SZOBA_FK": "73",
                                    "METTOL": "2016-07-25",
                                    "MEDDIG": "2016-08-01",
                                    "FELNOTT_SZAM": "2",
                                    "GYERMEK_SZAM": "1"
                                },
                                {
                                    "FOGLALAS_PK": "718",
                                    "UGYFEL_FK": "SZILARDS",
                                    "SZOBA_FK": "97",
                                    "METTOL": "2016-07-27",
                                    "MEDDIG": "2016-08-03",
                                    "FELNOTT_SZAM": "1",
                                    "GYERMEK_SZAM": "4"
                                },
                                {
                                    "FOGLALAS_PK": "723",
                                    "UGYFEL_FK": "kati",
                                    "SZOBA_FK": "129",
                                    "METTOL": "2016-07-27",
                                    "MEDDIG": "2016-08-03",
                                    "FELNOTT_SZAM": "2",
                                    "GYERMEK_SZAM": "0"
                                },
                                {
                                    "FOGLALAS_PK": "724",
                                    "UGYFEL_FK": "norbert2",
                                    "SZOBA_FK": "135",
                                    "METTOL": "2016-07-27",
                                    "MEDDIG": "2016-08-02",
                                    "FELNOTT_SZAM": "2",
                                    "GYERMEK_SZAM": "0"
                                },
                                {
                                    "FOGLALAS_PK": "725",
                                    "UGYFEL_FK": "ANDREAT",
                                    "SZOBA_FK": "28",
                                    "METTOL": "2016-07-27",
                                    "MEDDIG": "2016-08-01",
                                    "FELNOTT_SZAM": "2",
                                    "GYERMEK_SZAM": "0"
                                },
                                {
                                    "FOGLALAS_PK": "731",
                                    "UGYFEL_FK": "andras41",
                                    "SZOBA_FK": "181",
                                    "METTOL": "2016-07-28",
                                    "MEDDIG": "2016-08-03",
                                    "FELNOTT_SZAM": "3",
                                    "GYERMEK_SZAM": "0"
                                },
                                {
                                    "FOGLALAS_PK": "732",
                                    "UGYFEL_FK": "krisztian4",
                                    "SZOBA_FK": "91",
                                    "METTOL": "2016-07-28",
                                    "MEDDIG": "2016-08-01",
                                    "FELNOTT_SZAM": "1",
                                    "GYERMEK_SZAM": "1"
                                },
                                {
                                    "FOGLALAS_PK": "734",
                                    "UGYFEL_FK": "GYORGYO",
                                    "SZOBA_FK": "55",
                                    "METTOL": "2016-07-28",
                                    "MEDDIG": "2016-08-03",
                                    "FELNOTT_SZAM": "1",
                                    "GYERMEK_SZAM": "2"
                                },
                                {
                                    "FOGLALAS_PK": "735",
                                    "UGYFEL_FK": "SZABOLCSM",
                                    "SZOBA_FK": "121",
                                    "METTOL": "2016-07-28",
                                    "MEDDIG": "2016-08-03",
                                    "FELNOTT_SZAM": "2",
                                    "GYERMEK_SZAM": "0"
                                },
                                {
                                    "FOGLALAS_PK": "736",
                                    "UGYFEL_FK": "AGNESK",
                                    "SZOBA_FK": "66",
                                    "METTOL": "2016-07-29",
                                    "MEDDIG": "2016-08-01",
                                    "FELNOTT_SZAM": "2",
                                    "GYERMEK_SZAM": "1"
                                },
                                {
                                    "FOGLALAS_PK": "738",
                                    "UGYFEL_FK": "agnes",
                                    "SZOBA_FK": "1",
                                    "METTOL": "2016-07-30",
                                    "MEDDIG": "2016-08-06",
                                    "FELNOTT_SZAM": "3",
                                    "GYERMEK_SZAM": "0"
                                },
                                {
                                    "FOGLALAS_PK": "739",
                                    "UGYFEL_FK": "ROBERTP",
                                    "SZOBA_FK": "121",
                                    "METTOL": "2016-07-30",
                                    "MEDDIG": "2016-08-05",
                                    "FELNOTT_SZAM": "2",
                                    "GYERMEK_SZAM": "0"
                                },
                                {
                                    "FOGLALAS_PK": "740",
                                    "UGYFEL_FK": "zsuzsa3",
                                    "SZOBA_FK": "182",
                                    "METTOL": "2016-07-30",
                                    "MEDDIG": "2016-08-02",
                                    "FELNOTT_SZAM": "2",
                                    "GYERMEK_SZAM": "0"
                                },
                                {
                                    "FOGLALAS_PK": "741",
                                    "UGYFEL_FK": "SEBASTIANF",
                                    "SZOBA_FK": "93",
                                    "METTOL": "2016-07-30",
                                    "MEDDIG": "2016-08-06",
                                    "FELNOTT_SZAM": "3",
                                    "GYERMEK_SZAM": "1"
                                },
                                {
                                    "FOGLALAS_PK": "742",
                                    "UGYFEL_FK": "ilona3",
                                    "SZOBA_FK": "164",
                                    "METTOL": "2016-07-31",
                                    "MEDDIG": "2016-08-06",
                                    "FELNOTT_SZAM": "1",
                                    "GYERMEK_SZAM": "1"
                                },
                                {
                                    "FOGLALAS_PK": "743",
                                    "UGYFEL_FK": "zsolt1",
                                    "SZOBA_FK": "187",
                                    "METTOL": "2016-07-31",
                                    "MEDDIG": "2016-08-02",
                                    "FELNOTT_SZAM": "2",
                                    "GYERMEK_SZAM": "0"
                                },
                                {
                                    "FOGLALAS_PK": "827",
                                    "UGYFEL_FK": "ANIKOS",
                                    "SZOBA_FK": "114",
                                    "METTOL": "2016-08-26",
                                    "MEDDIG": "2016-09-02",
                                    "FELNOTT_SZAM": "1",
                                    "GYERMEK_SZAM": "1"
                                },
                                {
                                    "FOGLALAS_PK": "831",
                                    "UGYFEL_FK": "georgij",
                                    "SZOBA_FK": "177",
                                    "METTOL": "2016-08-28",
                                    "MEDDIG": "2016-09-04",
                                    "FELNOTT_SZAM": "1",
                                    "GYERMEK_SZAM": "1"
                                },
                                {
                                    "FOGLALAS_PK": "832",
                                    "UGYFEL_FK": "brigitta",
                                    "SZOBA_FK": "8",
                                    "METTOL": "2016-08-28",
                                    "MEDDIG": "2016-09-01",
                                    "FELNOTT_SZAM": "2",
                                    "GYERMEK_SZAM": "1"
                                },
                                {
                                    "FOGLALAS_PK": "834",
                                    "UGYFEL_FK": "krisztian4",
                                    "SZOBA_FK": "149",
                                    "METTOL": "2016-08-29",
                                    "MEDDIG": "2016-09-03",
                                    "FELNOTT_SZAM": "1",
                                    "GYERMEK_SZAM": "0"
                                },
                                {
                                    "FOGLALAS_PK": "837",
                                    "UGYFEL_FK": "andras3",
                                    "SZOBA_FK": "104",
                                    "METTOL": "2016-08-29",
                                    "MEDDIG": "2016-09-02",
                                    "FELNOTT_SZAM": "3",
                                    "GYERMEK_SZAM": "0"
                                },
                                {
                                    "FOGLALAS_PK": "839",
                                    "UGYFEL_FK": "MIHALYJ",
                                    "SZOBA_FK": "172",
                                    "METTOL": "2016-08-29",
                                    "MEDDIG": "2016-09-03",
                                    "FELNOTT_SZAM": "1",
                                    "GYERMEK_SZAM": "0"
                                },
                                {
                                    "FOGLALAS_PK": "840",
                                    "UGYFEL_FK": "JANOSG",
                                    "SZOBA_FK": "158",
                                    "METTOL": "2016-08-30",
                                    "MEDDIG": "2016-09-03",
                                    "FELNOTT_SZAM": "2",
                                    "GYERMEK_SZAM": "1"
                                },
                                {
                                    "FOGLALAS_PK": "841",
                                    "UGYFEL_FK": "gabor4",
                                    "SZOBA_FK": "92",
                                    "METTOL": "2016-08-31",
                                    "MEDDIG": "2016-09-06",
                                    "FELNOTT_SZAM": "3",
                                    "GYERMEK_SZAM": "1"
                                },
                                {
                                    "FOGLALAS_PK": "842",
                                    "UGYFEL_FK": "EVAV",
                                    "SZOBA_FK": "195",
                                    "METTOL": "2016-08-31",
                                    "MEDDIG": "2016-09-04",
                                    "FELNOTT_SZAM": "2",
                                    "GYERMEK_SZAM": "0"
                                },
                                {
                                    "FOGLALAS_PK": "863",
                                    "UGYFEL_FK": "balazs2",
                                    "SZOBA_FK": "185",
                                    "METTOL": "2016-05-28",
                                    "MEDDIG": "2016-06-01",
                                    "FELNOTT_SZAM": "2",
                                    "GYERMEK_SZAM": "1"
                                },
                                {
                                    "FOGLALAS_PK": "864",
                                    "UGYFEL_FK": "maria1",
                                    "SZOBA_FK": "118",
                                    "METTOL": "2016-05-28",
                                    "MEDDIG": "2016-06-03",
                                    "FELNOTT_SZAM": "2",
                                    "GYERMEK_SZAM": "0"
                                },
                                {
                                    "FOGLALAS_PK": "865",
                                    "UGYFEL_FK": "polla",
                                    "SZOBA_FK": "51",
                                    "METTOL": "2016-05-28",
                                    "MEDDIG": "2016-06-04",
                                    "FELNOTT_SZAM": "2",
                                    "GYERMEK_SZAM": "0"
                                },
                                {
                                    "FOGLALAS_PK": "867",
                                    "UGYFEL_FK": "ZSOLTJ",
                                    "SZOBA_FK": "175",
                                    "METTOL": "2016-05-28",
                                    "MEDDIG": "2016-06-03",
                                    "FELNOTT_SZAM": "1",
                                    "GYERMEK_SZAM": "0"
                                },
                                {
                                    "FOGLALAS_PK": "868",
                                    "UGYFEL_FK": "ZSUZSAV",
                                    "SZOBA_FK": "187",
                                    "METTOL": "2016-05-28",
                                    "MEDDIG": "2016-06-01",
                                    "FELNOTT_SZAM": "3",
                                    "GYERMEK_SZAM": "1"
                                },
                                {
                                    "FOGLALAS_PK": "869",
                                    "UGYFEL_FK": "adam1",
                                    "SZOBA_FK": "83",
                                    "METTOL": "2016-05-28",
                                    "MEDDIG": "2016-06-03",
                                    "FELNOTT_SZAM": "3",
                                    "GYERMEK_SZAM": "0"
                                },
                                {
                                    "FOGLALAS_PK": "870",
                                    "UGYFEL_FK": "szilvia1",
                                    "SZOBA_FK": "34",
                                    "METTOL": "2016-05-28",
                                    "MEDDIG": "2016-06-03",
                                    "FELNOTT_SZAM": "1",
                                    "GYERMEK_SZAM": "1"
                                },
                                {
                                    "FOGLALAS_PK": "871",
                                    "UGYFEL_FK": "norbert4",
                                    "SZOBA_FK": "82",
                                    "METTOL": "2016-05-29",
                                    "MEDDIG": "2016-06-03",
                                    "FELNOTT_SZAM": "3",
                                    "GYERMEK_SZAM": "0"
                                },
                                {
                                    "FOGLALAS_PK": "872",
                                    "UGYFEL_FK": "bence",
                                    "SZOBA_FK": "28",
                                    "METTOL": "2016-05-29",
                                    "MEDDIG": "2016-06-03",
                                    "FELNOTT_SZAM": "1",
                                    "GYERMEK_SZAM": "0"
                                },
                                {
                                    "FOGLALAS_PK": "873",
                                    "UGYFEL_FK": "ARPADM",
                                    "SZOBA_FK": "6",
                                    "METTOL": "2016-05-29",
                                    "MEDDIG": "2016-06-01",
                                    "FELNOTT_SZAM": "2",
                                    "GYERMEK_SZAM": "0"
                                },
                                {
                                    "FOGLALAS_PK": "874",
                                    "UGYFEL_FK": "ESZTERE",
                                    "SZOBA_FK": "67",
                                    "METTOL": "2016-05-30",
                                    "MEDDIG": "2016-06-05",
                                    "FELNOTT_SZAM": "2",
                                    "GYERMEK_SZAM": "0"
                                },
                                {
                                    "FOGLALAS_PK": "875",
                                    "UGYFEL_FK": "MIHALYJ",
                                    "SZOBA_FK": "64",
                                    "METTOL": "2016-05-30",
                                    "MEDDIG": "2016-06-01",
                                    "FELNOTT_SZAM": "2",
                                    "GYERMEK_SZAM": "0"
                                },
                                {
                                    "FOGLALAS_PK": "876",
                                    "UGYFEL_FK": "brigitta",
                                    "SZOBA_FK": "12",
                                    "METTOL": "2016-05-30",
                                    "MEDDIG": "2016-06-06",
                                    "FELNOTT_SZAM": "1",
                                    "GYERMEK_SZAM": "2"
                                },
                                {
                                    "FOGLALAS_PK": "877",
                                    "UGYFEL_FK": "nikoletta4",
                                    "SZOBA_FK": "74",
                                    "METTOL": "2016-05-30",
                                    "MEDDIG": "2016-06-03",
                                    "FELNOTT_SZAM": "3",
                                    "GYERMEK_SZAM": "0"
                                },
                                {
                                    "FOGLALAS_PK": "878",
                                    "UGYFEL_FK": "gabor4",
                                    "SZOBA_FK": "83",
                                    "METTOL": "2016-05-30",
                                    "MEDDIG": "2016-06-05",
                                    "FELNOTT_SZAM": "1",
                                    "GYERMEK_SZAM": "0"
                                },
                                {
                                    "FOGLALAS_PK": "879",
                                    "UGYFEL_FK": "VIKTORK",
                                    "SZOBA_FK": "127",
                                    "METTOL": "2016-05-30",
                                    "MEDDIG": "2016-06-01",
                                    "FELNOTT_SZAM": "2",
                                    "GYERMEK_SZAM": "0"
                                },
                                {
                                    "FOGLALAS_PK": "880",
                                    "UGYFEL_FK": "andras3",
                                    "SZOBA_FK": "184",
                                    "METTOL": "2016-05-30",
                                    "MEDDIG": "2016-06-03",
                                    "FELNOTT_SZAM": "1",
                                    "GYERMEK_SZAM": "0"
                                },
                                {
                                    "FOGLALAS_PK": "881",
                                    "UGYFEL_FK": "tihamer",
                                    "SZOBA_FK": "131",
                                    "METTOL": "2016-05-30",
                                    "MEDDIG": "2016-06-05",
                                    "FELNOTT_SZAM": "1",
                                    "GYERMEK_SZAM": "0"
                                },
                                {
                                    "FOGLALAS_PK": "883",
                                    "UGYFEL_FK": "veronika4",
                                    "SZOBA_FK": "58",
                                    "METTOL": "2016-05-30",
                                    "MEDDIG": "2016-06-04",
                                    "FELNOTT_SZAM": "1",
                                    "GYERMEK_SZAM": "1"
                                },
                                {
                                    "FOGLALAS_PK": "884",
                                    "UGYFEL_FK": "andras2",
                                    "SZOBA_FK": "98",
                                    "METTOL": "2016-05-30",
                                    "MEDDIG": "2016-06-04",
                                    "FELNOTT_SZAM": "1",
                                    "GYERMEK_SZAM": "0"
                                },
                                {
                                    "FOGLALAS_PK": "885",
                                    "UGYFEL_FK": "kata",
                                    "SZOBA_FK": "69",
                                    "METTOL": "2016-05-31",
                                    "MEDDIG": "2016-06-01",
                                    "FELNOTT_SZAM": "3",
                                    "GYERMEK_SZAM": "0"
                                },
                                {
                                    "FOGLALAS_PK": "990",
                                    "UGYFEL_FK": "MIHALYJ",
                                    "SZOBA_FK": "6",
                                    "METTOL": "2016-06-27",
                                    "MEDDIG": "2016-07-01",
                                    "FELNOTT_SZAM": "1",
                                    "GYERMEK_SZAM": "0"
                                },
                                {
                                    "FOGLALAS_PK": "991",
                                    "UGYFEL_FK": "TAMASF",
                                    "SZOBA_FK": "178",
                                    "METTOL": "2016-06-28",
                                    "MEDDIG": "2016-07-05",
                                    "FELNOTT_SZAM": "1",
                                    "GYERMEK_SZAM": "2"
                                },
                                {
                                    "FOGLALAS_PK": "992",
                                    "UGYFEL_FK": "nikoletta4",
                                    "SZOBA_FK": "103",
                                    "METTOL": "2016-06-29",
                                    "MEDDIG": "2016-07-06",
                                    "FELNOTT_SZAM": "2",
                                    "GYERMEK_SZAM": "0"
                                },
                                {
                                    "FOGLALAS_PK": "993",
                                    "UGYFEL_FK": "eszter2",
                                    "SZOBA_FK": "197",
                                    "METTOL": "2016-06-30",
                                    "MEDDIG": "2016-07-07",
                                    "FELNOTT_SZAM": "3",
                                    "GYERMEK_SZAM": "0"
                                },
                                {
                                    "FOGLALAS_PK": "994",
                                    "UGYFEL_FK": "david",
                                    "SZOBA_FK": "118",
                                    "METTOL": "2016-06-30",
                                    "MEDDIG": "2016-07-07",
                                    "FELNOTT_SZAM": "1",
                                    "GYERMEK_SZAM": "1"
                                },
                                {
                                    "FOGLALAS_PK": "995",
                                    "UGYFEL_FK": "peter3",
                                    "SZOBA_FK": "83",
                                    "METTOL": "2016-06-30",
                                    "MEDDIG": "2016-07-05",
                                    "FELNOTT_SZAM": "3",
                                    "GYERMEK_SZAM": "0"
                                },
                                {
                                    "FOGLALAS_PK": "1081",
                                    "UGYFEL_FK": "veronika4",
                                    "SZOBA_FK": "62",
                                    "METTOL": "2016-09-26",
                                    "MEDDIG": "2016-10-03",
                                    "FELNOTT_SZAM": "1",
                                    "GYERMEK_SZAM": "1"
                                },
                                {
                                    "FOGLALAS_PK": "1082",
                                    "UGYFEL_FK": "MARKH",
                                    "SZOBA_FK": "27",
                                    "METTOL": "2016-09-26",
                                    "MEDDIG": "2016-10-01",
                                    "FELNOTT_SZAM": "1",
                                    "GYERMEK_SZAM": "3"
                                },
                                {
                                    "FOGLALAS_PK": "1085",
                                    "UGYFEL_FK": "anita",
                                    "SZOBA_FK": "113",
                                    "METTOL": "2016-09-28",
                                    "MEDDIG": "2016-10-02",
                                    "FELNOTT_SZAM": "3",
                                    "GYERMEK_SZAM": "1"
                                },
                                {
                                    "FOGLALAS_PK": "1086",
                                    "UGYFEL_FK": "zsuzsa3",
                                    "SZOBA_FK": "55",
                                    "METTOL": "2016-09-28",
                                    "MEDDIG": "2016-10-03",
                                    "FELNOTT_SZAM": "1",
                                    "GYERMEK_SZAM": "1"
                                },
                                {
                                    "FOGLALAS_PK": "1087",
                                    "UGYFEL_FK": "ISTVANV",
                                    "SZOBA_FK": "144",
                                    "METTOL": "2016-09-29",
                                    "MEDDIG": "2016-10-01",
                                    "FELNOTT_SZAM": "3",
                                    "GYERMEK_SZAM": "0"
                                },
                                {
                                    "FOGLALAS_PK": "1088",
                                    "UGYFEL_FK": "fruzsina4",
                                    "SZOBA_FK": "43",
                                    "METTOL": "2016-09-29",
                                    "MEDDIG": "2016-10-01",
                                    "FELNOTT_SZAM": "3",
                                    "GYERMEK_SZAM": "0"
                                },
                                {
                                    "FOGLALAS_PK": "1089",
                                    "UGYFEL_FK": "reka4",
                                    "SZOBA_FK": "120",
                                    "METTOL": "2016-09-30",
                                    "MEDDIG": "2016-10-06",
                                    "FELNOTT_SZAM": "1",
                                    "GYERMEK_SZAM": "1"
                                },
                                {
                                    "FOGLALAS_PK": "1090",
                                    "UGYFEL_FK": "attila",
                                    "SZOBA_FK": "132",
                                    "METTOL": "2016-09-30",
                                    "MEDDIG": "2016-10-07",
                                    "FELNOTT_SZAM": "1",
                                    "GYERMEK_SZAM": "2"
                                },
                                {
                                    "FOGLALAS_PK": "1091",
                                    "UGYFEL_FK": "zoltan4",
                                    "SZOBA_FK": "197",
                                    "METTOL": "2016-09-30",
                                    "MEDDIG": "2016-10-07",
                                    "FELNOTT_SZAM": "3",
                                    "GYERMEK_SZAM": "0"
                                },
                                {
                                    "FOGLALAS_PK": "1092",
                                    "UGYFEL_FK": "andras2",
                                    "SZOBA_FK": "70",
                                    "METTOL": "2016-09-30",
                                    "MEDDIG": "2016-10-03",
                                    "FELNOTT_SZAM": "2",
                                    "GYERMEK_SZAM": "0"
                                },
                                {
                                    "FOGLALAS_PK": "1093",
                                    "UGYFEL_FK": "peter4",
                                    "SZOBA_FK": "74",
                                    "METTOL": "2016-09-30",
                                    "MEDDIG": "2016-10-06",
                                    "FELNOTT_SZAM": "2",
                                    "GYERMEK_SZAM": "1"
                                },
                                {
                                    "FOGLALAS_PK": "1094",
                                    "UGYFEL_FK": "andras41",
                                    "SZOBA_FK": "175",
                                    "METTOL": "2016-09-30",
                                    "MEDDIG": "2016-10-05",
                                    "FELNOTT_SZAM": "1",
                                    "GYERMEK_SZAM": "1"
                                },
                                {
                                    "FOGLALAS_PK": "1095",
                                    "UGYFEL_FK": "kriszti",
                                    "SZOBA_FK": "194",
                                    "METTOL": "2016-09-30",
                                    "MEDDIG": "2016-10-05",
                                    "FELNOTT_SZAM": "2",
                                    "GYERMEK_SZAM": "1"
                                },
                                {
                                    "FOGLALAS_PK": "1096",
                                    "UGYFEL_FK": "kristof4",
                                    "SZOBA_FK": "54",
                                    "METTOL": "2016-09-30",
                                    "MEDDIG": "2016-10-04",
                                    "FELNOTT_SZAM": "2",
                                    "GYERMEK_SZAM": "0"
                                },
                                {
                                    "FOGLALAS_PK": "1193",
                                    "UGYFEL_FK": "eszter",
                                    "SZOBA_FK": "143",
                                    "METTOL": "2016-10-26",
                                    "MEDDIG": "2016-11-01",
                                    "FELNOTT_SZAM": "2",
                                    "GYERMEK_SZAM": "1"
                                },
                                {
                                    "FOGLALAS_PK": "1195",
                                    "UGYFEL_FK": "sebestyen",
                                    "SZOBA_FK": "22",
                                    "METTOL": "2016-10-26",
                                    "MEDDIG": "2016-11-01",
                                    "FELNOTT_SZAM": "1",
                                    "GYERMEK_SZAM": "4"
                                },
                                {
                                    "FOGLALAS_PK": "1197",
                                    "UGYFEL_FK": "ROBERTI",
                                    "SZOBA_FK": "152",
                                    "METTOL": "2016-10-26",
                                    "MEDDIG": "2016-11-01",
                                    "FELNOTT_SZAM": "2",
                                    "GYERMEK_SZAM": "0"
                                },
                                {
                                    "FOGLALAS_PK": "1199",
                                    "UGYFEL_FK": "VIKTORIAU",
                                    "SZOBA_FK": "144",
                                    "METTOL": "2016-10-26",
                                    "MEDDIG": "2016-11-02",
                                    "FELNOTT_SZAM": "2",
                                    "GYERMEK_SZAM": "2"
                                },
                                {
                                    "FOGLALAS_PK": "1200",
                                    "UGYFEL_FK": "bernadett1",
                                    "SZOBA_FK": "49",
                                    "METTOL": "2016-10-26",
                                    "MEDDIG": "2016-11-02",
                                    "FELNOTT_SZAM": "3",
                                    "GYERMEK_SZAM": "0"
                                },
                                {
                                    "FOGLALAS_PK": "1201",
                                    "UGYFEL_FK": "peter1",
                                    "SZOBA_FK": "137",
                                    "METTOL": "2016-10-26",
                                    "MEDDIG": "2016-11-01",
                                    "FELNOTT_SZAM": "1",
                                    "GYERMEK_SZAM": "2"
                                },
                                {
                                    "FOGLALAS_PK": "1205",
                                    "UGYFEL_FK": "adam4",
                                    "SZOBA_FK": "162",
                                    "METTOL": "2016-10-27",
                                    "MEDDIG": "2016-11-02",
                                    "FELNOTT_SZAM": "3",
                                    "GYERMEK_SZAM": "0"
                                },
                                {
                                    "FOGLALAS_PK": "1206",
                                    "UGYFEL_FK": "zsuzsa3",
                                    "SZOBA_FK": "22",
                                    "METTOL": "2016-10-27",
                                    "MEDDIG": "2016-11-03",
                                    "FELNOTT_SZAM": "1",
                                    "GYERMEK_SZAM": "3"
                                },
                                {
                                    "FOGLALAS_PK": "1208",
                                    "UGYFEL_FK": "SZABOLCSM",
                                    "SZOBA_FK": "58",
                                    "METTOL": "2016-10-28",
                                    "MEDDIG": "2016-11-03",
                                    "FELNOTT_SZAM": "2",
                                    "GYERMEK_SZAM": "1"
                                },
                                {
                                    "FOGLALAS_PK": "1210",
                                    "UGYFEL_FK": "bernadett1",
                                    "SZOBA_FK": "124",
                                    "METTOL": "2016-10-28",
                                    "MEDDIG": "2016-11-01",
                                    "FELNOTT_SZAM": "3",
                                    "GYERMEK_SZAM": "0"
                                },
                                {
                                    "FOGLALAS_PK": "1212",
                                    "UGYFEL_FK": "sara",
                                    "SZOBA_FK": "21",
                                    "METTOL": "2016-10-28",
                                    "MEDDIG": "2016-11-03",
                                    "FELNOTT_SZAM": "2",
                                    "GYERMEK_SZAM": "0"
                                },
                                {
                                    "FOGLALAS_PK": "1214",
                                    "UGYFEL_FK": "debora",
                                    "SZOBA_FK": "39",
                                    "METTOL": "2016-10-29",
                                    "MEDDIG": "2016-11-03",
                                    "FELNOTT_SZAM": "1",
                                    "GYERMEK_SZAM": "1"
                                },
                                {
                                    "FOGLALAS_PK": "1215",
                                    "UGYFEL_FK": "dora3",
                                    "SZOBA_FK": "121",
                                    "METTOL": "2016-10-29",
                                    "MEDDIG": "2016-11-02",
                                    "FELNOTT_SZAM": "2",
                                    "GYERMEK_SZAM": "1"
                                },
                                {
                                    "FOGLALAS_PK": "1216",
                                    "UGYFEL_FK": "ANIKOS",
                                    "SZOBA_FK": "198",
                                    "METTOL": "2016-10-29",
                                    "MEDDIG": "2016-11-05",
                                    "FELNOTT_SZAM": "1",
                                    "GYERMEK_SZAM": "2"
                                },
                                {
                                    "FOGLALAS_PK": "1219",
                                    "UGYFEL_FK": "attila1",
                                    "SZOBA_FK": "134",
                                    "METTOL": "2016-10-30",
                                    "MEDDIG": "2016-11-05",
                                    "FELNOTT_SZAM": "1",
                                    "GYERMEK_SZAM": "1"
                                },
                                {
                                    "FOGLALAS_PK": "1220",
                                    "UGYFEL_FK": "bence",
                                    "SZOBA_FK": "9",
                                    "METTOL": "2016-10-30",
                                    "MEDDIG": "2016-11-02",
                                    "FELNOTT_SZAM": "2",
                                    "GYERMEK_SZAM": "2"
                                },
                                {
                                    "FOGLALAS_PK": "1221",
                                    "UGYFEL_FK": "kati",
                                    "SZOBA_FK": "49",
                                    "METTOL": "2016-10-30",
                                    "MEDDIG": "2016-11-01",
                                    "FELNOTT_SZAM": "3",
                                    "GYERMEK_SZAM": "0"
                                },
                                {
                                    "FOGLALAS_PK": "1222",
                                    "UGYFEL_FK": "peter4",
                                    "SZOBA_FK": "143",
                                    "METTOL": "2016-10-30",
                                    "MEDDIG": "2016-11-01",
                                    "FELNOTT_SZAM": "3",
                                    "GYERMEK_SZAM": "0"
                                },
                                {
                                    "FOGLALAS_PK": "1225",
                                    "UGYFEL_FK": "AGNESH",
                                    "SZOBA_FK": "69",
                                    "METTOL": "2016-10-30",
                                    "MEDDIG": "2016-11-04",
                                    "FELNOTT_SZAM": "1",
                                    "GYERMEK_SZAM": "0"
                                },
                                {
                                    "FOGLALAS_PK": "1226",
                                    "UGYFEL_FK": "MATYASS",
                                    "SZOBA_FK": "127",
                                    "METTOL": "2016-10-30",
                                    "MEDDIG": "2016-11-04",
                                    "FELNOTT_SZAM": "1",
                                    "GYERMEK_SZAM": "2"
                                },
                                {
                                    "FOGLALAS_PK": "1227",
                                    "UGYFEL_FK": "david",
                                    "SZOBA_FK": "43",
                                    "METTOL": "2016-10-30",
                                    "MEDDIG": "2016-11-04",
                                    "FELNOTT_SZAM": "2",
                                    "GYERMEK_SZAM": "0"
                                },
                                {
                                    "FOGLALAS_PK": "1228",
                                    "UGYFEL_FK": "peter3",
                                    "SZOBA_FK": "106",
                                    "METTOL": "2016-10-30",
                                    "MEDDIG": "2016-11-06",
                                    "FELNOTT_SZAM": "2",
                                    "GYERMEK_SZAM": "0"
                                },
                                {
                                    "FOGLALAS_PK": "1229",
                                    "UGYFEL_FK": "bernadett2",
                                    "SZOBA_FK": "79",
                                    "METTOL": "2016-10-30",
                                    "MEDDIG": "2016-11-06",
                                    "FELNOTT_SZAM": "3",
                                    "GYERMEK_SZAM": "0"
                                },
                                {
                                    "FOGLALAS_PK": "1230",
                                    "UGYFEL_FK": "zoltan4",
                                    "SZOBA_FK": "182",
                                    "METTOL": "2016-10-30",
                                    "MEDDIG": "2016-11-06",
                                    "FELNOTT_SZAM": "1",
                                    "GYERMEK_SZAM": "0"
                                },
                                {
                                    "FOGLALAS_PK": "1231",
                                    "UGYFEL_FK": "ATTILAO",
                                    "SZOBA_FK": "182",
                                    "METTOL": "2016-10-30",
                                    "MEDDIG": "2016-11-03",
                                    "FELNOTT_SZAM": "2",
                                    "GYERMEK_SZAM": "0"
                                },
                                {
                                    "FOGLALAS_PK": "1232",
                                    "UGYFEL_FK": "andrea4",
                                    "SZOBA_FK": "55",
                                    "METTOL": "2016-10-30",
                                    "MEDDIG": "2016-11-06",
                                    "FELNOTT_SZAM": "1",
                                    "GYERMEK_SZAM": "2"
                                },
                                {
                                    "FOGLALAS_PK": "1233",
                                    "UGYFEL_FK": "norbert2",
                                    "SZOBA_FK": "64",
                                    "METTOL": "2016-10-31",
                                    "MEDDIG": "2016-11-07",
                                    "FELNOTT_SZAM": "1",
                                    "GYERMEK_SZAM": "1"
                                },
                                {
                                    "FOGLALAS_PK": "1319",
                                    "UGYFEL_FK": "ANDRASN",
                                    "SZOBA_FK": "10",
                                    "METTOL": "2016-11-25",
                                    "MEDDIG": "2016-12-01",
                                    "FELNOTT_SZAM": "2",
                                    "GYERMEK_SZAM": "0"
                                },
                                {
                                    "FOGLALAS_PK": "1323",
                                    "UGYFEL_FK": "julianna4",
                                    "SZOBA_FK": "191",
                                    "METTOL": "2016-11-27",
                                    "MEDDIG": "2016-12-04",
                                    "FELNOTT_SZAM": "2",
                                    "GYERMEK_SZAM": "1"
                                },
                                {
                                    "FOGLALAS_PK": "1324",
                                    "UGYFEL_FK": "timea2",
                                    "SZOBA_FK": "68",
                                    "METTOL": "2016-11-27",
                                    "MEDDIG": "2016-12-01",
                                    "FELNOTT_SZAM": "2",
                                    "GYERMEK_SZAM": "2"
                                },
                                {
                                    "FOGLALAS_PK": "1325",
                                    "UGYFEL_FK": "katalin4",
                                    "SZOBA_FK": "70",
                                    "METTOL": "2016-11-27",
                                    "MEDDIG": "2016-12-04",
                                    "FELNOTT_SZAM": "2",
                                    "GYERMEK_SZAM": "1"
                                },
                                {
                                    "FOGLALAS_PK": "1326",
                                    "UGYFEL_FK": "BENCEB",
                                    "SZOBA_FK": "182",
                                    "METTOL": "2016-11-28",
                                    "MEDDIG": "2016-12-02",
                                    "FELNOTT_SZAM": "2",
                                    "GYERMEK_SZAM": "0"
                                },
                                {
                                    "FOGLALAS_PK": "1327",
                                    "UGYFEL_FK": "zsuzsa",
                                    "SZOBA_FK": "55",
                                    "METTOL": "2016-11-28",
                                    "MEDDIG": "2016-12-04",
                                    "FELNOTT_SZAM": "1",
                                    "GYERMEK_SZAM": "2"
                                },
                                {
                                    "FOGLALAS_PK": "1328",
                                    "UGYFEL_FK": "andras3",
                                    "SZOBA_FK": "54",
                                    "METTOL": "2016-11-28",
                                    "MEDDIG": "2016-12-02",
                                    "FELNOTT_SZAM": "2",
                                    "GYERMEK_SZAM": "0"
                                },
                                {
                                    "FOGLALAS_PK": "1329",
                                    "UGYFEL_FK": "LASZLON",
                                    "SZOBA_FK": "171",
                                    "METTOL": "2016-11-29",
                                    "MEDDIG": "2016-12-04",
                                    "FELNOTT_SZAM": "1",
                                    "GYERMEK_SZAM": "0"
                                },
                                {
                                    "FOGLALAS_PK": "1330",
                                    "UGYFEL_FK": "ANDRASE",
                                    "SZOBA_FK": "124",
                                    "METTOL": "2016-11-29",
                                    "MEDDIG": "2016-12-06",
                                    "FELNOTT_SZAM": "1",
                                    "GYERMEK_SZAM": "2"
                                },
                                {
                                    "FOGLALAS_PK": "1331",
                                    "UGYFEL_FK": "sandor4",
                                    "SZOBA_FK": "73",
                                    "METTOL": "2016-11-29",
                                    "MEDDIG": "2016-12-03",
                                    "FELNOTT_SZAM": "2",
                                    "GYERMEK_SZAM": "0"
                                },
                                {
                                    "FOGLALAS_PK": "1332",
                                    "UGYFEL_FK": "alexandra",
                                    "SZOBA_FK": "101",
                                    "METTOL": "2016-11-29",
                                    "MEDDIG": "2016-12-05",
                                    "FELNOTT_SZAM": "1",
                                    "GYERMEK_SZAM": "1"
                                },
                                {
                                    "FOGLALAS_PK": "1333",
                                    "UGYFEL_FK": "norbert4",
                                    "SZOBA_FK": "70",
                                    "METTOL": "2016-11-30",
                                    "MEDDIG": "2016-12-06",
                                    "FELNOTT_SZAM": "2",
                                    "GYERMEK_SZAM": "1"
                                },
                                {
                                    "FOGLALAS_PK": "1475",
                                    "UGYFEL_FK": "eszter4",
                                    "SZOBA_FK": "130",
                                    "METTOL": "2017-01-26",
                                    "MEDDIG": "2017-02-02",
                                    "FELNOTT_SZAM": "2",
                                    "GYERMEK_SZAM": "0"
                                },
                                {
                                    "FOGLALAS_PK": "1477",
                                    "UGYFEL_FK": "BERNADETTO",
                                    "SZOBA_FK": "51",
                                    "METTOL": "2017-01-28",
                                    "MEDDIG": "2017-02-03",
                                    "FELNOTT_SZAM": "1",
                                    "GYERMEK_SZAM": "1"
                                },
                                {
                                    "FOGLALAS_PK": "1478",
                                    "UGYFEL_FK": "andras21",
                                    "SZOBA_FK": "38",
                                    "METTOL": "2017-01-28",
                                    "MEDDIG": "2017-02-01",
                                    "FELNOTT_SZAM": "2",
                                    "GYERMEK_SZAM": "0"
                                },
                                {
                                    "FOGLALAS_PK": "1479",
                                    "UGYFEL_FK": "szilvia1",
                                    "SZOBA_FK": "146",
                                    "METTOL": "2017-01-28",
                                    "MEDDIG": "2017-02-03",
                                    "FELNOTT_SZAM": "1",
                                    "GYERMEK_SZAM": "1"
                                },
                                {
                                    "FOGLALAS_PK": "1481",
                                    "UGYFEL_FK": "polla",
                                    "SZOBA_FK": "118",
                                    "METTOL": "2017-01-29",
                                    "MEDDIG": "2017-02-01",
                                    "FELNOTT_SZAM": "1",
                                    "GYERMEK_SZAM": "1"
                                },
                                {
                                    "FOGLALAS_PK": "1482",
                                    "UGYFEL_FK": "norbert2",
                                    "SZOBA_FK": "100",
                                    "METTOL": "2017-01-29",
                                    "MEDDIG": "2017-02-05",
                                    "FELNOTT_SZAM": "1",
                                    "GYERMEK_SZAM": "2"
                                },
                                {
                                    "FOGLALAS_PK": "1485",
                                    "UGYFEL_FK": "ARONK",
                                    "SZOBA_FK": "103",
                                    "METTOL": "2017-01-30",
                                    "MEDDIG": "2017-02-03",
                                    "FELNOTT_SZAM": "1",
                                    "GYERMEK_SZAM": "1"
                                },
                                {
                                    "FOGLALAS_PK": "1486",
                                    "UGYFEL_FK": "JANOSG",
                                    "SZOBA_FK": "99",
                                    "METTOL": "2017-01-31",
                                    "MEDDIG": "2017-02-05",
                                    "FELNOTT_SZAM": "2",
                                    "GYERMEK_SZAM": "0"
                                },
                                {
                                    "FOGLALAS_PK": "1563",
                                    "UGYFEL_FK": "gusztav",
                                    "SZOBA_FK": "180",
                                    "METTOL": "2017-02-23",
                                    "MEDDIG": "2017-03-01",
                                    "FELNOTT_SZAM": "2",
                                    "GYERMEK_SZAM": "2"
                                },
                                {
                                    "FOGLALAS_PK": "1564",
                                    "UGYFEL_FK": "krisztian4",
                                    "SZOBA_FK": "94",
                                    "METTOL": "2017-02-23",
                                    "MEDDIG": "2017-03-02",
                                    "FELNOTT_SZAM": "1",
                                    "GYERMEK_SZAM": "1"
                                },
                                {
                                    "FOGLALAS_PK": "1567",
                                    "UGYFEL_FK": "maria1",
                                    "SZOBA_FK": "171",
                                    "METTOL": "2017-02-24",
                                    "MEDDIG": "2017-03-02",
                                    "FELNOTT_SZAM": "2",
                                    "GYERMEK_SZAM": "0"
                                },
                                {
                                    "FOGLALAS_PK": "1568",
                                    "UGYFEL_FK": "bernadett1",
                                    "SZOBA_FK": "29",
                                    "METTOL": "2017-02-24",
                                    "MEDDIG": "2017-03-03",
                                    "FELNOTT_SZAM": "1",
                                    "GYERMEK_SZAM": "0"
                                },
                                {
                                    "FOGLALAS_PK": "1569",
                                    "UGYFEL_FK": "JOZSEFG",
                                    "SZOBA_FK": "96",
                                    "METTOL": "2017-02-24",
                                    "MEDDIG": "2017-03-03",
                                    "FELNOTT_SZAM": "3",
                                    "GYERMEK_SZAM": "0"
                                },
                                {
                                    "FOGLALAS_PK": "1571",
                                    "UGYFEL_FK": "dani",
                                    "SZOBA_FK": "161",
                                    "METTOL": "2017-02-25",
                                    "MEDDIG": "2017-03-01",
                                    "FELNOTT_SZAM": "2",
                                    "GYERMEK_SZAM": "1"
                                },
                                {
                                    "FOGLALAS_PK": "1575",
                                    "UGYFEL_FK": "reka4",
                                    "SZOBA_FK": "88",
                                    "METTOL": "2017-02-26",
                                    "MEDDIG": "2017-03-04",
                                    "FELNOTT_SZAM": "1",
                                    "GYERMEK_SZAM": "1"
                                },
                                {
                                    "FOGLALAS_PK": "1576",
                                    "UGYFEL_FK": "norbert",
                                    "SZOBA_FK": "189",
                                    "METTOL": "2017-02-26",
                                    "MEDDIG": "2017-03-01",
                                    "FELNOTT_SZAM": "1",
                                    "GYERMEK_SZAM": "0"
                                },
                                {
                                    "FOGLALAS_PK": "1577",
                                    "UGYFEL_FK": "julia",
                                    "SZOBA_FK": "78",
                                    "METTOL": "2017-02-27",
                                    "MEDDIG": "2017-03-06",
                                    "FELNOTT_SZAM": "2",
                                    "GYERMEK_SZAM": "1"
                                },
                                {
                                    "FOGLALAS_PK": "1578",
                                    "UGYFEL_FK": "balazs2",
                                    "SZOBA_FK": "148",
                                    "METTOL": "2017-02-27",
                                    "MEDDIG": "2017-03-06",
                                    "FELNOTT_SZAM": "1",
                                    "GYERMEK_SZAM": "0"
                                },
                                {
                                    "FOGLALAS_PK": "1579",
                                    "UGYFEL_FK": "peter1",
                                    "SZOBA_FK": "127",
                                    "METTOL": "2017-02-28",
                                    "MEDDIG": "2017-03-05",
                                    "FELNOTT_SZAM": "2",
                                    "GYERMEK_SZAM": "1"
                                }
                            ]
                        },
                        "text/html": [
                            "<table>",
                            "<tr><th>FOGLALAS_PK</th><th>UGYFEL_FK</th><th>SZOBA_FK</th><th>METTOL</th><th>MEDDIG</th><th>FELNOTT_SZAM</th><th>GYERMEK_SZAM</th></tr>",
                            "<tr><td>600</td><td>ANDRASE</td><td>190</td><td>2016-04-24</td><td>2016-05-01</td><td>1</td><td>0</td></tr>",
                            "<tr><td>601</td><td>kata</td><td>39</td><td>2016-04-25</td><td>2016-05-01</td><td>1</td><td>0</td></tr>",
                            "<tr><td>602</td><td>sebestyen</td><td>17</td><td>2016-04-26</td><td>2016-05-02</td><td>3</td><td>1</td></tr>",
                            "<tr><td>605</td><td>marton</td><td>111</td><td>2016-04-27</td><td>2016-05-04</td><td>2</td><td>1</td></tr>",
                            "<tr><td>607</td><td>anett3</td><td>96</td><td>2016-04-28</td><td>2016-05-02</td><td>2</td><td>1</td></tr>",
                            "<tr><td>609</td><td>MONIKAM</td><td>9</td><td>2016-04-29</td><td>2016-05-01</td><td>2</td><td>0</td></tr>",
                            "<tr><td>610</td><td>VIKTORIAU</td><td>106</td><td>2016-04-30</td><td>2016-05-03</td><td>1</td><td>0</td></tr>",
                            "<tr><td>714</td><td>bence</td><td>73</td><td>2016-07-25</td><td>2016-08-01</td><td>2</td><td>1</td></tr>",
                            "<tr><td>718</td><td>SZILARDS</td><td>97</td><td>2016-07-27</td><td>2016-08-03</td><td>1</td><td>4</td></tr>",
                            "<tr><td>723</td><td>kati</td><td>129</td><td>2016-07-27</td><td>2016-08-03</td><td>2</td><td>0</td></tr>",
                            "<tr><td>724</td><td>norbert2</td><td>135</td><td>2016-07-27</td><td>2016-08-02</td><td>2</td><td>0</td></tr>",
                            "<tr><td>725</td><td>ANDREAT</td><td>28</td><td>2016-07-27</td><td>2016-08-01</td><td>2</td><td>0</td></tr>",
                            "<tr><td>731</td><td>andras41</td><td>181</td><td>2016-07-28</td><td>2016-08-03</td><td>3</td><td>0</td></tr>",
                            "<tr><td>732</td><td>krisztian4</td><td>91</td><td>2016-07-28</td><td>2016-08-01</td><td>1</td><td>1</td></tr>",
                            "<tr><td>734</td><td>GYORGYO</td><td>55</td><td>2016-07-28</td><td>2016-08-03</td><td>1</td><td>2</td></tr>",
                            "<tr><td>735</td><td>SZABOLCSM</td><td>121</td><td>2016-07-28</td><td>2016-08-03</td><td>2</td><td>0</td></tr>",
                            "<tr><td>736</td><td>AGNESK</td><td>66</td><td>2016-07-29</td><td>2016-08-01</td><td>2</td><td>1</td></tr>",
                            "<tr><td>738</td><td>agnes</td><td>1</td><td>2016-07-30</td><td>2016-08-06</td><td>3</td><td>0</td></tr>",
                            "<tr><td>739</td><td>ROBERTP</td><td>121</td><td>2016-07-30</td><td>2016-08-05</td><td>2</td><td>0</td></tr>",
                            "<tr><td>740</td><td>zsuzsa3</td><td>182</td><td>2016-07-30</td><td>2016-08-02</td><td>2</td><td>0</td></tr>",
                            "<tr><td>741</td><td>SEBASTIANF</td><td>93</td><td>2016-07-30</td><td>2016-08-06</td><td>3</td><td>1</td></tr>",
                            "<tr><td>742</td><td>ilona3</td><td>164</td><td>2016-07-31</td><td>2016-08-06</td><td>1</td><td>1</td></tr>",
                            "<tr><td>743</td><td>zsolt1</td><td>187</td><td>2016-07-31</td><td>2016-08-02</td><td>2</td><td>0</td></tr>",
                            "<tr><td>827</td><td>ANIKOS</td><td>114</td><td>2016-08-26</td><td>2016-09-02</td><td>1</td><td>1</td></tr>",
                            "<tr><td>831</td><td>georgij</td><td>177</td><td>2016-08-28</td><td>2016-09-04</td><td>1</td><td>1</td></tr>",
                            "<tr><td>832</td><td>brigitta</td><td>8</td><td>2016-08-28</td><td>2016-09-01</td><td>2</td><td>1</td></tr>",
                            "<tr><td>834</td><td>krisztian4</td><td>149</td><td>2016-08-29</td><td>2016-09-03</td><td>1</td><td>0</td></tr>",
                            "<tr><td>837</td><td>andras3</td><td>104</td><td>2016-08-29</td><td>2016-09-02</td><td>3</td><td>0</td></tr>",
                            "<tr><td>839</td><td>MIHALYJ</td><td>172</td><td>2016-08-29</td><td>2016-09-03</td><td>1</td><td>0</td></tr>",
                            "<tr><td>840</td><td>JANOSG</td><td>158</td><td>2016-08-30</td><td>2016-09-03</td><td>2</td><td>1</td></tr>",
                            "<tr><td>841</td><td>gabor4</td><td>92</td><td>2016-08-31</td><td>2016-09-06</td><td>3</td><td>1</td></tr>",
                            "<tr><td>842</td><td>EVAV</td><td>195</td><td>2016-08-31</td><td>2016-09-04</td><td>2</td><td>0</td></tr>",
                            "<tr><td>863</td><td>balazs2</td><td>185</td><td>2016-05-28</td><td>2016-06-01</td><td>2</td><td>1</td></tr>",
                            "<tr><td>864</td><td>maria1</td><td>118</td><td>2016-05-28</td><td>2016-06-03</td><td>2</td><td>0</td></tr>",
                            "<tr><td>865</td><td>polla</td><td>51</td><td>2016-05-28</td><td>2016-06-04</td><td>2</td><td>0</td></tr>",
                            "<tr><td>867</td><td>ZSOLTJ</td><td>175</td><td>2016-05-28</td><td>2016-06-03</td><td>1</td><td>0</td></tr>",
                            "<tr><td>868</td><td>ZSUZSAV</td><td>187</td><td>2016-05-28</td><td>2016-06-01</td><td>3</td><td>1</td></tr>",
                            "<tr><td>869</td><td>adam1</td><td>83</td><td>2016-05-28</td><td>2016-06-03</td><td>3</td><td>0</td></tr>",
                            "<tr><td>870</td><td>szilvia1</td><td>34</td><td>2016-05-28</td><td>2016-06-03</td><td>1</td><td>1</td></tr>",
                            "<tr><td>871</td><td>norbert4</td><td>82</td><td>2016-05-29</td><td>2016-06-03</td><td>3</td><td>0</td></tr>",
                            "<tr><td>872</td><td>bence</td><td>28</td><td>2016-05-29</td><td>2016-06-03</td><td>1</td><td>0</td></tr>",
                            "<tr><td>873</td><td>ARPADM</td><td>6</td><td>2016-05-29</td><td>2016-06-01</td><td>2</td><td>0</td></tr>",
                            "<tr><td>874</td><td>ESZTERE</td><td>67</td><td>2016-05-30</td><td>2016-06-05</td><td>2</td><td>0</td></tr>",
                            "<tr><td>875</td><td>MIHALYJ</td><td>64</td><td>2016-05-30</td><td>2016-06-01</td><td>2</td><td>0</td></tr>",
                            "<tr><td>876</td><td>brigitta</td><td>12</td><td>2016-05-30</td><td>2016-06-06</td><td>1</td><td>2</td></tr>",
                            "<tr><td>877</td><td>nikoletta4</td><td>74</td><td>2016-05-30</td><td>2016-06-03</td><td>3</td><td>0</td></tr>",
                            "<tr><td>878</td><td>gabor4</td><td>83</td><td>2016-05-30</td><td>2016-06-05</td><td>1</td><td>0</td></tr>",
                            "<tr><td>879</td><td>VIKTORK</td><td>127</td><td>2016-05-30</td><td>2016-06-01</td><td>2</td><td>0</td></tr>",
                            "<tr><td>880</td><td>andras3</td><td>184</td><td>2016-05-30</td><td>2016-06-03</td><td>1</td><td>0</td></tr>",
                            "<tr><td>881</td><td>tihamer</td><td>131</td><td>2016-05-30</td><td>2016-06-05</td><td>1</td><td>0</td></tr>",
                            "<tr><td>883</td><td>veronika4</td><td>58</td><td>2016-05-30</td><td>2016-06-04</td><td>1</td><td>1</td></tr>",
                            "<tr><td>884</td><td>andras2</td><td>98</td><td>2016-05-30</td><td>2016-06-04</td><td>1</td><td>0</td></tr>",
                            "<tr><td>885</td><td>kata</td><td>69</td><td>2016-05-31</td><td>2016-06-01</td><td>3</td><td>0</td></tr>",
                            "<tr><td>990</td><td>MIHALYJ</td><td>6</td><td>2016-06-27</td><td>2016-07-01</td><td>1</td><td>0</td></tr>",
                            "<tr><td>991</td><td>TAMASF</td><td>178</td><td>2016-06-28</td><td>2016-07-05</td><td>1</td><td>2</td></tr>",
                            "<tr><td>992</td><td>nikoletta4</td><td>103</td><td>2016-06-29</td><td>2016-07-06</td><td>2</td><td>0</td></tr>",
                            "<tr><td>993</td><td>eszter2</td><td>197</td><td>2016-06-30</td><td>2016-07-07</td><td>3</td><td>0</td></tr>",
                            "<tr><td>994</td><td>david</td><td>118</td><td>2016-06-30</td><td>2016-07-07</td><td>1</td><td>1</td></tr>",
                            "<tr><td>995</td><td>peter3</td><td>83</td><td>2016-06-30</td><td>2016-07-05</td><td>3</td><td>0</td></tr>",
                            "<tr><td>1081</td><td>veronika4</td><td>62</td><td>2016-09-26</td><td>2016-10-03</td><td>1</td><td>1</td></tr>",
                            "<tr><td>1082</td><td>MARKH</td><td>27</td><td>2016-09-26</td><td>2016-10-01</td><td>1</td><td>3</td></tr>",
                            "<tr><td>1085</td><td>anita</td><td>113</td><td>2016-09-28</td><td>2016-10-02</td><td>3</td><td>1</td></tr>",
                            "<tr><td>1086</td><td>zsuzsa3</td><td>55</td><td>2016-09-28</td><td>2016-10-03</td><td>1</td><td>1</td></tr>",
                            "<tr><td>1087</td><td>ISTVANV</td><td>144</td><td>2016-09-29</td><td>2016-10-01</td><td>3</td><td>0</td></tr>",
                            "<tr><td>1088</td><td>fruzsina4</td><td>43</td><td>2016-09-29</td><td>2016-10-01</td><td>3</td><td>0</td></tr>",
                            "<tr><td>1089</td><td>reka4</td><td>120</td><td>2016-09-30</td><td>2016-10-06</td><td>1</td><td>1</td></tr>",
                            "<tr><td>1090</td><td>attila</td><td>132</td><td>2016-09-30</td><td>2016-10-07</td><td>1</td><td>2</td></tr>",
                            "<tr><td>1091</td><td>zoltan4</td><td>197</td><td>2016-09-30</td><td>2016-10-07</td><td>3</td><td>0</td></tr>",
                            "<tr><td>1092</td><td>andras2</td><td>70</td><td>2016-09-30</td><td>2016-10-03</td><td>2</td><td>0</td></tr>",
                            "<tr><td>1093</td><td>peter4</td><td>74</td><td>2016-09-30</td><td>2016-10-06</td><td>2</td><td>1</td></tr>",
                            "<tr><td>1094</td><td>andras41</td><td>175</td><td>2016-09-30</td><td>2016-10-05</td><td>1</td><td>1</td></tr>",
                            "<tr><td>1095</td><td>kriszti</td><td>194</td><td>2016-09-30</td><td>2016-10-05</td><td>2</td><td>1</td></tr>",
                            "<tr><td>1096</td><td>kristof4</td><td>54</td><td>2016-09-30</td><td>2016-10-04</td><td>2</td><td>0</td></tr>",
                            "<tr><td>1193</td><td>eszter</td><td>143</td><td>2016-10-26</td><td>2016-11-01</td><td>2</td><td>1</td></tr>",
                            "<tr><td>1195</td><td>sebestyen</td><td>22</td><td>2016-10-26</td><td>2016-11-01</td><td>1</td><td>4</td></tr>",
                            "<tr><td>1197</td><td>ROBERTI</td><td>152</td><td>2016-10-26</td><td>2016-11-01</td><td>2</td><td>0</td></tr>",
                            "<tr><td>1199</td><td>VIKTORIAU</td><td>144</td><td>2016-10-26</td><td>2016-11-02</td><td>2</td><td>2</td></tr>",
                            "<tr><td>1200</td><td>bernadett1</td><td>49</td><td>2016-10-26</td><td>2016-11-02</td><td>3</td><td>0</td></tr>",
                            "<tr><td>1201</td><td>peter1</td><td>137</td><td>2016-10-26</td><td>2016-11-01</td><td>1</td><td>2</td></tr>",
                            "<tr><td>1205</td><td>adam4</td><td>162</td><td>2016-10-27</td><td>2016-11-02</td><td>3</td><td>0</td></tr>",
                            "<tr><td>1206</td><td>zsuzsa3</td><td>22</td><td>2016-10-27</td><td>2016-11-03</td><td>1</td><td>3</td></tr>",
                            "<tr><td>1208</td><td>SZABOLCSM</td><td>58</td><td>2016-10-28</td><td>2016-11-03</td><td>2</td><td>1</td></tr>",
                            "<tr><td>1210</td><td>bernadett1</td><td>124</td><td>2016-10-28</td><td>2016-11-01</td><td>3</td><td>0</td></tr>",
                            "<tr><td>1212</td><td>sara</td><td>21</td><td>2016-10-28</td><td>2016-11-03</td><td>2</td><td>0</td></tr>",
                            "<tr><td>1214</td><td>debora</td><td>39</td><td>2016-10-29</td><td>2016-11-03</td><td>1</td><td>1</td></tr>",
                            "<tr><td>1215</td><td>dora3</td><td>121</td><td>2016-10-29</td><td>2016-11-02</td><td>2</td><td>1</td></tr>",
                            "<tr><td>1216</td><td>ANIKOS</td><td>198</td><td>2016-10-29</td><td>2016-11-05</td><td>1</td><td>2</td></tr>",
                            "<tr><td>1219</td><td>attila1</td><td>134</td><td>2016-10-30</td><td>2016-11-05</td><td>1</td><td>1</td></tr>",
                            "<tr><td>1220</td><td>bence</td><td>9</td><td>2016-10-30</td><td>2016-11-02</td><td>2</td><td>2</td></tr>",
                            "<tr><td>1221</td><td>kati</td><td>49</td><td>2016-10-30</td><td>2016-11-01</td><td>3</td><td>0</td></tr>",
                            "<tr><td>1222</td><td>peter4</td><td>143</td><td>2016-10-30</td><td>2016-11-01</td><td>3</td><td>0</td></tr>",
                            "<tr><td>1225</td><td>AGNESH</td><td>69</td><td>2016-10-30</td><td>2016-11-04</td><td>1</td><td>0</td></tr>",
                            "<tr><td>1226</td><td>MATYASS</td><td>127</td><td>2016-10-30</td><td>2016-11-04</td><td>1</td><td>2</td></tr>",
                            "<tr><td>1227</td><td>david</td><td>43</td><td>2016-10-30</td><td>2016-11-04</td><td>2</td><td>0</td></tr>",
                            "<tr><td>1228</td><td>peter3</td><td>106</td><td>2016-10-30</td><td>2016-11-06</td><td>2</td><td>0</td></tr>",
                            "<tr><td>1229</td><td>bernadett2</td><td>79</td><td>2016-10-30</td><td>2016-11-06</td><td>3</td><td>0</td></tr>",
                            "<tr><td>1230</td><td>zoltan4</td><td>182</td><td>2016-10-30</td><td>2016-11-06</td><td>1</td><td>0</td></tr>",
                            "<tr><td>1231</td><td>ATTILAO</td><td>182</td><td>2016-10-30</td><td>2016-11-03</td><td>2</td><td>0</td></tr>",
                            "<tr><td>1232</td><td>andrea4</td><td>55</td><td>2016-10-30</td><td>2016-11-06</td><td>1</td><td>2</td></tr>",
                            "<tr><td>1233</td><td>norbert2</td><td>64</td><td>2016-10-31</td><td>2016-11-07</td><td>1</td><td>1</td></tr>",
                            "<tr><td>1319</td><td>ANDRASN</td><td>10</td><td>2016-11-25</td><td>2016-12-01</td><td>2</td><td>0</td></tr>",
                            "<tr><td>1323</td><td>julianna4</td><td>191</td><td>2016-11-27</td><td>2016-12-04</td><td>2</td><td>1</td></tr>",
                            "<tr><td>1324</td><td>timea2</td><td>68</td><td>2016-11-27</td><td>2016-12-01</td><td>2</td><td>2</td></tr>",
                            "<tr><td>1325</td><td>katalin4</td><td>70</td><td>2016-11-27</td><td>2016-12-04</td><td>2</td><td>1</td></tr>",
                            "<tr><td>1326</td><td>BENCEB</td><td>182</td><td>2016-11-28</td><td>2016-12-02</td><td>2</td><td>0</td></tr>",
                            "<tr><td>1327</td><td>zsuzsa</td><td>55</td><td>2016-11-28</td><td>2016-12-04</td><td>1</td><td>2</td></tr>",
                            "<tr><td>1328</td><td>andras3</td><td>54</td><td>2016-11-28</td><td>2016-12-02</td><td>2</td><td>0</td></tr>",
                            "<tr><td>1329</td><td>LASZLON</td><td>171</td><td>2016-11-29</td><td>2016-12-04</td><td>1</td><td>0</td></tr>",
                            "<tr><td>1330</td><td>ANDRASE</td><td>124</td><td>2016-11-29</td><td>2016-12-06</td><td>1</td><td>2</td></tr>",
                            "<tr><td>1331</td><td>sandor4</td><td>73</td><td>2016-11-29</td><td>2016-12-03</td><td>2</td><td>0</td></tr>",
                            "<tr><td>1332</td><td>alexandra</td><td>101</td><td>2016-11-29</td><td>2016-12-05</td><td>1</td><td>1</td></tr>",
                            "<tr><td>1333</td><td>norbert4</td><td>70</td><td>2016-11-30</td><td>2016-12-06</td><td>2</td><td>1</td></tr>",
                            "<tr><td>1475</td><td>eszter4</td><td>130</td><td>2017-01-26</td><td>2017-02-02</td><td>2</td><td>0</td></tr>",
                            "<tr><td>1477</td><td>BERNADETTO</td><td>51</td><td>2017-01-28</td><td>2017-02-03</td><td>1</td><td>1</td></tr>",
                            "<tr><td>1478</td><td>andras21</td><td>38</td><td>2017-01-28</td><td>2017-02-01</td><td>2</td><td>0</td></tr>",
                            "<tr><td>1479</td><td>szilvia1</td><td>146</td><td>2017-01-28</td><td>2017-02-03</td><td>1</td><td>1</td></tr>",
                            "<tr><td>1481</td><td>polla</td><td>118</td><td>2017-01-29</td><td>2017-02-01</td><td>1</td><td>1</td></tr>",
                            "<tr><td>1482</td><td>norbert2</td><td>100</td><td>2017-01-29</td><td>2017-02-05</td><td>1</td><td>2</td></tr>",
                            "<tr><td>1485</td><td>ARONK</td><td>103</td><td>2017-01-30</td><td>2017-02-03</td><td>1</td><td>1</td></tr>",
                            "<tr><td>1486</td><td>JANOSG</td><td>99</td><td>2017-01-31</td><td>2017-02-05</td><td>2</td><td>0</td></tr>",
                            "<tr><td>1563</td><td>gusztav</td><td>180</td><td>2017-02-23</td><td>2017-03-01</td><td>2</td><td>2</td></tr>",
                            "<tr><td>1564</td><td>krisztian4</td><td>94</td><td>2017-02-23</td><td>2017-03-02</td><td>1</td><td>1</td></tr>",
                            "<tr><td>1567</td><td>maria1</td><td>171</td><td>2017-02-24</td><td>2017-03-02</td><td>2</td><td>0</td></tr>",
                            "<tr><td>1568</td><td>bernadett1</td><td>29</td><td>2017-02-24</td><td>2017-03-03</td><td>1</td><td>0</td></tr>",
                            "<tr><td>1569</td><td>JOZSEFG</td><td>96</td><td>2017-02-24</td><td>2017-03-03</td><td>3</td><td>0</td></tr>",
                            "<tr><td>1571</td><td>dani</td><td>161</td><td>2017-02-25</td><td>2017-03-01</td><td>2</td><td>1</td></tr>",
                            "<tr><td>1575</td><td>reka4</td><td>88</td><td>2017-02-26</td><td>2017-03-04</td><td>1</td><td>1</td></tr>",
                            "<tr><td>1576</td><td>norbert</td><td>189</td><td>2017-02-26</td><td>2017-03-01</td><td>1</td><td>0</td></tr>",
                            "<tr><td>1577</td><td>julia</td><td>78</td><td>2017-02-27</td><td>2017-03-06</td><td>2</td><td>1</td></tr>",
                            "<tr><td>1578</td><td>balazs2</td><td>148</td><td>2017-02-27</td><td>2017-03-06</td><td>1</td><td>0</td></tr>",
                            "<tr><td>1579</td><td>peter1</td><td>127</td><td>2017-02-28</td><td>2017-03-05</td><td>2</td><td>1</td></tr>",
                            "</table>"
                        ]
                    }
                }
            ],
            "execution_count": 24
        },
        {
            "cell_type": "code",
            "source": [
                "SELECT szh.TIPUS,\r\n",
                "        round(count(SZALLAS_ID), -2)\r\n",
                "FROM Foglalas f JOIN Szoba sz on sz.SZOBA_ID = f.SZOBA_FK\r\n",
                "                JOIN Szallashely szh on szh.SZALLAS_ID = sz.SZALLAS_FK\r\n",
                "GROUP BY szh.TIPUS \r\n",
                "HAVING round(count(SZALLAS_ID), -2) < 500\r\n",
                ""
            ],
            "metadata": {
                "azdata_cell_guid": "cad4d4fd-f688-45ea-9f0a-4c44c91a05fb",
                "language": "sql"
            },
            "outputs": [
{
    "output_type": "display_data",
    "data": {
        "text/html": "(3 rows affected)"
    },
    "metadata": {}
}, {
    "output_type": "display_data",
    "data": {
        "text/html": "Total execution time: 00:00:00.015"
    },
    "metadata": {}
}, {
    "output_type": "execute_result",
    "metadata": {},
    "execution_count": 33,
    "data": {
        "application/vnd.dataresource+json": {
            "schema": {
                "fields": [
                    {
                        "name": "TIPUS"
                    },
                    {
                        "name": "(No column name)"
                    }
                ]
            },
            "data": [
                {
                    "TIPUS": "Apartman",
                    "(No column name)": "100"
                },
                {
                    "TIPUS": "vendégház",
                    "(No column name)": "100"
                },
                {
                    "TIPUS": "panzió",
                    "(No column name)": "200"
                }
            ]
        },
        "text/html": [
            "<table>",
            "<tr><th>TIPUS</th><th>(No column name)</th></tr>",
            "<tr><td>Apartman</td><td>100</td></tr>",
            "<tr><td>vendégház</td><td>100</td></tr>",
            "<tr><td>panzió</td><td>200</td></tr>",
            "</table>"
        ]
    }
}
],
            "execution_count": 33
        }
    ]
}