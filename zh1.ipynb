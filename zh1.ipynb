{
    "metadata": {
        "kernelspec": {
            "name": "SQL",
            "display_name": "SQL",
            "language": "sql"
        },
        "language_info": {
            "name": "sql",
            "version": ""
        }
    },
    "nbformat_minor": 2,
    "nbformat": 4,
    "cells": [
        {
            "cell_type": "code",
            "source": [
                "SELECT COUNT(*) AS 'Foglalások száma'\r\n",
                "FROM Foglalas\r\n",
                "WHERE YEAR(mettol) = YEAR(meddig)\r\n",
                "\r\n",
                "INTERSECT\r\n",
                "\r\n",
                "SELECT COUNT(*) AS 'Foglalások száma'\r\n",
                "FROM Foglalas\r\n",
                "WHERE MONTH(mettol) <> MONTH(meddig)\r\n",
                "\r\n",
                ""
            ],
            "metadata": {
                "azdata_cell_guid": "a585852f-61d7-443d-b197-377354c7dc04",
                "language": "sql"
            },
            "outputs": [
{
    "output_type": "display_data",
    "data": {
        "text/html": "(0 rows affected)"
    },
    "metadata": {}
}, {
    "output_type": "display_data",
    "data": {
        "text/html": "Total execution time: 00:00:00.003"
    },
    "metadata": {}
}, {
    "output_type": "execute_result",
    "metadata": {},
    "execution_count": 20,
    "data": {
        "application/vnd.dataresource+json": {
            "schema": {
                "fields": [
                    {
                        "name": "Foglalások száma"
                    }
                ]
            },
            "data": []
        },
        "text/html": [
            "<table>",
            "<tr><th>Foglalások száma</th></tr>",
            "</table>"
        ]
    }
}
],
            "execution_count": 20
        }
    ]
}